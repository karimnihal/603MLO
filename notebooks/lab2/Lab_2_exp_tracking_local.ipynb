{
 "cells": [
  {
   "attachments": {},
   "cell_type": "markdown",
   "metadata": {},
   "source": [
    "# Experiment Tracking with MLFlow (Local)\n",
    "\n",
    "In this demo we will see how to use MLFlow for tracking experiments, using a toy data set. In the attached lab (below), you will download a larger dataset and attempt to train the best model that you can.\n",
    "\n",
    "We should first install mlflow, and add it to the requirements.txt file if not done already.\n",
    "\n",
    "`pip install mlflow` or `python3 -m pip install mlflow`.\n",
    "\n",
    "You may also need to `pip install setuptools`.\n",
    "\n",
    "From here, make sure to save this notebook in a specific folder, and ensure you run all command line commands from the same folder."
   ]
  },
  {
   "cell_type": "code",
   "execution_count": 1,
   "metadata": {},
   "outputs": [],
   "source": [
    "import mlflow\n",
    "import pandas as pd\n",
    "from sklearn.tree import DecisionTreeClassifier\n",
    "from sklearn.datasets import load_wine\n",
    "from sklearn.metrics import accuracy_score"
   ]
  },
  {
   "attachments": {},
   "cell_type": "markdown",
   "metadata": {},
   "source": [
    "After loading the libraries, we can first check the mlflow version you have. And, just for fun, let's look at the mlflow UI by running `mlflow ui`. After this, we should do two things:\n",
    "- set the tracking uri\n",
    "- create or set the experiment\n",
    "\n",
    "Setting the tracking uri tells mlflow where to save the results of our experiments. We will first save these locally in a sqlite instance. In a future lab we will set up mlflow to run in GCP.\n",
    "\n",
    "If you've already created an experiment previously that you'd like to use, you can tell mlflow by setting the experiment. You can also use `set_experiment` even if the experiment has not yet been created - mlflow will first check if the experiment exists, and if not, it will create it for you. "
   ]
  },
  {
   "cell_type": "code",
   "execution_count": 2,
   "metadata": {},
   "outputs": [
    {
     "data": {
      "text/plain": [
       "'2.15.1'"
      ]
     },
     "execution_count": 2,
     "metadata": {},
     "output_type": "execute_result"
    }
   ],
   "source": [
    "mlflow.__version__"
   ]
  },
  {
   "attachments": {},
   "cell_type": "markdown",
   "metadata": {},
   "source": [
    "Running the below code will create a sqlite database and an mlruns folder in the current directory."
   ]
  },
  {
   "cell_type": "code",
   "execution_count": 3,
   "metadata": {},
   "outputs": [
    {
     "name": "stderr",
     "output_type": "stream",
     "text": [
      "2025/04/17 09:55:14 INFO mlflow.tracking.fluent: Experiment with name 'demo-experiment' does not exist. Creating a new experiment.\n"
     ]
    },
    {
     "data": {
      "text/plain": [
       "<Experiment: artifact_location='mlflow-artifacts:/1', creation_time=1744908915227, experiment_id='1', last_update_time=1744908915227, lifecycle_stage='active', name='demo-experiment', tags={}>"
      ]
     },
     "execution_count": 3,
     "metadata": {},
     "output_type": "execute_result"
    }
   ],
   "source": [
    "mlflow.set_tracking_uri('https://mlflow-server-931658252548.us-west2.run.app')\n",
    "mlflow.set_experiment('demo-experiment')"
   ]
  },
  {
   "attachments": {},
   "cell_type": "markdown",
   "metadata": {},
   "source": [
    "From here, we can load the wine data from sklearn and take a look at it. Then let's play around with some models, without using mlflow for now, to get a sense of why mlflow might come in handy."
   ]
  },
  {
   "cell_type": "code",
   "execution_count": 4,
   "metadata": {},
   "outputs": [
    {
     "data": {
      "text/html": [
       "<div>\n",
       "<style scoped>\n",
       "    .dataframe tbody tr th:only-of-type {\n",
       "        vertical-align: middle;\n",
       "    }\n",
       "\n",
       "    .dataframe tbody tr th {\n",
       "        vertical-align: top;\n",
       "    }\n",
       "\n",
       "    .dataframe thead th {\n",
       "        text-align: right;\n",
       "    }\n",
       "</style>\n",
       "<table border=\"1\" class=\"dataframe\">\n",
       "  <thead>\n",
       "    <tr style=\"text-align: right;\">\n",
       "      <th></th>\n",
       "      <th>alcohol</th>\n",
       "      <th>malic_acid</th>\n",
       "      <th>ash</th>\n",
       "      <th>alcalinity_of_ash</th>\n",
       "      <th>magnesium</th>\n",
       "      <th>total_phenols</th>\n",
       "      <th>flavanoids</th>\n",
       "      <th>nonflavanoid_phenols</th>\n",
       "      <th>proanthocyanins</th>\n",
       "      <th>color_intensity</th>\n",
       "      <th>hue</th>\n",
       "      <th>od280/od315_of_diluted_wines</th>\n",
       "      <th>proline</th>\n",
       "    </tr>\n",
       "  </thead>\n",
       "  <tbody>\n",
       "    <tr>\n",
       "      <th>0</th>\n",
       "      <td>14.23</td>\n",
       "      <td>1.71</td>\n",
       "      <td>2.43</td>\n",
       "      <td>15.6</td>\n",
       "      <td>127.0</td>\n",
       "      <td>2.80</td>\n",
       "      <td>3.06</td>\n",
       "      <td>0.28</td>\n",
       "      <td>2.29</td>\n",
       "      <td>5.64</td>\n",
       "      <td>1.04</td>\n",
       "      <td>3.92</td>\n",
       "      <td>1065.0</td>\n",
       "    </tr>\n",
       "    <tr>\n",
       "      <th>1</th>\n",
       "      <td>13.20</td>\n",
       "      <td>1.78</td>\n",
       "      <td>2.14</td>\n",
       "      <td>11.2</td>\n",
       "      <td>100.0</td>\n",
       "      <td>2.65</td>\n",
       "      <td>2.76</td>\n",
       "      <td>0.26</td>\n",
       "      <td>1.28</td>\n",
       "      <td>4.38</td>\n",
       "      <td>1.05</td>\n",
       "      <td>3.40</td>\n",
       "      <td>1050.0</td>\n",
       "    </tr>\n",
       "    <tr>\n",
       "      <th>2</th>\n",
       "      <td>13.16</td>\n",
       "      <td>2.36</td>\n",
       "      <td>2.67</td>\n",
       "      <td>18.6</td>\n",
       "      <td>101.0</td>\n",
       "      <td>2.80</td>\n",
       "      <td>3.24</td>\n",
       "      <td>0.30</td>\n",
       "      <td>2.81</td>\n",
       "      <td>5.68</td>\n",
       "      <td>1.03</td>\n",
       "      <td>3.17</td>\n",
       "      <td>1185.0</td>\n",
       "    </tr>\n",
       "  </tbody>\n",
       "</table>\n",
       "</div>"
      ],
      "text/plain": [
       "   alcohol  malic_acid   ash  alcalinity_of_ash  magnesium  total_phenols  \\\n",
       "0    14.23        1.71  2.43               15.6      127.0           2.80   \n",
       "1    13.20        1.78  2.14               11.2      100.0           2.65   \n",
       "2    13.16        2.36  2.67               18.6      101.0           2.80   \n",
       "\n",
       "   flavanoids  nonflavanoid_phenols  proanthocyanins  color_intensity   hue  \\\n",
       "0        3.06                  0.28             2.29             5.64  1.04   \n",
       "1        2.76                  0.26             1.28             4.38  1.05   \n",
       "2        3.24                  0.30             2.81             5.68  1.03   \n",
       "\n",
       "   od280/od315_of_diluted_wines  proline  \n",
       "0                          3.92   1065.0  \n",
       "1                          3.40   1050.0  \n",
       "2                          3.17   1185.0  "
      ]
     },
     "execution_count": 4,
     "metadata": {},
     "output_type": "execute_result"
    }
   ],
   "source": [
    "wine = load_wine()\n",
    "df_wine = pd.DataFrame(data=wine.data, columns=wine.feature_names)\n",
    "df_wine.head(3)"
   ]
  },
  {
   "cell_type": "code",
   "execution_count": 5,
   "metadata": {},
   "outputs": [
    {
     "data": {
      "text/html": [
       "<style>#sk-container-id-1 {\n",
       "  /* Definition of color scheme common for light and dark mode */\n",
       "  --sklearn-color-text: black;\n",
       "  --sklearn-color-line: gray;\n",
       "  /* Definition of color scheme for unfitted estimators */\n",
       "  --sklearn-color-unfitted-level-0: #fff5e6;\n",
       "  --sklearn-color-unfitted-level-1: #f6e4d2;\n",
       "  --sklearn-color-unfitted-level-2: #ffe0b3;\n",
       "  --sklearn-color-unfitted-level-3: chocolate;\n",
       "  /* Definition of color scheme for fitted estimators */\n",
       "  --sklearn-color-fitted-level-0: #f0f8ff;\n",
       "  --sklearn-color-fitted-level-1: #d4ebff;\n",
       "  --sklearn-color-fitted-level-2: #b3dbfd;\n",
       "  --sklearn-color-fitted-level-3: cornflowerblue;\n",
       "\n",
       "  /* Specific color for light theme */\n",
       "  --sklearn-color-text-on-default-background: var(--sg-text-color, var(--theme-code-foreground, var(--jp-content-font-color1, black)));\n",
       "  --sklearn-color-background: var(--sg-background-color, var(--theme-background, var(--jp-layout-color0, white)));\n",
       "  --sklearn-color-border-box: var(--sg-text-color, var(--theme-code-foreground, var(--jp-content-font-color1, black)));\n",
       "  --sklearn-color-icon: #696969;\n",
       "\n",
       "  @media (prefers-color-scheme: dark) {\n",
       "    /* Redefinition of color scheme for dark theme */\n",
       "    --sklearn-color-text-on-default-background: var(--sg-text-color, var(--theme-code-foreground, var(--jp-content-font-color1, white)));\n",
       "    --sklearn-color-background: var(--sg-background-color, var(--theme-background, var(--jp-layout-color0, #111)));\n",
       "    --sklearn-color-border-box: var(--sg-text-color, var(--theme-code-foreground, var(--jp-content-font-color1, white)));\n",
       "    --sklearn-color-icon: #878787;\n",
       "  }\n",
       "}\n",
       "\n",
       "#sk-container-id-1 {\n",
       "  color: var(--sklearn-color-text);\n",
       "}\n",
       "\n",
       "#sk-container-id-1 pre {\n",
       "  padding: 0;\n",
       "}\n",
       "\n",
       "#sk-container-id-1 input.sk-hidden--visually {\n",
       "  border: 0;\n",
       "  clip: rect(1px 1px 1px 1px);\n",
       "  clip: rect(1px, 1px, 1px, 1px);\n",
       "  height: 1px;\n",
       "  margin: -1px;\n",
       "  overflow: hidden;\n",
       "  padding: 0;\n",
       "  position: absolute;\n",
       "  width: 1px;\n",
       "}\n",
       "\n",
       "#sk-container-id-1 div.sk-dashed-wrapped {\n",
       "  border: 1px dashed var(--sklearn-color-line);\n",
       "  margin: 0 0.4em 0.5em 0.4em;\n",
       "  box-sizing: border-box;\n",
       "  padding-bottom: 0.4em;\n",
       "  background-color: var(--sklearn-color-background);\n",
       "}\n",
       "\n",
       "#sk-container-id-1 div.sk-container {\n",
       "  /* jupyter's `normalize.less` sets `[hidden] { display: none; }`\n",
       "     but bootstrap.min.css set `[hidden] { display: none !important; }`\n",
       "     so we also need the `!important` here to be able to override the\n",
       "     default hidden behavior on the sphinx rendered scikit-learn.org.\n",
       "     See: https://github.com/scikit-learn/scikit-learn/issues/21755 */\n",
       "  display: inline-block !important;\n",
       "  position: relative;\n",
       "}\n",
       "\n",
       "#sk-container-id-1 div.sk-text-repr-fallback {\n",
       "  display: none;\n",
       "}\n",
       "\n",
       "div.sk-parallel-item,\n",
       "div.sk-serial,\n",
       "div.sk-item {\n",
       "  /* draw centered vertical line to link estimators */\n",
       "  background-image: linear-gradient(var(--sklearn-color-text-on-default-background), var(--sklearn-color-text-on-default-background));\n",
       "  background-size: 2px 100%;\n",
       "  background-repeat: no-repeat;\n",
       "  background-position: center center;\n",
       "}\n",
       "\n",
       "/* Parallel-specific style estimator block */\n",
       "\n",
       "#sk-container-id-1 div.sk-parallel-item::after {\n",
       "  content: \"\";\n",
       "  width: 100%;\n",
       "  border-bottom: 2px solid var(--sklearn-color-text-on-default-background);\n",
       "  flex-grow: 1;\n",
       "}\n",
       "\n",
       "#sk-container-id-1 div.sk-parallel {\n",
       "  display: flex;\n",
       "  align-items: stretch;\n",
       "  justify-content: center;\n",
       "  background-color: var(--sklearn-color-background);\n",
       "  position: relative;\n",
       "}\n",
       "\n",
       "#sk-container-id-1 div.sk-parallel-item {\n",
       "  display: flex;\n",
       "  flex-direction: column;\n",
       "}\n",
       "\n",
       "#sk-container-id-1 div.sk-parallel-item:first-child::after {\n",
       "  align-self: flex-end;\n",
       "  width: 50%;\n",
       "}\n",
       "\n",
       "#sk-container-id-1 div.sk-parallel-item:last-child::after {\n",
       "  align-self: flex-start;\n",
       "  width: 50%;\n",
       "}\n",
       "\n",
       "#sk-container-id-1 div.sk-parallel-item:only-child::after {\n",
       "  width: 0;\n",
       "}\n",
       "\n",
       "/* Serial-specific style estimator block */\n",
       "\n",
       "#sk-container-id-1 div.sk-serial {\n",
       "  display: flex;\n",
       "  flex-direction: column;\n",
       "  align-items: center;\n",
       "  background-color: var(--sklearn-color-background);\n",
       "  padding-right: 1em;\n",
       "  padding-left: 1em;\n",
       "}\n",
       "\n",
       "\n",
       "/* Toggleable style: style used for estimator/Pipeline/ColumnTransformer box that is\n",
       "clickable and can be expanded/collapsed.\n",
       "- Pipeline and ColumnTransformer use this feature and define the default style\n",
       "- Estimators will overwrite some part of the style using the `sk-estimator` class\n",
       "*/\n",
       "\n",
       "/* Pipeline and ColumnTransformer style (default) */\n",
       "\n",
       "#sk-container-id-1 div.sk-toggleable {\n",
       "  /* Default theme specific background. It is overwritten whether we have a\n",
       "  specific estimator or a Pipeline/ColumnTransformer */\n",
       "  background-color: var(--sklearn-color-background);\n",
       "}\n",
       "\n",
       "/* Toggleable label */\n",
       "#sk-container-id-1 label.sk-toggleable__label {\n",
       "  cursor: pointer;\n",
       "  display: block;\n",
       "  width: 100%;\n",
       "  margin-bottom: 0;\n",
       "  padding: 0.5em;\n",
       "  box-sizing: border-box;\n",
       "  text-align: center;\n",
       "}\n",
       "\n",
       "#sk-container-id-1 label.sk-toggleable__label-arrow:before {\n",
       "  /* Arrow on the left of the label */\n",
       "  content: \"▸\";\n",
       "  float: left;\n",
       "  margin-right: 0.25em;\n",
       "  color: var(--sklearn-color-icon);\n",
       "}\n",
       "\n",
       "#sk-container-id-1 label.sk-toggleable__label-arrow:hover:before {\n",
       "  color: var(--sklearn-color-text);\n",
       "}\n",
       "\n",
       "/* Toggleable content - dropdown */\n",
       "\n",
       "#sk-container-id-1 div.sk-toggleable__content {\n",
       "  max-height: 0;\n",
       "  max-width: 0;\n",
       "  overflow: hidden;\n",
       "  text-align: left;\n",
       "  /* unfitted */\n",
       "  background-color: var(--sklearn-color-unfitted-level-0);\n",
       "}\n",
       "\n",
       "#sk-container-id-1 div.sk-toggleable__content.fitted {\n",
       "  /* fitted */\n",
       "  background-color: var(--sklearn-color-fitted-level-0);\n",
       "}\n",
       "\n",
       "#sk-container-id-1 div.sk-toggleable__content pre {\n",
       "  margin: 0.2em;\n",
       "  border-radius: 0.25em;\n",
       "  color: var(--sklearn-color-text);\n",
       "  /* unfitted */\n",
       "  background-color: var(--sklearn-color-unfitted-level-0);\n",
       "}\n",
       "\n",
       "#sk-container-id-1 div.sk-toggleable__content.fitted pre {\n",
       "  /* unfitted */\n",
       "  background-color: var(--sklearn-color-fitted-level-0);\n",
       "}\n",
       "\n",
       "#sk-container-id-1 input.sk-toggleable__control:checked~div.sk-toggleable__content {\n",
       "  /* Expand drop-down */\n",
       "  max-height: 200px;\n",
       "  max-width: 100%;\n",
       "  overflow: auto;\n",
       "}\n",
       "\n",
       "#sk-container-id-1 input.sk-toggleable__control:checked~label.sk-toggleable__label-arrow:before {\n",
       "  content: \"▾\";\n",
       "}\n",
       "\n",
       "/* Pipeline/ColumnTransformer-specific style */\n",
       "\n",
       "#sk-container-id-1 div.sk-label input.sk-toggleable__control:checked~label.sk-toggleable__label {\n",
       "  color: var(--sklearn-color-text);\n",
       "  background-color: var(--sklearn-color-unfitted-level-2);\n",
       "}\n",
       "\n",
       "#sk-container-id-1 div.sk-label.fitted input.sk-toggleable__control:checked~label.sk-toggleable__label {\n",
       "  background-color: var(--sklearn-color-fitted-level-2);\n",
       "}\n",
       "\n",
       "/* Estimator-specific style */\n",
       "\n",
       "/* Colorize estimator box */\n",
       "#sk-container-id-1 div.sk-estimator input.sk-toggleable__control:checked~label.sk-toggleable__label {\n",
       "  /* unfitted */\n",
       "  background-color: var(--sklearn-color-unfitted-level-2);\n",
       "}\n",
       "\n",
       "#sk-container-id-1 div.sk-estimator.fitted input.sk-toggleable__control:checked~label.sk-toggleable__label {\n",
       "  /* fitted */\n",
       "  background-color: var(--sklearn-color-fitted-level-2);\n",
       "}\n",
       "\n",
       "#sk-container-id-1 div.sk-label label.sk-toggleable__label,\n",
       "#sk-container-id-1 div.sk-label label {\n",
       "  /* The background is the default theme color */\n",
       "  color: var(--sklearn-color-text-on-default-background);\n",
       "}\n",
       "\n",
       "/* On hover, darken the color of the background */\n",
       "#sk-container-id-1 div.sk-label:hover label.sk-toggleable__label {\n",
       "  color: var(--sklearn-color-text);\n",
       "  background-color: var(--sklearn-color-unfitted-level-2);\n",
       "}\n",
       "\n",
       "/* Label box, darken color on hover, fitted */\n",
       "#sk-container-id-1 div.sk-label.fitted:hover label.sk-toggleable__label.fitted {\n",
       "  color: var(--sklearn-color-text);\n",
       "  background-color: var(--sklearn-color-fitted-level-2);\n",
       "}\n",
       "\n",
       "/* Estimator label */\n",
       "\n",
       "#sk-container-id-1 div.sk-label label {\n",
       "  font-family: monospace;\n",
       "  font-weight: bold;\n",
       "  display: inline-block;\n",
       "  line-height: 1.2em;\n",
       "}\n",
       "\n",
       "#sk-container-id-1 div.sk-label-container {\n",
       "  text-align: center;\n",
       "}\n",
       "\n",
       "/* Estimator-specific */\n",
       "#sk-container-id-1 div.sk-estimator {\n",
       "  font-family: monospace;\n",
       "  border: 1px dotted var(--sklearn-color-border-box);\n",
       "  border-radius: 0.25em;\n",
       "  box-sizing: border-box;\n",
       "  margin-bottom: 0.5em;\n",
       "  /* unfitted */\n",
       "  background-color: var(--sklearn-color-unfitted-level-0);\n",
       "}\n",
       "\n",
       "#sk-container-id-1 div.sk-estimator.fitted {\n",
       "  /* fitted */\n",
       "  background-color: var(--sklearn-color-fitted-level-0);\n",
       "}\n",
       "\n",
       "/* on hover */\n",
       "#sk-container-id-1 div.sk-estimator:hover {\n",
       "  /* unfitted */\n",
       "  background-color: var(--sklearn-color-unfitted-level-2);\n",
       "}\n",
       "\n",
       "#sk-container-id-1 div.sk-estimator.fitted:hover {\n",
       "  /* fitted */\n",
       "  background-color: var(--sklearn-color-fitted-level-2);\n",
       "}\n",
       "\n",
       "/* Specification for estimator info (e.g. \"i\" and \"?\") */\n",
       "\n",
       "/* Common style for \"i\" and \"?\" */\n",
       "\n",
       ".sk-estimator-doc-link,\n",
       "a:link.sk-estimator-doc-link,\n",
       "a:visited.sk-estimator-doc-link {\n",
       "  float: right;\n",
       "  font-size: smaller;\n",
       "  line-height: 1em;\n",
       "  font-family: monospace;\n",
       "  background-color: var(--sklearn-color-background);\n",
       "  border-radius: 1em;\n",
       "  height: 1em;\n",
       "  width: 1em;\n",
       "  text-decoration: none !important;\n",
       "  margin-left: 1ex;\n",
       "  /* unfitted */\n",
       "  border: var(--sklearn-color-unfitted-level-1) 1pt solid;\n",
       "  color: var(--sklearn-color-unfitted-level-1);\n",
       "}\n",
       "\n",
       ".sk-estimator-doc-link.fitted,\n",
       "a:link.sk-estimator-doc-link.fitted,\n",
       "a:visited.sk-estimator-doc-link.fitted {\n",
       "  /* fitted */\n",
       "  border: var(--sklearn-color-fitted-level-1) 1pt solid;\n",
       "  color: var(--sklearn-color-fitted-level-1);\n",
       "}\n",
       "\n",
       "/* On hover */\n",
       "div.sk-estimator:hover .sk-estimator-doc-link:hover,\n",
       ".sk-estimator-doc-link:hover,\n",
       "div.sk-label-container:hover .sk-estimator-doc-link:hover,\n",
       ".sk-estimator-doc-link:hover {\n",
       "  /* unfitted */\n",
       "  background-color: var(--sklearn-color-unfitted-level-3);\n",
       "  color: var(--sklearn-color-background);\n",
       "  text-decoration: none;\n",
       "}\n",
       "\n",
       "div.sk-estimator.fitted:hover .sk-estimator-doc-link.fitted:hover,\n",
       ".sk-estimator-doc-link.fitted:hover,\n",
       "div.sk-label-container:hover .sk-estimator-doc-link.fitted:hover,\n",
       ".sk-estimator-doc-link.fitted:hover {\n",
       "  /* fitted */\n",
       "  background-color: var(--sklearn-color-fitted-level-3);\n",
       "  color: var(--sklearn-color-background);\n",
       "  text-decoration: none;\n",
       "}\n",
       "\n",
       "/* Span, style for the box shown on hovering the info icon */\n",
       ".sk-estimator-doc-link span {\n",
       "  display: none;\n",
       "  z-index: 9999;\n",
       "  position: relative;\n",
       "  font-weight: normal;\n",
       "  right: .2ex;\n",
       "  padding: .5ex;\n",
       "  margin: .5ex;\n",
       "  width: min-content;\n",
       "  min-width: 20ex;\n",
       "  max-width: 50ex;\n",
       "  color: var(--sklearn-color-text);\n",
       "  box-shadow: 2pt 2pt 4pt #999;\n",
       "  /* unfitted */\n",
       "  background: var(--sklearn-color-unfitted-level-0);\n",
       "  border: .5pt solid var(--sklearn-color-unfitted-level-3);\n",
       "}\n",
       "\n",
       ".sk-estimator-doc-link.fitted span {\n",
       "  /* fitted */\n",
       "  background: var(--sklearn-color-fitted-level-0);\n",
       "  border: var(--sklearn-color-fitted-level-3);\n",
       "}\n",
       "\n",
       ".sk-estimator-doc-link:hover span {\n",
       "  display: block;\n",
       "}\n",
       "\n",
       "/* \"?\"-specific style due to the `<a>` HTML tag */\n",
       "\n",
       "#sk-container-id-1 a.estimator_doc_link {\n",
       "  float: right;\n",
       "  font-size: 1rem;\n",
       "  line-height: 1em;\n",
       "  font-family: monospace;\n",
       "  background-color: var(--sklearn-color-background);\n",
       "  border-radius: 1rem;\n",
       "  height: 1rem;\n",
       "  width: 1rem;\n",
       "  text-decoration: none;\n",
       "  /* unfitted */\n",
       "  color: var(--sklearn-color-unfitted-level-1);\n",
       "  border: var(--sklearn-color-unfitted-level-1) 1pt solid;\n",
       "}\n",
       "\n",
       "#sk-container-id-1 a.estimator_doc_link.fitted {\n",
       "  /* fitted */\n",
       "  border: var(--sklearn-color-fitted-level-1) 1pt solid;\n",
       "  color: var(--sklearn-color-fitted-level-1);\n",
       "}\n",
       "\n",
       "/* On hover */\n",
       "#sk-container-id-1 a.estimator_doc_link:hover {\n",
       "  /* unfitted */\n",
       "  background-color: var(--sklearn-color-unfitted-level-3);\n",
       "  color: var(--sklearn-color-background);\n",
       "  text-decoration: none;\n",
       "}\n",
       "\n",
       "#sk-container-id-1 a.estimator_doc_link.fitted:hover {\n",
       "  /* fitted */\n",
       "  background-color: var(--sklearn-color-fitted-level-3);\n",
       "}\n",
       "</style><div id=\"sk-container-id-1\" class=\"sk-top-container\"><div class=\"sk-text-repr-fallback\"><pre>DecisionTreeClassifier(max_depth=4)</pre><b>In a Jupyter environment, please rerun this cell to show the HTML representation or trust the notebook. <br />On GitHub, the HTML representation is unable to render, please try loading this page with nbviewer.org.</b></div><div class=\"sk-container\" hidden><div class=\"sk-item\"><div class=\"sk-estimator fitted sk-toggleable\"><input class=\"sk-toggleable__control sk-hidden--visually\" id=\"sk-estimator-id-1\" type=\"checkbox\" checked><label for=\"sk-estimator-id-1\" class=\"sk-toggleable__label fitted sk-toggleable__label-arrow fitted\">&nbsp;&nbsp;DecisionTreeClassifier<a class=\"sk-estimator-doc-link fitted\" rel=\"noreferrer\" target=\"_blank\" href=\"https://scikit-learn.org/1.5/modules/generated/sklearn.tree.DecisionTreeClassifier.html\">?<span>Documentation for DecisionTreeClassifier</span></a><span class=\"sk-estimator-doc-link fitted\">i<span>Fitted</span></span></label><div class=\"sk-toggleable__content fitted\"><pre>DecisionTreeClassifier(max_depth=4)</pre></div> </div></div></div></div>"
      ],
      "text/plain": [
       "DecisionTreeClassifier(max_depth=4)"
      ]
     },
     "execution_count": 5,
     "metadata": {},
     "output_type": "execute_result"
    }
   ],
   "source": [
    "y = wine.target\n",
    "X = df_wine\n",
    "dt = DecisionTreeClassifier(max_depth=4)\n",
    "dt.fit(X, y)"
   ]
  },
  {
   "cell_type": "code",
   "execution_count": 6,
   "metadata": {},
   "outputs": [
    {
     "data": {
      "text/plain": [
       "0.9887640449438202"
      ]
     },
     "execution_count": 6,
     "metadata": {},
     "output_type": "execute_result"
    }
   ],
   "source": [
    "accuracy_score(y, dt.predict(df_wine))"
   ]
  },
  {
   "attachments": {},
   "cell_type": "markdown",
   "metadata": {},
   "source": [
    "## Train a Model Using MLFLow\n",
    "\n",
    "In this section, let's train a simple decision tree model, where we will now adjust the maximum depth (`max_depth`) of the tree, and save the results of each run of the experiment using mlflow. To do so, we need to tell mlflow to start recording. We do this with `start_run`. \n",
    "\n",
    "The things we might want to record in this simple case are:\n",
    "- the value of `max_depth`\n",
    "- the corresponding accuracy of the model\n",
    "\n",
    "We can also tag each run to make it easier to identify them later.\n",
    "\n",
    "After running the below code, be sure to check the mlflow UI by running the following in the terminal from the same directory as where you saved this notebook:\n",
    "\n",
    "`mlflow ui` note that just running this you will not see any of your experiments. You must specify the uri (the place where all of your results are being stored)\n",
    "\n",
    "`mlflow ui --backend-store-uri sqlite:///mlflow.db`"
   ]
  },
  {
   "cell_type": "code",
   "execution_count": 7,
   "metadata": {},
   "outputs": [
    {
     "name": "stderr",
     "output_type": "stream",
     "text": [
      "2025/04/17 09:55:26 INFO mlflow.tracking._tracking_service.client: 🏃 View run treasured-smelt-960 at: https://mlflow-server-931658252548.us-west2.run.app/#/experiments/1/runs/ba30859e62434af5927ee3579126a17f.\n",
      "2025/04/17 09:55:26 INFO mlflow.tracking._tracking_service.client: 🧪 View experiment at: https://mlflow-server-931658252548.us-west2.run.app/#/experiments/1.\n"
     ]
    }
   ],
   "source": [
    "with mlflow.start_run():\n",
    "    # log parameters and log metrics\n",
    "    # parameters: hyperparameters\n",
    "    # metrics: model performance metrics\n",
    "\n",
    "    mlflow.set_tags({\"Model\":\"decision-tree\", \"Train Data\": \"all-data\"})\n",
    "\n",
    "    tree_depth = 5\n",
    "    dt = DecisionTreeClassifier(max_depth=tree_depth)\n",
    "    dt.fit(X, y)\n",
    "    acc = accuracy_score(y, dt.predict(df_wine))\n",
    "\n",
    "    mlflow.log_param(\"max_depth\", tree_depth)\n",
    "    mlflow.log_metric(\"accuracy\", acc)\n",
    "\n",
    "mlflow.end_run()"
   ]
  },
  {
   "attachments": {},
   "cell_type": "markdown",
   "metadata": {},
   "source": [
    "Let's do it again, but this time we'll use a random forest, which has some other hyperparameters we can tune, which makes keeping track of things a little more complex without a tool like mlflow."
   ]
  },
  {
   "cell_type": "code",
   "execution_count": 8,
   "metadata": {},
   "outputs": [
    {
     "name": "stderr",
     "output_type": "stream",
     "text": [
      "2025/04/17 09:56:21 INFO mlflow.tracking._tracking_service.client: 🏃 View run spiffy-swan-53 at: https://mlflow-server-931658252548.us-west2.run.app/#/experiments/1/runs/48dce302695247109191a36830165f67.\n",
      "2025/04/17 09:56:21 INFO mlflow.tracking._tracking_service.client: 🧪 View experiment at: https://mlflow-server-931658252548.us-west2.run.app/#/experiments/1.\n"
     ]
    }
   ],
   "source": [
    "from sklearn.ensemble import RandomForestClassifier\n",
    "\n",
    "with mlflow.start_run():\n",
    "    mlflow.set_tags({\"Model\":\"random-forest\", \"Train Data\": \"all-data\"})\n",
    "\n",
    "    ntree = 1000\n",
    "    mtry = 4\n",
    "\n",
    "    mlflow.log_params({'n_estimators':ntree, 'max_features':mtry})\n",
    "\n",
    "    rf = RandomForestClassifier(n_estimators = ntree, max_features = mtry, oob_score = True)\n",
    "    rf.fit(X,y)\n",
    "    acc = rf.oob_score_\n",
    "    #acc = accuracy_score(y, rf.predict(X))\n",
    "    mlflow.log_metric('accuracy', acc)\n",
    "\n",
    "mlflow.end_run()"
   ]
  },
  {
   "attachments": {},
   "cell_type": "markdown",
   "metadata": {},
   "source": [
    "Typically, in a real-world scenario, you wouldn't change your parameter values manually and re-run your code, you would either use a loop to loop through different parameter values, or you'd use a built-in method for doing cross-validation, of which there are a few. First, let's use a simple loop to run the experiment multiple times, and save the results of each run."
   ]
  },
  {
   "cell_type": "code",
   "execution_count": 9,
   "metadata": {},
   "outputs": [
    {
     "name": "stderr",
     "output_type": "stream",
     "text": [
      "2025/04/17 09:56:24 INFO mlflow.tracking._tracking_service.client: 🏃 View run bedecked-panda-645 at: https://mlflow-server-931658252548.us-west2.run.app/#/experiments/1/runs/7199e39d7d3b4d2881b2d0b60ada6ffd.\n",
      "2025/04/17 09:56:24 INFO mlflow.tracking._tracking_service.client: 🧪 View experiment at: https://mlflow-server-931658252548.us-west2.run.app/#/experiments/1.\n",
      "2025/04/17 09:56:24 INFO mlflow.tracking._tracking_service.client: 🏃 View run serious-gnat-969 at: https://mlflow-server-931658252548.us-west2.run.app/#/experiments/1/runs/56fd31d5e2e2453e8cff190d8b215b3c.\n",
      "2025/04/17 09:56:24 INFO mlflow.tracking._tracking_service.client: 🧪 View experiment at: https://mlflow-server-931658252548.us-west2.run.app/#/experiments/1.\n",
      "2025/04/17 09:56:25 INFO mlflow.tracking._tracking_service.client: 🏃 View run luminous-whale-837 at: https://mlflow-server-931658252548.us-west2.run.app/#/experiments/1/runs/19173da4dd23485e884504a01b425b26.\n",
      "2025/04/17 09:56:25 INFO mlflow.tracking._tracking_service.client: 🧪 View experiment at: https://mlflow-server-931658252548.us-west2.run.app/#/experiments/1.\n",
      "2025/04/17 09:56:25 INFO mlflow.tracking._tracking_service.client: 🏃 View run gentle-goose-182 at: https://mlflow-server-931658252548.us-west2.run.app/#/experiments/1/runs/ec37fdd21a574e23b6f3b6c085784964.\n",
      "2025/04/17 09:56:25 INFO mlflow.tracking._tracking_service.client: 🧪 View experiment at: https://mlflow-server-931658252548.us-west2.run.app/#/experiments/1.\n",
      "2025/04/17 09:56:26 INFO mlflow.tracking._tracking_service.client: 🏃 View run lyrical-rook-298 at: https://mlflow-server-931658252548.us-west2.run.app/#/experiments/1/runs/5621f51cef8941999f320690df3b6db2.\n",
      "2025/04/17 09:56:26 INFO mlflow.tracking._tracking_service.client: 🧪 View experiment at: https://mlflow-server-931658252548.us-west2.run.app/#/experiments/1.\n",
      "2025/04/17 09:56:26 INFO mlflow.tracking._tracking_service.client: 🏃 View run learned-shrimp-705 at: https://mlflow-server-931658252548.us-west2.run.app/#/experiments/1/runs/278d0bd54f3c4a6e96fe81e6b9957236.\n",
      "2025/04/17 09:56:26 INFO mlflow.tracking._tracking_service.client: 🧪 View experiment at: https://mlflow-server-931658252548.us-west2.run.app/#/experiments/1.\n",
      "2025/04/17 09:56:27 INFO mlflow.tracking._tracking_service.client: 🏃 View run charming-moose-324 at: https://mlflow-server-931658252548.us-west2.run.app/#/experiments/1/runs/3ca87f5435ae48e7b3ecf4148ecd5e0a.\n",
      "2025/04/17 09:56:27 INFO mlflow.tracking._tracking_service.client: 🧪 View experiment at: https://mlflow-server-931658252548.us-west2.run.app/#/experiments/1.\n",
      "2025/04/17 09:56:27 INFO mlflow.tracking._tracking_service.client: 🏃 View run bustling-newt-779 at: https://mlflow-server-931658252548.us-west2.run.app/#/experiments/1/runs/ca3cad3f65c8422a88fe6838659b5afc.\n",
      "2025/04/17 09:56:27 INFO mlflow.tracking._tracking_service.client: 🧪 View experiment at: https://mlflow-server-931658252548.us-west2.run.app/#/experiments/1.\n",
      "2025/04/17 09:56:28 INFO mlflow.tracking._tracking_service.client: 🏃 View run nebulous-sheep-494 at: https://mlflow-server-931658252548.us-west2.run.app/#/experiments/1/runs/86e5b93d0dc74073a0629ff32dd673f5.\n",
      "2025/04/17 09:56:28 INFO mlflow.tracking._tracking_service.client: 🧪 View experiment at: https://mlflow-server-931658252548.us-west2.run.app/#/experiments/1.\n",
      "2025/04/17 09:56:28 INFO mlflow.tracking._tracking_service.client: 🏃 View run skittish-seal-288 at: https://mlflow-server-931658252548.us-west2.run.app/#/experiments/1/runs/9c7aab843492405db23bddca1933ac29.\n",
      "2025/04/17 09:56:28 INFO mlflow.tracking._tracking_service.client: 🧪 View experiment at: https://mlflow-server-931658252548.us-west2.run.app/#/experiments/1.\n",
      "2025/04/17 09:56:29 INFO mlflow.tracking._tracking_service.client: 🏃 View run welcoming-wasp-21 at: https://mlflow-server-931658252548.us-west2.run.app/#/experiments/1/runs/d1241728bee541afa9a4c0e1d25b7423.\n",
      "2025/04/17 09:56:29 INFO mlflow.tracking._tracking_service.client: 🧪 View experiment at: https://mlflow-server-931658252548.us-west2.run.app/#/experiments/1.\n",
      "2025/04/17 09:56:30 INFO mlflow.tracking._tracking_service.client: 🏃 View run powerful-squid-956 at: https://mlflow-server-931658252548.us-west2.run.app/#/experiments/1/runs/b1aa8e2f965143929c0758efc0bef784.\n",
      "2025/04/17 09:56:30 INFO mlflow.tracking._tracking_service.client: 🧪 View experiment at: https://mlflow-server-931658252548.us-west2.run.app/#/experiments/1.\n",
      "2025/04/17 09:56:31 INFO mlflow.tracking._tracking_service.client: 🏃 View run polite-fox-736 at: https://mlflow-server-931658252548.us-west2.run.app/#/experiments/1/runs/b09333bc8ee34c48b27ce5f0055237e7.\n",
      "2025/04/17 09:56:31 INFO mlflow.tracking._tracking_service.client: 🧪 View experiment at: https://mlflow-server-931658252548.us-west2.run.app/#/experiments/1.\n",
      "2025/04/17 09:56:32 INFO mlflow.tracking._tracking_service.client: 🏃 View run entertaining-eel-106 at: https://mlflow-server-931658252548.us-west2.run.app/#/experiments/1/runs/e92def68f49c4d6182e973ecdb4c5c73.\n",
      "2025/04/17 09:56:32 INFO mlflow.tracking._tracking_service.client: 🧪 View experiment at: https://mlflow-server-931658252548.us-west2.run.app/#/experiments/1.\n",
      "2025/04/17 09:56:33 INFO mlflow.tracking._tracking_service.client: 🏃 View run merciful-stag-275 at: https://mlflow-server-931658252548.us-west2.run.app/#/experiments/1/runs/18fced782de0448d9911578ea2e47652.\n",
      "2025/04/17 09:56:33 INFO mlflow.tracking._tracking_service.client: 🧪 View experiment at: https://mlflow-server-931658252548.us-west2.run.app/#/experiments/1.\n"
     ]
    }
   ],
   "source": [
    "ntrees = [20,40,60,80,100]\n",
    "mtrys = [3,4,5]\n",
    "for i in ntrees:\n",
    "    for j in mtrys:\n",
    "        with mlflow.start_run():\n",
    "            mlflow.set_tags({\"Model\":\"random-forest\", \"Train Data\": \"all-data\"})\n",
    "\n",
    "            mlflow.log_params({'n_estimators':i, 'max_features':j})\n",
    "\n",
    "            rf = RandomForestClassifier(n_estimators = i, max_features = j, oob_score = True)\n",
    "            rf.fit(X,y)\n",
    "            acc = rf.oob_score_\n",
    "            #acc = accuracy_score(y, rf.predict(X))\n",
    "            mlflow.log_metric('accuracy', acc)\n",
    "        mlflow.end_run()"
   ]
  },
  {
   "attachments": {},
   "cell_type": "markdown",
   "metadata": {},
   "source": [
    "## Training a Model with mlflow and hyperopt\n",
    "\n",
    "One way of tuning your model is to use the `hyperopt` library. `hyperopt` is a library that does hyperparameter tuning, and does so in a way that makes it easy for mlflow to keep track of the results. \n",
    "\n",
    "First, install the libraries you don't have, and then load them below. We do not use `hyperopt` much in the class, so if you don't want to add it to your requirements.txt file, you don't have to.\n",
    "\n",
    "For this exercise, we'll split the data into training and validation, and then we'll train decision trees and random forests and use `hyperopt` to do the hyperparameter tuning and find the best model for us."
   ]
  },
  {
   "cell_type": "code",
   "execution_count": 10,
   "metadata": {},
   "outputs": [],
   "source": [
    "from hyperopt import fmin, tpe, hp, STATUS_OK, Trials\n",
    "from sklearn.model_selection import cross_val_score, train_test_split\n",
    "\n",
    "X_train, X_test, y_train, y_test = train_test_split(X, y, test_size=0.2, shuffle=True)"
   ]
  },
  {
   "attachments": {},
   "cell_type": "markdown",
   "metadata": {},
   "source": [
    "From the above we will use `cross_val_score` for our metric, `fmin` is used by `hyperopt` to do the tuning, `tpe` (Tree of Parzen Estimators) is the algorithm used to search the hyperparameter space,  `hp` has methods we need to use for defining our search space, `STATUS_OK` is a status message that each run completed, and `Trials` keeps track of each run."
   ]
  },
  {
   "cell_type": "code",
   "execution_count": 11,
   "metadata": {},
   "outputs": [],
   "source": [
    "def objective(params):\n",
    "    with mlflow.start_run():\n",
    "        classifier_type = params['type']\n",
    "        del params['type']\n",
    "        if classifier_type == 'dt':\n",
    "            clf = DecisionTreeClassifier(**params)\n",
    "        elif classifier_type == 'rf':\n",
    "            clf = RandomForestClassifier(**params)        \n",
    "        else:\n",
    "            return 0\n",
    "        acc = cross_val_score(clf, X, y).mean()\n",
    "\n",
    "        mlflow.set_tag(\"Model\", classifier_type)\n",
    "        mlflow.log_params(params)\n",
    "        mlflow.log_metric(\"accuracy\", acc)\n",
    "        mlflow.end_run()\n",
    "        return {'loss': -acc, 'status': STATUS_OK}\n",
    "\n",
    "search_space = hp.choice('classifier_type', [\n",
    "    {\n",
    "        'type': 'dt',\n",
    "        'criterion': hp.choice('dtree_criterion', ['gini', 'entropy']),\n",
    "        'max_depth': hp.choice('dtree_max_depth', [None, hp.randint('dtree_max_depth_int', 1,10)]),\n",
    "        'min_samples_split': hp.randint('dtree_min_samples_split', 2,10)\n",
    "    },\n",
    "    {\n",
    "        'type': 'rf',\n",
    "        'n_estimators': hp.randint('rf_n_estimators', 20, 500),\n",
    "        'max_features': hp.randint('rf_max_features', 2,9),\n",
    "        'criterion': hp.choice('criterion', ['gini', 'entropy'])\n",
    "    },\n",
    "])\n",
    "\n",
    "algo = tpe.suggest\n",
    "trials = Trials()"
   ]
  },
  {
   "cell_type": "code",
   "execution_count": 12,
   "metadata": {},
   "outputs": [
    {
     "name": "stdout",
     "output_type": "stream",
     "text": [
      "  0%|          | 0/32 [00:00<?, ?trial/s, best loss=?]"
     ]
    },
    {
     "name": "stderr",
     "output_type": "stream",
     "text": [
      "2025/04/17 09:57:00 INFO mlflow.tracking._tracking_service.client: 🏃 View run stylish-elk-366 at: https://mlflow-server-931658252548.us-west2.run.app/#/experiments/1/runs/de8c704c4d924fdd89007aeb02738186.\n",
      "\n",
      "2025/04/17 09:57:00 INFO mlflow.tracking._tracking_service.client: 🧪 View experiment at: https://mlflow-server-931658252548.us-west2.run.app/#/experiments/1.\n",
      "\n"
     ]
    },
    {
     "name": "stdout",
     "output_type": "stream",
     "text": [
      "  3%|▎         | 1/32 [00:00<00:17,  1.78trial/s, best loss: -0.9103174603174604]"
     ]
    },
    {
     "name": "stderr",
     "output_type": "stream",
     "text": [
      "2025/04/17 09:57:01 INFO mlflow.tracking._tracking_service.client: 🏃 View run learned-midge-348 at: https://mlflow-server-931658252548.us-west2.run.app/#/experiments/1/runs/863d5661f7a94fc49da8254758b29ab2.\n",
      "\n",
      "2025/04/17 09:57:01 INFO mlflow.tracking._tracking_service.client: 🧪 View experiment at: https://mlflow-server-931658252548.us-west2.run.app/#/experiments/1.\n",
      "\n"
     ]
    },
    {
     "name": "stdout",
     "output_type": "stream",
     "text": [
      "  6%|▋         | 2/32 [00:01<00:16,  1.83trial/s, best loss: -0.9103174603174604]"
     ]
    },
    {
     "name": "stderr",
     "output_type": "stream",
     "text": [
      "2025/04/17 09:57:01 INFO mlflow.tracking._tracking_service.client: 🏃 View run enthused-jay-704 at: https://mlflow-server-931658252548.us-west2.run.app/#/experiments/1/runs/86b83fada93a4f55a8ace64afd4b5c39.\n",
      "\n",
      "2025/04/17 09:57:01 INFO mlflow.tracking._tracking_service.client: 🧪 View experiment at: https://mlflow-server-931658252548.us-west2.run.app/#/experiments/1.\n",
      "\n"
     ]
    },
    {
     "name": "stdout",
     "output_type": "stream",
     "text": [
      "  9%|▉         | 3/32 [00:01<00:19,  1.49trial/s, best loss: -0.9553968253968254]"
     ]
    },
    {
     "name": "stderr",
     "output_type": "stream",
     "text": [
      "2025/04/17 09:57:03 INFO mlflow.tracking._tracking_service.client: 🏃 View run bouncy-loon-185 at: https://mlflow-server-931658252548.us-west2.run.app/#/experiments/1/runs/9227717107f64e80b9dbaa613c9267b3.\n",
      "\n",
      "2025/04/17 09:57:03 INFO mlflow.tracking._tracking_service.client: 🧪 View experiment at: https://mlflow-server-931658252548.us-west2.run.app/#/experiments/1.\n",
      "\n"
     ]
    },
    {
     "name": "stdout",
     "output_type": "stream",
     "text": [
      " 12%|█▎        | 4/32 [00:03<00:24,  1.13trial/s, best loss: -0.9720634920634922]"
     ]
    },
    {
     "name": "stderr",
     "output_type": "stream",
     "text": [
      "2025/04/17 09:57:04 INFO mlflow.tracking._tracking_service.client: 🏃 View run fortunate-pug-933 at: https://mlflow-server-931658252548.us-west2.run.app/#/experiments/1/runs/6666556caf27406facb9f022cd05e643.\n",
      "\n",
      "2025/04/17 09:57:04 INFO mlflow.tracking._tracking_service.client: 🧪 View experiment at: https://mlflow-server-931658252548.us-west2.run.app/#/experiments/1.\n",
      "\n"
     ]
    },
    {
     "name": "stdout",
     "output_type": "stream",
     "text": [
      " 16%|█▌        | 5/32 [00:04<00:29,  1.09s/trial, best loss: -0.9720634920634922]"
     ]
    },
    {
     "name": "stderr",
     "output_type": "stream",
     "text": [
      "2025/04/17 09:57:05 INFO mlflow.tracking._tracking_service.client: 🏃 View run orderly-stoat-991 at: https://mlflow-server-931658252548.us-west2.run.app/#/experiments/1/runs/1bfb27ffa71c49b78d0d29b4eccd8fa8.\n",
      "\n",
      "2025/04/17 09:57:05 INFO mlflow.tracking._tracking_service.client: 🧪 View experiment at: https://mlflow-server-931658252548.us-west2.run.app/#/experiments/1.\n",
      "\n"
     ]
    },
    {
     "name": "stdout",
     "output_type": "stream",
     "text": [
      " 19%|█▉        | 6/32 [00:05<00:26,  1.02s/trial, best loss: -0.9720634920634922]"
     ]
    },
    {
     "name": "stderr",
     "output_type": "stream",
     "text": [
      "2025/04/17 09:57:06 INFO mlflow.tracking._tracking_service.client: 🏃 View run auspicious-snake-154 at: https://mlflow-server-931658252548.us-west2.run.app/#/experiments/1/runs/b02fba48a4b548af996cbf7d277e00b7.\n",
      "\n",
      "2025/04/17 09:57:06 INFO mlflow.tracking._tracking_service.client: 🧪 View experiment at: https://mlflow-server-931658252548.us-west2.run.app/#/experiments/1.\n",
      "\n"
     ]
    },
    {
     "name": "stdout",
     "output_type": "stream",
     "text": [
      " 22%|██▏       | 7/32 [00:06<00:27,  1.10s/trial, best loss: -0.9720634920634922]"
     ]
    },
    {
     "name": "stderr",
     "output_type": "stream",
     "text": [
      "2025/04/17 09:57:07 INFO mlflow.tracking._tracking_service.client: 🏃 View run unleashed-newt-762 at: https://mlflow-server-931658252548.us-west2.run.app/#/experiments/1/runs/6888f93ecefb47c4a9843326de7c2599.\n",
      "\n",
      "2025/04/17 09:57:07 INFO mlflow.tracking._tracking_service.client: 🧪 View experiment at: https://mlflow-server-931658252548.us-west2.run.app/#/experiments/1.\n",
      "\n"
     ]
    },
    {
     "name": "stdout",
     "output_type": "stream",
     "text": [
      " 25%|██▌       | 8/32 [00:07<00:23,  1.02trial/s, best loss: -0.9777777777777779]"
     ]
    },
    {
     "name": "stderr",
     "output_type": "stream",
     "text": [
      "2025/04/17 09:57:07 INFO mlflow.tracking._tracking_service.client: 🏃 View run righteous-ant-320 at: https://mlflow-server-931658252548.us-west2.run.app/#/experiments/1/runs/3059f2e9c1c84775a96c33d1cb144016.\n",
      "\n",
      "2025/04/17 09:57:07 INFO mlflow.tracking._tracking_service.client: 🧪 View experiment at: https://mlflow-server-931658252548.us-west2.run.app/#/experiments/1.\n",
      "\n"
     ]
    },
    {
     "name": "stdout",
     "output_type": "stream",
     "text": [
      " 28%|██▊       | 9/32 [00:07<00:18,  1.24trial/s, best loss: -0.9777777777777779]"
     ]
    },
    {
     "name": "stderr",
     "output_type": "stream",
     "text": [
      "2025/04/17 09:57:08 INFO mlflow.tracking._tracking_service.client: 🏃 View run honorable-shark-55 at: https://mlflow-server-931658252548.us-west2.run.app/#/experiments/1/runs/f1458bfdb3df4555ad6435a1e0c8da8c.\n",
      "\n",
      "2025/04/17 09:57:08 INFO mlflow.tracking._tracking_service.client: 🧪 View experiment at: https://mlflow-server-931658252548.us-west2.run.app/#/experiments/1.\n",
      "\n"
     ]
    },
    {
     "name": "stdout",
     "output_type": "stream",
     "text": [
      " 31%|███▏      | 10/32 [00:08<00:15,  1.42trial/s, best loss: -0.9777777777777779]"
     ]
    },
    {
     "name": "stderr",
     "output_type": "stream",
     "text": [
      "2025/04/17 09:57:09 INFO mlflow.tracking._tracking_service.client: 🏃 View run melodic-fox-317 at: https://mlflow-server-931658252548.us-west2.run.app/#/experiments/1/runs/78223eac298c4ad99b223fbffdc29193.\n",
      "\n",
      "2025/04/17 09:57:09 INFO mlflow.tracking._tracking_service.client: 🧪 View experiment at: https://mlflow-server-931658252548.us-west2.run.app/#/experiments/1.\n",
      "\n"
     ]
    },
    {
     "name": "stdout",
     "output_type": "stream",
     "text": [
      " 34%|███▍      | 11/32 [00:09<00:14,  1.44trial/s, best loss: -0.9777777777777779]"
     ]
    },
    {
     "name": "stderr",
     "output_type": "stream",
     "text": [
      "2025/04/17 09:57:10 INFO mlflow.tracking._tracking_service.client: 🏃 View run fun-snake-596 at: https://mlflow-server-931658252548.us-west2.run.app/#/experiments/1/runs/1a5ca7ceeede4a6ca4d9f7b17650d5af.\n",
      "\n",
      "2025/04/17 09:57:10 INFO mlflow.tracking._tracking_service.client: 🧪 View experiment at: https://mlflow-server-931658252548.us-west2.run.app/#/experiments/1.\n",
      "\n"
     ]
    },
    {
     "name": "stdout",
     "output_type": "stream",
     "text": [
      " 38%|███▊      | 12/32 [00:10<00:16,  1.22trial/s, best loss: -0.9833333333333332]"
     ]
    },
    {
     "name": "stderr",
     "output_type": "stream",
     "text": [
      "2025/04/17 09:57:11 INFO mlflow.tracking._tracking_service.client: 🏃 View run amazing-gnat-119 at: https://mlflow-server-931658252548.us-west2.run.app/#/experiments/1/runs/0762e459b01e475b83cadf1ca7776d8f.\n",
      "\n",
      "2025/04/17 09:57:11 INFO mlflow.tracking._tracking_service.client: 🧪 View experiment at: https://mlflow-server-931658252548.us-west2.run.app/#/experiments/1.\n",
      "\n"
     ]
    },
    {
     "name": "stdout",
     "output_type": "stream",
     "text": [
      " 41%|████      | 13/32 [00:11<00:17,  1.11trial/s, best loss: -0.9833333333333332]"
     ]
    },
    {
     "name": "stderr",
     "output_type": "stream",
     "text": [
      "2025/04/17 09:57:12 INFO mlflow.tracking._tracking_service.client: 🏃 View run capable-hawk-797 at: https://mlflow-server-931658252548.us-west2.run.app/#/experiments/1/runs/32d72bc61eb149e7a06d06ca8d6ed779.\n",
      "\n",
      "2025/04/17 09:57:12 INFO mlflow.tracking._tracking_service.client: 🧪 View experiment at: https://mlflow-server-931658252548.us-west2.run.app/#/experiments/1.\n",
      "\n"
     ]
    },
    {
     "name": "stdout",
     "output_type": "stream",
     "text": [
      " 44%|████▍     | 14/32 [00:12<00:16,  1.07trial/s, best loss: -0.9833333333333332]"
     ]
    },
    {
     "name": "stderr",
     "output_type": "stream",
     "text": [
      "2025/04/17 09:57:12 INFO mlflow.tracking._tracking_service.client: 🏃 View run beautiful-boar-274 at: https://mlflow-server-931658252548.us-west2.run.app/#/experiments/1/runs/70e6c0e6bb59469989a4d15e49c249ef.\n",
      "\n",
      "2025/04/17 09:57:12 INFO mlflow.tracking._tracking_service.client: 🧪 View experiment at: https://mlflow-server-931658252548.us-west2.run.app/#/experiments/1.\n",
      "\n"
     ]
    },
    {
     "name": "stdout",
     "output_type": "stream",
     "text": [
      " 47%|████▋     | 15/32 [00:13<00:15,  1.08trial/s, best loss: -0.9833333333333332]"
     ]
    },
    {
     "name": "stderr",
     "output_type": "stream",
     "text": [
      "2025/04/17 09:57:13 INFO mlflow.tracking._tracking_service.client: 🏃 View run amusing-shrimp-244 at: https://mlflow-server-931658252548.us-west2.run.app/#/experiments/1/runs/25cad08e6c314e15a9d53251ea08e927.\n",
      "\n",
      "2025/04/17 09:57:13 INFO mlflow.tracking._tracking_service.client: 🧪 View experiment at: https://mlflow-server-931658252548.us-west2.run.app/#/experiments/1.\n",
      "\n"
     ]
    },
    {
     "name": "stdout",
     "output_type": "stream",
     "text": [
      " 50%|█████     | 16/32 [00:13<00:13,  1.16trial/s, best loss: -0.9833333333333332]"
     ]
    },
    {
     "name": "stderr",
     "output_type": "stream",
     "text": [
      "2025/04/17 09:57:15 INFO mlflow.tracking._tracking_service.client: 🏃 View run gentle-panda-632 at: https://mlflow-server-931658252548.us-west2.run.app/#/experiments/1/runs/0fa675a173714a1e9a4c228c9a5672ae.\n",
      "\n",
      "2025/04/17 09:57:15 INFO mlflow.tracking._tracking_service.client: 🧪 View experiment at: https://mlflow-server-931658252548.us-west2.run.app/#/experiments/1.\n",
      "\n"
     ]
    },
    {
     "name": "stdout",
     "output_type": "stream",
     "text": [
      " 53%|█████▎    | 17/32 [00:15<00:14,  1.02trial/s, best loss: -0.9833333333333332]"
     ]
    },
    {
     "name": "stderr",
     "output_type": "stream",
     "text": [
      "2025/04/17 09:57:15 INFO mlflow.tracking._tracking_service.client: 🏃 View run marvelous-carp-976 at: https://mlflow-server-931658252548.us-west2.run.app/#/experiments/1/runs/5b1f35c473504729bff6fe970d01ab28.\n",
      "\n",
      "2025/04/17 09:57:15 INFO mlflow.tracking._tracking_service.client: 🧪 View experiment at: https://mlflow-server-931658252548.us-west2.run.app/#/experiments/1.\n",
      "\n"
     ]
    },
    {
     "name": "stdout",
     "output_type": "stream",
     "text": [
      " 56%|█████▋    | 18/32 [00:16<00:13,  1.04trial/s, best loss: -0.9833333333333332]"
     ]
    },
    {
     "name": "stderr",
     "output_type": "stream",
     "text": [
      "2025/04/17 09:57:16 INFO mlflow.tracking._tracking_service.client: 🏃 View run spiffy-seal-285 at: https://mlflow-server-931658252548.us-west2.run.app/#/experiments/1/runs/6ca576adecda4ab88d764021ef58e2a5.\n",
      "\n",
      "2025/04/17 09:57:16 INFO mlflow.tracking._tracking_service.client: 🧪 View experiment at: https://mlflow-server-931658252548.us-west2.run.app/#/experiments/1.\n",
      "\n"
     ]
    },
    {
     "name": "stdout",
     "output_type": "stream",
     "text": [
      " 59%|█████▉    | 19/32 [00:16<00:10,  1.24trial/s, best loss: -0.9833333333333332]"
     ]
    },
    {
     "name": "stderr",
     "output_type": "stream",
     "text": [
      "2025/04/17 09:57:16 INFO mlflow.tracking._tracking_service.client: 🏃 View run worried-toad-463 at: https://mlflow-server-931658252548.us-west2.run.app/#/experiments/1/runs/2be82d62450e456da0cb91a6973848bc.\n",
      "\n",
      "2025/04/17 09:57:16 INFO mlflow.tracking._tracking_service.client: 🧪 View experiment at: https://mlflow-server-931658252548.us-west2.run.app/#/experiments/1.\n",
      "\n"
     ]
    },
    {
     "name": "stdout",
     "output_type": "stream",
     "text": [
      " 62%|██████▎   | 20/32 [00:16<00:08,  1.46trial/s, best loss: -0.9833333333333332]"
     ]
    },
    {
     "name": "stderr",
     "output_type": "stream",
     "text": [
      "2025/04/17 09:57:18 INFO mlflow.tracking._tracking_service.client: 🏃 View run brawny-ray-240 at: https://mlflow-server-931658252548.us-west2.run.app/#/experiments/1/runs/113ca4f17d724a49b40d699dde45a738.\n",
      "\n",
      "2025/04/17 09:57:18 INFO mlflow.tracking._tracking_service.client: 🧪 View experiment at: https://mlflow-server-931658252548.us-west2.run.app/#/experiments/1.\n",
      "\n"
     ]
    },
    {
     "name": "stdout",
     "output_type": "stream",
     "text": [
      " 66%|██████▌   | 21/32 [00:18<00:10,  1.04trial/s, best loss: -0.9833333333333332]"
     ]
    },
    {
     "name": "stderr",
     "output_type": "stream",
     "text": [
      "2025/04/17 09:57:19 INFO mlflow.tracking._tracking_service.client: 🏃 View run thundering-calf-892 at: https://mlflow-server-931658252548.us-west2.run.app/#/experiments/1/runs/889214a0bcc54a7ba83a4d381455e7e1.\n",
      "\n",
      "2025/04/17 09:57:19 INFO mlflow.tracking._tracking_service.client: 🧪 View experiment at: https://mlflow-server-931658252548.us-west2.run.app/#/experiments/1.\n",
      "\n"
     ]
    },
    {
     "name": "stdout",
     "output_type": "stream",
     "text": [
      " 69%|██████▉   | 22/32 [00:19<00:08,  1.15trial/s, best loss: -0.9833333333333332]"
     ]
    },
    {
     "name": "stderr",
     "output_type": "stream",
     "text": [
      "2025/04/17 09:57:20 INFO mlflow.tracking._tracking_service.client: 🏃 View run agreeable-bass-580 at: https://mlflow-server-931658252548.us-west2.run.app/#/experiments/1/runs/75e9962d8a64434a922974a8e8ce1dbd.\n",
      "\n",
      "2025/04/17 09:57:20 INFO mlflow.tracking._tracking_service.client: 🧪 View experiment at: https://mlflow-server-931658252548.us-west2.run.app/#/experiments/1.\n",
      "\n"
     ]
    },
    {
     "name": "stdout",
     "output_type": "stream",
     "text": [
      " 72%|███████▏  | 23/32 [00:20<00:10,  1.13s/trial, best loss: -0.9833333333333332]"
     ]
    },
    {
     "name": "stderr",
     "output_type": "stream",
     "text": [
      "2025/04/17 09:57:21 INFO mlflow.tracking._tracking_service.client: 🏃 View run thundering-mink-411 at: https://mlflow-server-931658252548.us-west2.run.app/#/experiments/1/runs/1aee3f8a24b74b7f9c405e97444f7cc9.\n",
      "\n",
      "2025/04/17 09:57:21 INFO mlflow.tracking._tracking_service.client: 🧪 View experiment at: https://mlflow-server-931658252548.us-west2.run.app/#/experiments/1.\n",
      "\n"
     ]
    },
    {
     "name": "stdout",
     "output_type": "stream",
     "text": [
      " 75%|███████▌  | 24/32 [00:21<00:08,  1.10s/trial, best loss: -0.9833333333333332]"
     ]
    },
    {
     "name": "stderr",
     "output_type": "stream",
     "text": [
      "2025/04/17 09:57:23 INFO mlflow.tracking._tracking_service.client: 🏃 View run lyrical-bass-872 at: https://mlflow-server-931658252548.us-west2.run.app/#/experiments/1/runs/d8992dc9790d44b080e151b657d84e65.\n",
      "\n",
      "2025/04/17 09:57:23 INFO mlflow.tracking._tracking_service.client: 🧪 View experiment at: https://mlflow-server-931658252548.us-west2.run.app/#/experiments/1.\n",
      "\n"
     ]
    },
    {
     "name": "stdout",
     "output_type": "stream",
     "text": [
      " 78%|███████▊  | 25/32 [00:23<00:08,  1.23s/trial, best loss: -0.9833333333333332]"
     ]
    },
    {
     "name": "stderr",
     "output_type": "stream",
     "text": [
      "2025/04/17 09:57:24 INFO mlflow.tracking._tracking_service.client: 🏃 View run industrious-doe-525 at: https://mlflow-server-931658252548.us-west2.run.app/#/experiments/1/runs/4f27d89d9a974e0da0fea61289d88b82.\n",
      "\n",
      "2025/04/17 09:57:24 INFO mlflow.tracking._tracking_service.client: 🧪 View experiment at: https://mlflow-server-931658252548.us-west2.run.app/#/experiments/1.\n",
      "\n"
     ]
    },
    {
     "name": "stdout",
     "output_type": "stream",
     "text": [
      " 81%|████████▏ | 26/32 [00:24<00:07,  1.18s/trial, best loss: -0.9833333333333332]"
     ]
    },
    {
     "name": "stderr",
     "output_type": "stream",
     "text": [
      "2025/04/17 09:57:25 INFO mlflow.tracking._tracking_service.client: 🏃 View run nervous-hound-467 at: https://mlflow-server-931658252548.us-west2.run.app/#/experiments/1/runs/507c37755f1b45a3b833fb877bcde4e2.\n",
      "\n",
      "2025/04/17 09:57:25 INFO mlflow.tracking._tracking_service.client: 🧪 View experiment at: https://mlflow-server-931658252548.us-west2.run.app/#/experiments/1.\n",
      "\n"
     ]
    },
    {
     "name": "stdout",
     "output_type": "stream",
     "text": [
      " 84%|████████▍ | 27/32 [00:25<00:05,  1.13s/trial, best loss: -0.9833333333333332]"
     ]
    },
    {
     "name": "stderr",
     "output_type": "stream",
     "text": [
      "2025/04/17 09:57:26 INFO mlflow.tracking._tracking_service.client: 🏃 View run sassy-hog-65 at: https://mlflow-server-931658252548.us-west2.run.app/#/experiments/1/runs/6dfbb99aaa5f4ec589b00822b48a5415.\n",
      "\n",
      "2025/04/17 09:57:26 INFO mlflow.tracking._tracking_service.client: 🧪 View experiment at: https://mlflow-server-931658252548.us-west2.run.app/#/experiments/1.\n",
      "\n"
     ]
    },
    {
     "name": "stdout",
     "output_type": "stream",
     "text": [
      " 88%|████████▊ | 28/32 [00:26<00:04,  1.09s/trial, best loss: -0.9833333333333332]"
     ]
    },
    {
     "name": "stderr",
     "output_type": "stream",
     "text": [
      "2025/04/17 09:57:27 INFO mlflow.tracking._tracking_service.client: 🏃 View run agreeable-crane-869 at: https://mlflow-server-931658252548.us-west2.run.app/#/experiments/1/runs/ded0b4f5ed554013af8c649118b87c49.\n",
      "\n",
      "2025/04/17 09:57:27 INFO mlflow.tracking._tracking_service.client: 🧪 View experiment at: https://mlflow-server-931658252548.us-west2.run.app/#/experiments/1.\n",
      "\n"
     ]
    },
    {
     "name": "stdout",
     "output_type": "stream",
     "text": [
      " 91%|█████████ | 29/32 [00:27<00:02,  1.01trial/s, best loss: -0.9833333333333332]"
     ]
    },
    {
     "name": "stderr",
     "output_type": "stream",
     "text": [
      "2025/04/17 09:57:28 INFO mlflow.tracking._tracking_service.client: 🏃 View run big-ox-255 at: https://mlflow-server-931658252548.us-west2.run.app/#/experiments/1/runs/308a57877345415a8259b7ec0b66e7eb.\n",
      "\n",
      "2025/04/17 09:57:28 INFO mlflow.tracking._tracking_service.client: 🧪 View experiment at: https://mlflow-server-931658252548.us-west2.run.app/#/experiments/1.\n",
      "\n"
     ]
    },
    {
     "name": "stdout",
     "output_type": "stream",
     "text": [
      " 94%|█████████▍| 30/32 [00:28<00:01,  1.09trial/s, best loss: -0.9833333333333332]"
     ]
    },
    {
     "name": "stderr",
     "output_type": "stream",
     "text": [
      "2025/04/17 09:57:28 INFO mlflow.tracking._tracking_service.client: 🏃 View run receptive-gull-599 at: https://mlflow-server-931658252548.us-west2.run.app/#/experiments/1/runs/3c31841d894d48a59c0c57afce989d71.\n",
      "\n",
      "2025/04/17 09:57:28 INFO mlflow.tracking._tracking_service.client: 🧪 View experiment at: https://mlflow-server-931658252548.us-west2.run.app/#/experiments/1.\n",
      "\n"
     ]
    },
    {
     "name": "stdout",
     "output_type": "stream",
     "text": [
      " 97%|█████████▋| 31/32 [00:28<00:00,  1.26trial/s, best loss: -0.9833333333333332]"
     ]
    },
    {
     "name": "stderr",
     "output_type": "stream",
     "text": [
      "2025/04/17 09:57:29 INFO mlflow.tracking._tracking_service.client: 🏃 View run thundering-hare-181 at: https://mlflow-server-931658252548.us-west2.run.app/#/experiments/1/runs/55dc2902831d4dfc9c6c0397b0874dd3.\n",
      "\n",
      "2025/04/17 09:57:29 INFO mlflow.tracking._tracking_service.client: 🧪 View experiment at: https://mlflow-server-931658252548.us-west2.run.app/#/experiments/1.\n",
      "\n"
     ]
    },
    {
     "name": "stdout",
     "output_type": "stream",
     "text": [
      "100%|██████████| 32/32 [00:29<00:00,  1.07trial/s, best loss: -0.9833333333333332]\n"
     ]
    }
   ],
   "source": [
    "best_result = fmin(\n",
    "        fn=objective, \n",
    "        space=search_space,\n",
    "        algo=algo,\n",
    "        max_evals=32,\n",
    "        trials=trials)"
   ]
  },
  {
   "cell_type": "code",
   "execution_count": 13,
   "metadata": {},
   "outputs": [
    {
     "data": {
      "text/plain": [
       "{'classifier_type': 1,\n",
       " 'criterion': 0,\n",
       " 'rf_max_features': 2,\n",
       " 'rf_n_estimators': 350}"
      ]
     },
     "execution_count": 13,
     "metadata": {},
     "output_type": "execute_result"
    }
   ],
   "source": [
    "best_result"
   ]
  },
  {
   "attachments": {},
   "cell_type": "markdown",
   "metadata": {},
   "source": [
    "### Using Autologging\n",
    "\n",
    "Rather than manually logging parameters and metrics, mlflow has an autolog feature, which is compatible with a subset of python libraries, such as sklearn. Autologging makes it easy to log all of the important stuff, without having to manually write lines of code to log the parameters. However, sometimes you will want to have finer control over what gets logged, and should instead skip autologging."
   ]
  },
  {
   "cell_type": "code",
   "execution_count": 14,
   "metadata": {},
   "outputs": [
    {
     "name": "stderr",
     "output_type": "stream",
     "text": [
      "2025/04/17 09:57:40 WARNING mlflow.utils.environment: Failed to resolve installed pip version. ``pip`` will be added to conda.yaml environment spec without a version specifier.\n",
      "2025/04/17 09:57:41 INFO mlflow.tracking._tracking_service.client: 🏃 View run upset-gull-925 at: https://mlflow-server-931658252548.us-west2.run.app/#/experiments/1/runs/567658d1b44a4fe28ea38469d5f48c68.\n",
      "2025/04/17 09:57:41 INFO mlflow.tracking._tracking_service.client: 🧪 View experiment at: https://mlflow-server-931658252548.us-west2.run.app/#/experiments/1.\n"
     ]
    }
   ],
   "source": [
    "\n",
    "with mlflow.start_run():\n",
    "    mlflow.sklearn.autolog()\n",
    "    tree_depth = 5\n",
    "    dt = DecisionTreeClassifier(max_depth=tree_depth)\n",
    "    dt.fit(X_train, y_train)\n",
    "    mlflow.sklearn.autolog(disable=True)\n",
    "mlflow.end_run()"
   ]
  },
  {
   "attachments": {},
   "cell_type": "markdown",
   "metadata": {},
   "source": [
    "# Artifact Tracking and Model Registry (Local)\n",
    "\n",
    "In this section we will save some artifacts from our model as we go through the model development process. There are a few things that might be worth saving, such as datasets, plots, and the final model itself that might go into production later.\n",
    "\n",
    "## Data\n",
    "\n",
    "First, let's see how we can store our important datasets, in a compressed format, for use for later, for example, in case we get a new request about our model and need to run some analyses (such as \"what is the distribution of this feature, but only for this specific subset of data?\" or \"how did the model do on these particular observations from your validation set?\")."
   ]
  },
  {
   "cell_type": "code",
   "execution_count": 15,
   "metadata": {},
   "outputs": [],
   "source": [
    "import os \n",
    "\n",
    "os.makedirs('save_data', exist_ok = True)\n",
    "\n",
    "X_train.to_parquet('save_data/x_train.parquet')\n",
    "\n",
    "mlflow.log_artifact('save_data/x_train.parquet')"
   ]
  },
  {
   "cell_type": "code",
   "execution_count": 16,
   "metadata": {},
   "outputs": [],
   "source": [
    "X_test.to_parquet('save_data/x_test.parquet')\n",
    "\n",
    "mlflow.log_artifacts('save_data/')"
   ]
  },
  {
   "attachments": {
    "mlflow1.png": {
     "image/png": "[encoded data removed]"
    }
   },
   "cell_type": "markdown",
   "metadata": {},
   "source": [
    "You can now go to the mlflow UI, click on the latest run, and select the Artifacts tab. You should see something similar to this:\n",
    "![mlflow1.png](attachment:mlflow1.png)"
   ]
  },
  {
   "attachments": {},
   "cell_type": "markdown",
   "metadata": {},
   "source": [
    "## Images\n",
    "\n",
    "As part of the model dev process you may end up creating visualizations that can be useful for analysis, or for reporting. You can use mlflow to log the important ones and ignore the rest. After creating the below figure, save into a folder called images, and then you can log whatever is in the `images` folder as an artifact."
   ]
  },
  {
   "cell_type": "code",
   "execution_count": 17,
   "metadata": {},
   "outputs": [
    {
     "data": {
      "text/plain": [
       "array([[<Axes: ylabel='Density'>, <Axes: ylabel='Density'>,\n",
       "        <Axes: ylabel='Density'>, <Axes: ylabel='Density'>],\n",
       "       [<Axes: ylabel='Density'>, <Axes: ylabel='Density'>,\n",
       "        <Axes: ylabel='Density'>, <Axes: ylabel='Density'>],\n",
       "       [<Axes: ylabel='Density'>, <Axes: ylabel='Density'>,\n",
       "        <Axes: ylabel='Density'>, <Axes: ylabel='Density'>],\n",
       "       [<Axes: ylabel='Density'>, <Axes: ylabel='Density'>,\n",
       "        <Axes: ylabel='Density'>, <Axes: ylabel='Density'>]], dtype=object)"
      ]
     },
     "execution_count": 17,
     "metadata": {},
     "output_type": "execute_result"
    },
    {
     "data": {
      "image/png": "[encoded data removed]",
      "text/plain": [
       "<Figure size 2000x1000 with 16 Axes>"
      ]
     },
     "metadata": {},
     "output_type": "display_data"
    }
   ],
   "source": [
    "%matplotlib inline\n",
    "os.makedirs('images', exist_ok = True)\n",
    "X_train.plot.density(subplots = True, figsize = (20,10), layout = (4,4), sharey = False, sharex = False)"
   ]
  },
  {
   "cell_type": "code",
   "execution_count": 18,
   "metadata": {},
   "outputs": [
    {
     "name": "stderr",
     "output_type": "stream",
     "text": [
      "2025/04/17 09:57:56 INFO mlflow.tracking._tracking_service.client: 🏃 View run nosy-hound-181 at: https://mlflow-server-931658252548.us-west2.run.app/#/experiments/1/runs/e3e8d00614754b628df569e08e8095d8.\n",
      "2025/04/17 09:57:56 INFO mlflow.tracking._tracking_service.client: 🧪 View experiment at: https://mlflow-server-931658252548.us-west2.run.app/#/experiments/1.\n"
     ]
    }
   ],
   "source": [
    "mlflow.log_artifacts('images')\n",
    "mlflow.end_run()"
   ]
  },
  {
   "attachments": {},
   "cell_type": "markdown",
   "metadata": {},
   "source": [
    "Notice how all of the artifacts were saved in the same run of the experiment. We could have added an `mlflow.end_run()` in between our `log_artifacts` lines to separate runs if we wanted to."
   ]
  },
  {
   "attachments": {},
   "cell_type": "markdown",
   "metadata": {},
   "source": [
    "## Model Management and Model Registry\n",
    "\n",
    "As you are developing your models you may want to save certain versions of the model, or maybe even all of them, so that you don't have to go back and retrain them later. We can do this in mlflow by logging the models, not as artifacts, but as models, using `log_model`. \n",
    "\n",
    "In this section we'll log a couple of models to see how mlflow handles model management. Above, we used `hyperopt` to train a bunch of models at once. Let's do this again, and log some of the models that we train.\n",
    "\n",
    "### Logging as an Artifact\n",
    "\n",
    "First we can try logging a model as an artifact. To do this, we must first save the model itself, which we can do by using the `pickle` library. We then log the model as an artifact like we did with data and images. "
   ]
  },
  {
   "cell_type": "code",
   "execution_count": 19,
   "metadata": {},
   "outputs": [],
   "source": [
    "import pickle\n",
    "\n",
    "os.makedirs('../models', exist_ok = True)\n",
    "\n",
    "dt = DecisionTreeClassifier()\n",
    "dt.fit(X_train, y_train)\n",
    "\n",
    "with open('../models/model.pkl','wb') as f:\n",
    "    pickle.dump(dt,f)\n",
    "\n",
    "# First we'll log the model as an artifact\n",
    "mlflow.log_artifact('../models/model.pkl', artifact_path='my_models')"
   ]
  },
  {
   "attachments": {},
   "cell_type": "markdown",
   "metadata": {},
   "source": [
    "### Logging as a Model\n",
    "\n",
    "Logging the model as an artifact only logs the pickle file (the serialized version of the model). It's not really very useful, especially since models contain so much metadata that might be critical to know for deploying the model later. mlflow has a built-in way of logging models specifically, so let's see how to use this, and how it's different from logging models as an artifact."
   ]
  },
  {
   "cell_type": "code",
   "execution_count": 20,
   "metadata": {},
   "outputs": [
    {
     "name": "stderr",
     "output_type": "stream",
     "text": [
      "2025/04/17 09:58:02 WARNING mlflow.utils.environment: Failed to resolve installed pip version. ``pip`` will be added to conda.yaml environment spec without a version specifier.\n",
      "2025/04/17 09:58:03 WARNING mlflow.models.model: Input example should be provided to infer model signature if the model signature is not provided when logging the model.\n",
      "2025/04/17 09:58:03 INFO mlflow.tracking._tracking_service.client: 🏃 View run sedate-squid-642 at: https://mlflow-server-931658252548.us-west2.run.app/#/experiments/1/runs/438c896372a0495b958c4d25efc9335d.\n",
      "2025/04/17 09:58:03 INFO mlflow.tracking._tracking_service.client: 🧪 View experiment at: https://mlflow-server-931658252548.us-west2.run.app/#/experiments/1.\n"
     ]
    }
   ],
   "source": [
    "# Let's do it again, but this time we will log the model using log_model\n",
    "mlflow.sklearn.log_model(dt, artifact_path = 'better_models')\n",
    "mlflow.end_run()"
   ]
  },
  {
   "attachments": {
    "mlflow2.png": {
     "image/png": "[encoded data removed]"
    }
   },
   "cell_type": "markdown",
   "metadata": {},
   "source": [
    "Ok, so if you go to the mlflow UI at this point you can see the difference in `log_artifact`, which simply logs the pickle file, and `log_model`, which also gives you information about the environment, required packages, and model flavor.\n",
    "\n",
    "![mlflow2.png](attachment:mlflow2.png)\n",
    "\n",
    "Let's do this one more time, but this time let's use `hyperopt` and log all of the trained models separately. Let's do this in a new experiment called 'demo-experiment2'. "
   ]
  },
  {
   "cell_type": "code",
   "execution_count": 21,
   "metadata": {},
   "outputs": [
    {
     "name": "stderr",
     "output_type": "stream",
     "text": [
      "2025/04/17 09:58:13 INFO mlflow.tracking.fluent: Experiment with name 'demo-experiment2' does not exist. Creating a new experiment.\n"
     ]
    },
    {
     "name": "stdout",
     "output_type": "stream",
     "text": [
      "  0%|          | 0/32 [00:00<?, ?trial/s, best loss=?]"
     ]
    },
    {
     "name": "stderr",
     "output_type": "stream",
     "text": [
      "2025/04/17 09:58:15 WARNING mlflow.utils.environment: Failed to resolve installed pip version. ``pip`` will be added to conda.yaml environment spec without a version specifier.\n",
      "\n",
      "2025/04/17 09:58:17 WARNING mlflow.models.model: Input example should be provided to infer model signature if the model signature is not provided when logging the model.\n",
      "\n",
      "2025/04/17 09:58:17 INFO mlflow.tracking._tracking_service.client: 🏃 View run handsome-zebra-907 at: https://mlflow-server-931658252548.us-west2.run.app/#/experiments/2/runs/13a39bf1eaaf4f44bc74e7f3953fbc64.\n",
      "\n",
      "2025/04/17 09:58:17 INFO mlflow.tracking._tracking_service.client: 🧪 View experiment at: https://mlflow-server-931658252548.us-west2.run.app/#/experiments/2.\n",
      "\n"
     ]
    },
    {
     "name": "stdout",
     "output_type": "stream",
     "text": [
      "  3%|▎         | 1/32 [00:03<01:50,  3.58s/trial, best loss: -0.9607936507936508]"
     ]
    },
    {
     "name": "stderr",
     "output_type": "stream",
     "text": [
      "2025/04/17 09:58:18 WARNING mlflow.utils.environment: Failed to resolve installed pip version. ``pip`` will be added to conda.yaml environment spec without a version specifier.\n",
      "\n",
      "2025/04/17 09:58:19 WARNING mlflow.models.model: Input example should be provided to infer model signature if the model signature is not provided when logging the model.\n",
      "\n",
      "2025/04/17 09:58:19 INFO mlflow.tracking._tracking_service.client: 🏃 View run serious-stork-882 at: https://mlflow-server-931658252548.us-west2.run.app/#/experiments/2/runs/f462ad3033b34d90ab65c58a3a78ba2d.\n",
      "\n",
      "2025/04/17 09:58:19 INFO mlflow.tracking._tracking_service.client: 🧪 View experiment at: https://mlflow-server-931658252548.us-west2.run.app/#/experiments/2.\n",
      "\n"
     ]
    },
    {
     "name": "stdout",
     "output_type": "stream",
     "text": [
      "  6%|▋         | 2/32 [00:05<01:20,  2.68s/trial, best loss: -0.9607936507936508]"
     ]
    },
    {
     "name": "stderr",
     "output_type": "stream",
     "text": [
      "2025/04/17 09:58:20 WARNING mlflow.utils.environment: Failed to resolve installed pip version. ``pip`` will be added to conda.yaml environment spec without a version specifier.\n",
      "\n",
      "2025/04/17 09:58:22 WARNING mlflow.models.model: Input example should be provided to infer model signature if the model signature is not provided when logging the model.\n",
      "\n",
      "2025/04/17 09:58:22 INFO mlflow.tracking._tracking_service.client: 🏃 View run welcoming-loon-410 at: https://mlflow-server-931658252548.us-west2.run.app/#/experiments/2/runs/039b4061f7284f11a0ee9ad8949d2123.\n",
      "\n",
      "2025/04/17 09:58:22 INFO mlflow.tracking._tracking_service.client: 🧪 View experiment at: https://mlflow-server-931658252548.us-west2.run.app/#/experiments/2.\n",
      "\n"
     ]
    },
    {
     "name": "stdout",
     "output_type": "stream",
     "text": [
      "  9%|▉         | 3/32 [00:08<01:16,  2.63s/trial, best loss: -0.9607936507936508]"
     ]
    },
    {
     "name": "stderr",
     "output_type": "stream",
     "text": [
      "2025/04/17 09:58:23 WARNING mlflow.utils.environment: Failed to resolve installed pip version. ``pip`` will be added to conda.yaml environment spec without a version specifier.\n",
      "\n",
      "2025/04/17 09:58:24 WARNING mlflow.models.model: Input example should be provided to infer model signature if the model signature is not provided when logging the model.\n",
      "\n",
      "2025/04/17 09:58:25 INFO mlflow.tracking._tracking_service.client: 🏃 View run thundering-lark-5 at: https://mlflow-server-931658252548.us-west2.run.app/#/experiments/2/runs/b6dbc5bdeade4d378f61eeeb9777b363.\n",
      "\n",
      "2025/04/17 09:58:25 INFO mlflow.tracking._tracking_service.client: 🧪 View experiment at: https://mlflow-server-931658252548.us-west2.run.app/#/experiments/2.\n",
      "\n"
     ]
    },
    {
     "name": "stdout",
     "output_type": "stream",
     "text": [
      " 12%|█▎        | 4/32 [00:11<01:19,  2.85s/trial, best loss: -0.9609523809523809]"
     ]
    },
    {
     "name": "stderr",
     "output_type": "stream",
     "text": [
      "2025/04/17 09:58:28 WARNING mlflow.utils.environment: Failed to resolve installed pip version. ``pip`` will be added to conda.yaml environment spec without a version specifier.\n",
      "\n",
      "2025/04/17 09:58:29 WARNING mlflow.models.model: Input example should be provided to infer model signature if the model signature is not provided when logging the model.\n",
      "\n",
      "2025/04/17 09:58:29 INFO mlflow.tracking._tracking_service.client: 🏃 View run agreeable-shrike-94 at: https://mlflow-server-931658252548.us-west2.run.app/#/experiments/2/runs/506f07f6314e4289b290d6b632e44ceb.\n",
      "\n",
      "2025/04/17 09:58:29 INFO mlflow.tracking._tracking_service.client: 🧪 View experiment at: https://mlflow-server-931658252548.us-west2.run.app/#/experiments/2.\n",
      "\n"
     ]
    },
    {
     "name": "stdout",
     "output_type": "stream",
     "text": [
      " 16%|█▌        | 5/32 [00:15<01:26,  3.20s/trial, best loss: -0.9665079365079364]"
     ]
    },
    {
     "name": "stderr",
     "output_type": "stream",
     "text": [
      "2025/04/17 09:58:30 WARNING mlflow.utils.environment: Failed to resolve installed pip version. ``pip`` will be added to conda.yaml environment spec without a version specifier.\n",
      "\n",
      "2025/04/17 09:58:31 WARNING mlflow.models.model: Input example should be provided to infer model signature if the model signature is not provided when logging the model.\n",
      "\n",
      "2025/04/17 09:58:31 INFO mlflow.tracking._tracking_service.client: 🏃 View run caring-doe-713 at: https://mlflow-server-931658252548.us-west2.run.app/#/experiments/2/runs/2dd87bb0187b4ce096204d6086c03256.\n",
      "\n",
      "2025/04/17 09:58:31 INFO mlflow.tracking._tracking_service.client: 🧪 View experiment at: https://mlflow-server-931658252548.us-west2.run.app/#/experiments/2.\n",
      "\n"
     ]
    },
    {
     "name": "stdout",
     "output_type": "stream",
     "text": [
      " 19%|█▉        | 6/32 [00:17<01:12,  2.78s/trial, best loss: -0.9665079365079364]"
     ]
    },
    {
     "name": "stderr",
     "output_type": "stream",
     "text": [
      "2025/04/17 09:58:33 WARNING mlflow.utils.environment: Failed to resolve installed pip version. ``pip`` will be added to conda.yaml environment spec without a version specifier.\n",
      "\n",
      "2025/04/17 09:58:34 WARNING mlflow.models.model: Input example should be provided to infer model signature if the model signature is not provided when logging the model.\n",
      "\n",
      "2025/04/17 09:58:34 INFO mlflow.tracking._tracking_service.client: 🏃 View run bedecked-penguin-704 at: https://mlflow-server-931658252548.us-west2.run.app/#/experiments/2/runs/3911726d16384a698e293ad7e22660da.\n",
      "\n",
      "2025/04/17 09:58:34 INFO mlflow.tracking._tracking_service.client: 🧪 View experiment at: https://mlflow-server-931658252548.us-west2.run.app/#/experiments/2.\n",
      "\n"
     ]
    },
    {
     "name": "stdout",
     "output_type": "stream",
     "text": [
      " 22%|██▏       | 7/32 [00:20<01:13,  2.95s/trial, best loss: -0.9665079365079364]"
     ]
    },
    {
     "name": "stderr",
     "output_type": "stream",
     "text": [
      "2025/04/17 09:58:36 WARNING mlflow.utils.environment: Failed to resolve installed pip version. ``pip`` will be added to conda.yaml environment spec without a version specifier.\n",
      "\n",
      "2025/04/17 09:58:36 WARNING mlflow.models.model: Input example should be provided to infer model signature if the model signature is not provided when logging the model.\n",
      "\n",
      "2025/04/17 09:58:37 INFO mlflow.tracking._tracking_service.client: 🏃 View run beautiful-sloth-535 at: https://mlflow-server-931658252548.us-west2.run.app/#/experiments/2/runs/501a02904fa14bf7b64f373243e26039.\n",
      "\n",
      "2025/04/17 09:58:37 INFO mlflow.tracking._tracking_service.client: 🧪 View experiment at: https://mlflow-server-931658252548.us-west2.run.app/#/experiments/2.\n",
      "\n"
     ]
    },
    {
     "name": "stdout",
     "output_type": "stream",
     "text": [
      " 25%|██▌       | 8/32 [00:23<01:08,  2.85s/trial, best loss: -0.9665079365079364]"
     ]
    },
    {
     "name": "stderr",
     "output_type": "stream",
     "text": [
      "2025/04/17 09:58:38 WARNING mlflow.utils.environment: Failed to resolve installed pip version. ``pip`` will be added to conda.yaml environment spec without a version specifier.\n",
      "\n",
      "2025/04/17 09:58:40 WARNING mlflow.models.model: Input example should be provided to infer model signature if the model signature is not provided when logging the model.\n",
      "\n",
      "2025/04/17 09:58:40 INFO mlflow.tracking._tracking_service.client: 🏃 View run resilient-fowl-175 at: https://mlflow-server-931658252548.us-west2.run.app/#/experiments/2/runs/ef8fd119294f4b6e97edecb19d59fe8d.\n",
      "\n",
      "2025/04/17 09:58:40 INFO mlflow.tracking._tracking_service.client: 🧪 View experiment at: https://mlflow-server-931658252548.us-west2.run.app/#/experiments/2.\n",
      "\n"
     ]
    },
    {
     "name": "stdout",
     "output_type": "stream",
     "text": [
      " 28%|██▊       | 9/32 [00:27<01:17,  3.36s/trial, best loss: -0.9665079365079364]"
     ]
    },
    {
     "name": "stderr",
     "output_type": "stream",
     "text": [
      "2025/04/17 09:58:43 WARNING mlflow.utils.environment: Failed to resolve installed pip version. ``pip`` will be added to conda.yaml environment spec without a version specifier.\n",
      "\n",
      "2025/04/17 09:58:45 WARNING mlflow.models.model: Input example should be provided to infer model signature if the model signature is not provided when logging the model.\n",
      "\n",
      "2025/04/17 09:58:45 INFO mlflow.tracking._tracking_service.client: 🏃 View run overjoyed-jay-731 at: https://mlflow-server-931658252548.us-west2.run.app/#/experiments/2/runs/d6e2194a20c849e89c9a6c4c8907ab31.\n",
      "\n",
      "2025/04/17 09:58:45 INFO mlflow.tracking._tracking_service.client: 🧪 View experiment at: https://mlflow-server-931658252548.us-west2.run.app/#/experiments/2.\n",
      "\n"
     ]
    },
    {
     "name": "stdout",
     "output_type": "stream",
     "text": [
      " 31%|███▏      | 10/32 [00:31<01:18,  3.55s/trial, best loss: -0.9665079365079364]"
     ]
    },
    {
     "name": "stderr",
     "output_type": "stream",
     "text": [
      "2025/04/17 09:58:47 WARNING mlflow.utils.environment: Failed to resolve installed pip version. ``pip`` will be added to conda.yaml environment spec without a version specifier.\n",
      "\n",
      "2025/04/17 09:58:48 WARNING mlflow.models.model: Input example should be provided to infer model signature if the model signature is not provided when logging the model.\n",
      "\n",
      "2025/04/17 09:58:48 INFO mlflow.tracking._tracking_service.client: 🏃 View run sincere-grouse-396 at: https://mlflow-server-931658252548.us-west2.run.app/#/experiments/2/runs/3995aff0fa124020be9bc239845c203b.\n",
      "\n",
      "2025/04/17 09:58:48 INFO mlflow.tracking._tracking_service.client: 🧪 View experiment at: https://mlflow-server-931658252548.us-west2.run.app/#/experiments/2.\n",
      "\n"
     ]
    },
    {
     "name": "stdout",
     "output_type": "stream",
     "text": [
      " 34%|███▍      | 11/32 [00:34<01:13,  3.51s/trial, best loss: -0.9665079365079364]"
     ]
    },
    {
     "name": "stderr",
     "output_type": "stream",
     "text": [
      "2025/04/17 09:58:50 WARNING mlflow.utils.environment: Failed to resolve installed pip version. ``pip`` will be added to conda.yaml environment spec without a version specifier.\n",
      "\n",
      "2025/04/17 09:58:52 WARNING mlflow.models.model: Input example should be provided to infer model signature if the model signature is not provided when logging the model.\n",
      "\n",
      "2025/04/17 09:58:52 INFO mlflow.tracking._tracking_service.client: 🏃 View run chill-squid-323 at: https://mlflow-server-931658252548.us-west2.run.app/#/experiments/2/runs/6abde29eecdb413299294ca6bc271935.\n",
      "\n",
      "2025/04/17 09:58:52 INFO mlflow.tracking._tracking_service.client: 🧪 View experiment at: https://mlflow-server-931658252548.us-west2.run.app/#/experiments/2.\n",
      "\n"
     ]
    },
    {
     "name": "stdout",
     "output_type": "stream",
     "text": [
      " 38%|███▊      | 12/32 [00:38<01:12,  3.64s/trial, best loss: -0.9665079365079364]"
     ]
    },
    {
     "name": "stderr",
     "output_type": "stream",
     "text": [
      "2025/04/17 09:58:55 WARNING mlflow.utils.environment: Failed to resolve installed pip version. ``pip`` will be added to conda.yaml environment spec without a version specifier.\n",
      "\n",
      "2025/04/17 09:58:56 WARNING mlflow.models.model: Input example should be provided to infer model signature if the model signature is not provided when logging the model.\n",
      "\n",
      "2025/04/17 09:58:56 INFO mlflow.tracking._tracking_service.client: 🏃 View run fortunate-swan-207 at: https://mlflow-server-931658252548.us-west2.run.app/#/experiments/2/runs/67cc57232cb54b3894d651016e868021.\n",
      "\n",
      "2025/04/17 09:58:56 INFO mlflow.tracking._tracking_service.client: 🧪 View experiment at: https://mlflow-server-931658252548.us-west2.run.app/#/experiments/2.\n",
      "\n"
     ]
    },
    {
     "name": "stdout",
     "output_type": "stream",
     "text": [
      " 41%|████      | 13/32 [00:43<01:12,  3.83s/trial, best loss: -0.9665079365079364]"
     ]
    },
    {
     "name": "stderr",
     "output_type": "stream",
     "text": [
      "2025/04/17 09:58:58 WARNING mlflow.utils.environment: Failed to resolve installed pip version. ``pip`` will be added to conda.yaml environment spec without a version specifier.\n",
      "\n",
      "2025/04/17 09:58:59 WARNING mlflow.models.model: Input example should be provided to infer model signature if the model signature is not provided when logging the model.\n",
      "\n",
      "2025/04/17 09:59:00 INFO mlflow.tracking._tracking_service.client: 🏃 View run invincible-deer-297 at: https://mlflow-server-931658252548.us-west2.run.app/#/experiments/2/runs/a9dd0ace902e4411be125a75600f5823.\n",
      "\n",
      "2025/04/17 09:59:00 INFO mlflow.tracking._tracking_service.client: 🧪 View experiment at: https://mlflow-server-931658252548.us-west2.run.app/#/experiments/2.\n",
      "\n"
     ]
    },
    {
     "name": "stdout",
     "output_type": "stream",
     "text": [
      " 44%|████▍     | 14/32 [00:46<01:03,  3.54s/trial, best loss: -0.9777777777777779]"
     ]
    },
    {
     "name": "stderr",
     "output_type": "stream",
     "text": [
      "2025/04/17 09:59:02 WARNING mlflow.utils.environment: Failed to resolve installed pip version. ``pip`` will be added to conda.yaml environment spec without a version specifier.\n",
      "\n",
      "2025/04/17 09:59:03 WARNING mlflow.models.model: Input example should be provided to infer model signature if the model signature is not provided when logging the model.\n",
      "\n",
      "2025/04/17 09:59:03 INFO mlflow.tracking._tracking_service.client: 🏃 View run worried-wolf-171 at: https://mlflow-server-931658252548.us-west2.run.app/#/experiments/2/runs/e03b0027cdc04647b3e38260cac857a3.\n",
      "\n",
      "2025/04/17 09:59:03 INFO mlflow.tracking._tracking_service.client: 🧪 View experiment at: https://mlflow-server-931658252548.us-west2.run.app/#/experiments/2.\n",
      "\n"
     ]
    },
    {
     "name": "stdout",
     "output_type": "stream",
     "text": [
      " 47%|████▋     | 15/32 [00:49<00:58,  3.42s/trial, best loss: -0.9777777777777779]"
     ]
    },
    {
     "name": "stderr",
     "output_type": "stream",
     "text": [
      "2025/04/17 09:59:05 WARNING mlflow.utils.environment: Failed to resolve installed pip version. ``pip`` will be added to conda.yaml environment spec without a version specifier.\n",
      "\n",
      "2025/04/17 09:59:06 WARNING mlflow.models.model: Input example should be provided to infer model signature if the model signature is not provided when logging the model.\n",
      "\n",
      "2025/04/17 09:59:06 INFO mlflow.tracking._tracking_service.client: 🏃 View run languid-eel-962 at: https://mlflow-server-931658252548.us-west2.run.app/#/experiments/2/runs/7b4cc56561bb49539ba8458b4580deea.\n",
      "\n",
      "2025/04/17 09:59:06 INFO mlflow.tracking._tracking_service.client: 🧪 View experiment at: https://mlflow-server-931658252548.us-west2.run.app/#/experiments/2.\n",
      "\n"
     ]
    },
    {
     "name": "stdout",
     "output_type": "stream",
     "text": [
      " 50%|█████     | 16/32 [00:52<00:52,  3.31s/trial, best loss: -0.9777777777777779]"
     ]
    },
    {
     "name": "stderr",
     "output_type": "stream",
     "text": [
      "2025/04/17 09:59:07 WARNING mlflow.utils.environment: Failed to resolve installed pip version. ``pip`` will be added to conda.yaml environment spec without a version specifier.\n",
      "\n",
      "2025/04/17 09:59:08 WARNING mlflow.models.model: Input example should be provided to infer model signature if the model signature is not provided when logging the model.\n",
      "\n",
      "2025/04/17 09:59:08 INFO mlflow.tracking._tracking_service.client: 🏃 View run peaceful-penguin-723 at: https://mlflow-server-931658252548.us-west2.run.app/#/experiments/2/runs/77f69c766af8419c9efd291c6a3928dc.\n",
      "\n",
      "2025/04/17 09:59:08 INFO mlflow.tracking._tracking_service.client: 🧪 View experiment at: https://mlflow-server-931658252548.us-west2.run.app/#/experiments/2.\n",
      "\n"
     ]
    },
    {
     "name": "stdout",
     "output_type": "stream",
     "text": [
      " 53%|█████▎    | 17/32 [00:54<00:43,  2.92s/trial, best loss: -0.9777777777777779]"
     ]
    },
    {
     "name": "stderr",
     "output_type": "stream",
     "text": [
      "2025/04/17 09:59:09 WARNING mlflow.utils.environment: Failed to resolve installed pip version. ``pip`` will be added to conda.yaml environment spec without a version specifier.\n",
      "\n",
      "2025/04/17 09:59:10 WARNING mlflow.models.model: Input example should be provided to infer model signature if the model signature is not provided when logging the model.\n",
      "\n",
      "2025/04/17 09:59:10 INFO mlflow.tracking._tracking_service.client: 🏃 View run persistent-sheep-93 at: https://mlflow-server-931658252548.us-west2.run.app/#/experiments/2/runs/61babf27682744498f59bcf48feb33c9.\n",
      "\n",
      "2025/04/17 09:59:10 INFO mlflow.tracking._tracking_service.client: 🧪 View experiment at: https://mlflow-server-931658252548.us-west2.run.app/#/experiments/2.\n",
      "\n"
     ]
    },
    {
     "name": "stdout",
     "output_type": "stream",
     "text": [
      " 56%|█████▋    | 18/32 [00:56<00:39,  2.80s/trial, best loss: -0.9777777777777779]"
     ]
    },
    {
     "name": "stderr",
     "output_type": "stream",
     "text": [
      "2025/04/17 09:59:12 WARNING mlflow.utils.environment: Failed to resolve installed pip version. ``pip`` will be added to conda.yaml environment spec without a version specifier.\n",
      "\n",
      "2025/04/17 09:59:13 WARNING mlflow.models.model: Input example should be provided to infer model signature if the model signature is not provided when logging the model.\n",
      "\n",
      "2025/04/17 09:59:13 INFO mlflow.tracking._tracking_service.client: 🏃 View run amazing-hen-168 at: https://mlflow-server-931658252548.us-west2.run.app/#/experiments/2/runs/781764470c054b00ba3bfc7294e0b64e.\n",
      "\n",
      "2025/04/17 09:59:13 INFO mlflow.tracking._tracking_service.client: 🧪 View experiment at: https://mlflow-server-931658252548.us-west2.run.app/#/experiments/2.\n",
      "\n"
     ]
    },
    {
     "name": "stdout",
     "output_type": "stream",
     "text": [
      " 59%|█████▉    | 19/32 [00:59<00:37,  2.87s/trial, best loss: -0.9777777777777779]"
     ]
    },
    {
     "name": "stderr",
     "output_type": "stream",
     "text": [
      "2025/04/17 09:59:15 WARNING mlflow.utils.environment: Failed to resolve installed pip version. ``pip`` will be added to conda.yaml environment spec without a version specifier.\n",
      "\n",
      "2025/04/17 09:59:16 WARNING mlflow.models.model: Input example should be provided to infer model signature if the model signature is not provided when logging the model.\n",
      "\n",
      "2025/04/17 09:59:16 INFO mlflow.tracking._tracking_service.client: 🏃 View run wise-cub-974 at: https://mlflow-server-931658252548.us-west2.run.app/#/experiments/2/runs/791a910931bc4597a3031f8ce8aa05e3.\n",
      "\n",
      "2025/04/17 09:59:16 INFO mlflow.tracking._tracking_service.client: 🧪 View experiment at: https://mlflow-server-931658252548.us-west2.run.app/#/experiments/2.\n",
      "\n"
     ]
    },
    {
     "name": "stdout",
     "output_type": "stream",
     "text": [
      " 62%|██████▎   | 20/32 [01:02<00:34,  2.90s/trial, best loss: -0.9777777777777779]"
     ]
    },
    {
     "name": "stderr",
     "output_type": "stream",
     "text": [
      "2025/04/17 09:59:19 WARNING mlflow.utils.environment: Failed to resolve installed pip version. ``pip`` will be added to conda.yaml environment spec without a version specifier.\n",
      "\n",
      "2025/04/17 09:59:19 WARNING mlflow.models.model: Input example should be provided to infer model signature if the model signature is not provided when logging the model.\n",
      "\n",
      "2025/04/17 09:59:19 INFO mlflow.tracking._tracking_service.client: 🏃 View run bemused-horse-749 at: https://mlflow-server-931658252548.us-west2.run.app/#/experiments/2/runs/397263b8cd1f47228fcacaa24cf81d2c.\n",
      "\n",
      "2025/04/17 09:59:19 INFO mlflow.tracking._tracking_service.client: 🧪 View experiment at: https://mlflow-server-931658252548.us-west2.run.app/#/experiments/2.\n",
      "\n"
     ]
    },
    {
     "name": "stdout",
     "output_type": "stream",
     "text": [
      " 66%|██████▌   | 21/32 [01:05<00:32,  2.94s/trial, best loss: -0.9777777777777779]"
     ]
    },
    {
     "name": "stderr",
     "output_type": "stream",
     "text": [
      "2025/04/17 09:59:21 WARNING mlflow.utils.environment: Failed to resolve installed pip version. ``pip`` will be added to conda.yaml environment spec without a version specifier.\n",
      "\n",
      "2025/04/17 09:59:22 WARNING mlflow.models.model: Input example should be provided to infer model signature if the model signature is not provided when logging the model.\n",
      "\n",
      "2025/04/17 09:59:22 INFO mlflow.tracking._tracking_service.client: 🏃 View run sedate-shrew-801 at: https://mlflow-server-931658252548.us-west2.run.app/#/experiments/2/runs/c05a9769f97a4539907530fcf3063eec.\n",
      "\n",
      "2025/04/17 09:59:22 INFO mlflow.tracking._tracking_service.client: 🧪 View experiment at: https://mlflow-server-931658252548.us-west2.run.app/#/experiments/2.\n",
      "\n"
     ]
    },
    {
     "name": "stdout",
     "output_type": "stream",
     "text": [
      " 69%|██████▉   | 22/32 [01:08<00:27,  2.78s/trial, best loss: -0.9777777777777779]"
     ]
    },
    {
     "name": "stderr",
     "output_type": "stream",
     "text": [
      "2025/04/17 09:59:24 WARNING mlflow.utils.environment: Failed to resolve installed pip version. ``pip`` will be added to conda.yaml environment spec without a version specifier.\n",
      "\n",
      "2025/04/17 09:59:25 WARNING mlflow.models.model: Input example should be provided to infer model signature if the model signature is not provided when logging the model.\n",
      "\n",
      "2025/04/17 09:59:25 INFO mlflow.tracking._tracking_service.client: 🏃 View run traveling-frog-844 at: https://mlflow-server-931658252548.us-west2.run.app/#/experiments/2/runs/f769772633af4bfa802abcba02908103.\n",
      "\n",
      "2025/04/17 09:59:25 INFO mlflow.tracking._tracking_service.client: 🧪 View experiment at: https://mlflow-server-931658252548.us-west2.run.app/#/experiments/2.\n",
      "\n"
     ]
    },
    {
     "name": "stdout",
     "output_type": "stream",
     "text": [
      " 72%|███████▏  | 23/32 [01:11<00:26,  2.98s/trial, best loss: -0.9831746031746033]"
     ]
    },
    {
     "name": "stderr",
     "output_type": "stream",
     "text": [
      "2025/04/17 09:59:27 WARNING mlflow.utils.environment: Failed to resolve installed pip version. ``pip`` will be added to conda.yaml environment spec without a version specifier.\n",
      "\n",
      "2025/04/17 09:59:28 WARNING mlflow.models.model: Input example should be provided to infer model signature if the model signature is not provided when logging the model.\n",
      "\n",
      "2025/04/17 09:59:28 INFO mlflow.tracking._tracking_service.client: 🏃 View run spiffy-hen-382 at: https://mlflow-server-931658252548.us-west2.run.app/#/experiments/2/runs/df0c41ff0cdf4344954cc5d2023706c1.\n",
      "\n",
      "2025/04/17 09:59:28 INFO mlflow.tracking._tracking_service.client: 🧪 View experiment at: https://mlflow-server-931658252548.us-west2.run.app/#/experiments/2.\n",
      "\n"
     ]
    },
    {
     "name": "stdout",
     "output_type": "stream",
     "text": [
      " 75%|███████▌  | 24/32 [01:14<00:23,  2.96s/trial, best loss: -0.9831746031746033]"
     ]
    },
    {
     "name": "stderr",
     "output_type": "stream",
     "text": [
      "2025/04/17 09:59:30 WARNING mlflow.utils.environment: Failed to resolve installed pip version. ``pip`` will be added to conda.yaml environment spec without a version specifier.\n",
      "\n",
      "2025/04/17 09:59:31 WARNING mlflow.models.model: Input example should be provided to infer model signature if the model signature is not provided when logging the model.\n",
      "\n",
      "2025/04/17 09:59:31 INFO mlflow.tracking._tracking_service.client: 🏃 View run unique-koi-107 at: https://mlflow-server-931658252548.us-west2.run.app/#/experiments/2/runs/05cebcda81cd477597d2bf4184680dcc.\n",
      "\n",
      "2025/04/17 09:59:31 INFO mlflow.tracking._tracking_service.client: 🧪 View experiment at: https://mlflow-server-931658252548.us-west2.run.app/#/experiments/2.\n",
      "\n"
     ]
    },
    {
     "name": "stdout",
     "output_type": "stream",
     "text": [
      " 78%|███████▊  | 25/32 [01:17<00:20,  2.91s/trial, best loss: -0.9831746031746033]"
     ]
    },
    {
     "name": "stderr",
     "output_type": "stream",
     "text": [
      "2025/04/17 09:59:33 WARNING mlflow.utils.environment: Failed to resolve installed pip version. ``pip`` will be added to conda.yaml environment spec without a version specifier.\n",
      "\n",
      "2025/04/17 09:59:34 WARNING mlflow.models.model: Input example should be provided to infer model signature if the model signature is not provided when logging the model.\n",
      "\n",
      "2025/04/17 09:59:34 INFO mlflow.tracking._tracking_service.client: 🏃 View run polite-wolf-594 at: https://mlflow-server-931658252548.us-west2.run.app/#/experiments/2/runs/a324ff0aa7244520be2d6c38ecec9a8d.\n",
      "\n",
      "2025/04/17 09:59:34 INFO mlflow.tracking._tracking_service.client: 🧪 View experiment at: https://mlflow-server-931658252548.us-west2.run.app/#/experiments/2.\n",
      "\n"
     ]
    },
    {
     "name": "stdout",
     "output_type": "stream",
     "text": [
      " 81%|████████▏ | 26/32 [01:20<00:18,  3.09s/trial, best loss: -0.9831746031746033]"
     ]
    },
    {
     "name": "stderr",
     "output_type": "stream",
     "text": [
      "2025/04/17 09:59:36 WARNING mlflow.utils.environment: Failed to resolve installed pip version. ``pip`` will be added to conda.yaml environment spec without a version specifier.\n",
      "\n",
      "2025/04/17 09:59:37 WARNING mlflow.models.model: Input example should be provided to infer model signature if the model signature is not provided when logging the model.\n",
      "\n",
      "2025/04/17 09:59:37 INFO mlflow.tracking._tracking_service.client: 🏃 View run powerful-crow-520 at: https://mlflow-server-931658252548.us-west2.run.app/#/experiments/2/runs/786b0a3474e64e8f9e7052426a58c1c2.\n",
      "\n",
      "2025/04/17 09:59:37 INFO mlflow.tracking._tracking_service.client: 🧪 View experiment at: https://mlflow-server-931658252548.us-west2.run.app/#/experiments/2.\n",
      "\n"
     ]
    },
    {
     "name": "stdout",
     "output_type": "stream",
     "text": [
      " 84%|████████▍ | 27/32 [01:23<00:14,  2.90s/trial, best loss: -0.9831746031746033]"
     ]
    },
    {
     "name": "stderr",
     "output_type": "stream",
     "text": [
      "2025/04/17 09:59:38 WARNING mlflow.utils.environment: Failed to resolve installed pip version. ``pip`` will be added to conda.yaml environment spec without a version specifier.\n",
      "\n",
      "2025/04/17 09:59:39 WARNING mlflow.models.model: Input example should be provided to infer model signature if the model signature is not provided when logging the model.\n",
      "\n",
      "2025/04/17 09:59:39 INFO mlflow.tracking._tracking_service.client: 🏃 View run calm-fly-280 at: https://mlflow-server-931658252548.us-west2.run.app/#/experiments/2/runs/a1011dc5e1084dd6bc828b88d8ed3c18.\n",
      "\n",
      "2025/04/17 09:59:39 INFO mlflow.tracking._tracking_service.client: 🧪 View experiment at: https://mlflow-server-931658252548.us-west2.run.app/#/experiments/2.\n",
      "\n"
     ]
    },
    {
     "name": "stdout",
     "output_type": "stream",
     "text": [
      " 88%|████████▊ | 28/32 [01:25<00:10,  2.69s/trial, best loss: -0.9831746031746033]"
     ]
    },
    {
     "name": "stderr",
     "output_type": "stream",
     "text": [
      "2025/04/17 09:59:40 WARNING mlflow.utils.environment: Failed to resolve installed pip version. ``pip`` will be added to conda.yaml environment spec without a version specifier.\n",
      "\n",
      "2025/04/17 09:59:42 WARNING mlflow.models.model: Input example should be provided to infer model signature if the model signature is not provided when logging the model.\n",
      "\n",
      "2025/04/17 09:59:42 INFO mlflow.tracking._tracking_service.client: 🏃 View run fortunate-ox-412 at: https://mlflow-server-931658252548.us-west2.run.app/#/experiments/2/runs/74677513ede744a3ab54516d74b29a5c.\n",
      "\n",
      "2025/04/17 09:59:42 INFO mlflow.tracking._tracking_service.client: 🧪 View experiment at: https://mlflow-server-931658252548.us-west2.run.app/#/experiments/2.\n",
      "\n"
     ]
    },
    {
     "name": "stdout",
     "output_type": "stream",
     "text": [
      " 91%|█████████ | 29/32 [01:28<00:08,  2.80s/trial, best loss: -0.9831746031746033]"
     ]
    },
    {
     "name": "stderr",
     "output_type": "stream",
     "text": [
      "2025/04/17 09:59:45 WARNING mlflow.utils.environment: Failed to resolve installed pip version. ``pip`` will be added to conda.yaml environment spec without a version specifier.\n",
      "\n",
      "2025/04/17 09:59:45 WARNING mlflow.models.model: Input example should be provided to infer model signature if the model signature is not provided when logging the model.\n",
      "\n",
      "2025/04/17 09:59:45 INFO mlflow.tracking._tracking_service.client: 🏃 View run fortunate-rat-620 at: https://mlflow-server-931658252548.us-west2.run.app/#/experiments/2/runs/8bbe9e25fb4443a0b64d987cecf60f1d.\n",
      "\n",
      "2025/04/17 09:59:45 INFO mlflow.tracking._tracking_service.client: 🧪 View experiment at: https://mlflow-server-931658252548.us-west2.run.app/#/experiments/2.\n",
      "\n"
     ]
    },
    {
     "name": "stdout",
     "output_type": "stream",
     "text": [
      " 94%|█████████▍| 30/32 [01:31<00:05,  2.91s/trial, best loss: -0.9888888888888889]"
     ]
    },
    {
     "name": "stderr",
     "output_type": "stream",
     "text": [
      "2025/04/17 09:59:47 WARNING mlflow.utils.environment: Failed to resolve installed pip version. ``pip`` will be added to conda.yaml environment spec without a version specifier.\n",
      "\n",
      "2025/04/17 09:59:49 WARNING mlflow.models.model: Input example should be provided to infer model signature if the model signature is not provided when logging the model.\n",
      "\n",
      "2025/04/17 09:59:49 INFO mlflow.tracking._tracking_service.client: 🏃 View run capricious-sheep-537 at: https://mlflow-server-931658252548.us-west2.run.app/#/experiments/2/runs/c88928c7dd17489dbf5b5f8bb3faf07e.\n",
      "\n",
      "2025/04/17 09:59:49 INFO mlflow.tracking._tracking_service.client: 🧪 View experiment at: https://mlflow-server-931658252548.us-west2.run.app/#/experiments/2.\n",
      "\n"
     ]
    },
    {
     "name": "stdout",
     "output_type": "stream",
     "text": [
      " 97%|█████████▋| 31/32 [01:35<00:03,  3.13s/trial, best loss: -0.9888888888888889]"
     ]
    },
    {
     "name": "stderr",
     "output_type": "stream",
     "text": [
      "2025/04/17 09:59:50 WARNING mlflow.utils.environment: Failed to resolve installed pip version. ``pip`` will be added to conda.yaml environment spec without a version specifier.\n",
      "\n",
      "2025/04/17 09:59:51 WARNING mlflow.models.model: Input example should be provided to infer model signature if the model signature is not provided when logging the model.\n",
      "\n",
      "2025/04/17 09:59:51 INFO mlflow.tracking._tracking_service.client: 🏃 View run capable-robin-296 at: https://mlflow-server-931658252548.us-west2.run.app/#/experiments/2/runs/31051fe4a4694c3abe48bb60ab2e8294.\n",
      "\n",
      "2025/04/17 09:59:51 INFO mlflow.tracking._tracking_service.client: 🧪 View experiment at: https://mlflow-server-931658252548.us-west2.run.app/#/experiments/2.\n",
      "\n"
     ]
    },
    {
     "name": "stdout",
     "output_type": "stream",
     "text": [
      "100%|██████████| 32/32 [01:37<00:00,  3.05s/trial, best loss: -0.9888888888888889]\n"
     ]
    }
   ],
   "source": [
    "mlflow.set_experiment('demo-experiment2')\n",
    "def objective(params):\n",
    "    with mlflow.start_run():\n",
    "        classifier_type = params['type']\n",
    "        del params['type']\n",
    "        if classifier_type == 'dt':\n",
    "            clf = DecisionTreeClassifier(**params)\n",
    "        elif classifier_type == 'rf':\n",
    "            clf = RandomForestClassifier(**params)        \n",
    "        else:\n",
    "            return 0\n",
    "        acc = cross_val_score(clf, X, y).mean()\n",
    "\n",
    "        mlflow.set_tag(\"Model\", classifier_type)\n",
    "        mlflow.log_params(params)\n",
    "        mlflow.log_metric(\"accuracy\", acc)\n",
    "        mlflow.sklearn.log_model(clf, artifact_path = 'better_models')\n",
    "        mlflow.end_run()\n",
    "        return {'loss': -acc, 'status': STATUS_OK}\n",
    "search_space = hp.choice('classifier_type', [\n",
    "    {\n",
    "        'type': 'dt',\n",
    "        'criterion': hp.choice('dtree_criterion', ['gini', 'entropy']),\n",
    "        'max_depth': hp.choice('dtree_max_depth', [None, hp.randint('dtree_max_depth_int', 1,10)]),\n",
    "        'min_samples_split': hp.randint('dtree_min_samples_split', 2,10)\n",
    "    },\n",
    "    {\n",
    "        'type': 'rf',\n",
    "        'n_estimators': hp.randint('rf_n_estimators', 20, 500),\n",
    "        'max_features': hp.randint('rf_max_features', 2,9),\n",
    "        'criterion': hp.choice('criterion', ['gini', 'entropy'])\n",
    "    },\n",
    "])\n",
    "\n",
    "algo = tpe.suggest\n",
    "trials = Trials()\n",
    "best_result = fmin(\n",
    "        fn=objective, \n",
    "        space=search_space,\n",
    "        algo=algo,\n",
    "        max_evals=32,\n",
    "        trials=trials)"
   ]
  },
  {
   "attachments": {},
   "cell_type": "markdown",
   "metadata": {},
   "source": [
    "### Loading Models\n",
    "\n",
    "Now that models have been logged, you can load specific models back into python for predicting and further analysis. There are two main ways to do this. The mlflow UI actually gives you some instructions, with code that you copy and paste."
   ]
  },
  {
   "cell_type": "code",
   "execution_count": 22,
   "metadata": {},
   "outputs": [
    {
     "name": "stderr",
     "output_type": "stream",
     "text": [
      "/Users/nk13/tmp/env/mlops/lib/python3.12/site-packages/tqdm/auto.py:21: TqdmWarning: IProgress not found. Please update jupyter and ipywidgets. See https://ipywidgets.readthedocs.io/en/stable/user_install.html\n",
      "  from .autonotebook import tqdm as notebook_tqdm\n",
      "Downloading artifacts: 100%|██████████| 5/5 [00:00<00:00, 21.33it/s]\n"
     ]
    },
    {
     "data": {
      "text/plain": [
       "mlflow.pyfunc.loaded_model:\n",
       "  artifact_path: better_models\n",
       "  flavor: mlflow.sklearn\n",
       "  run_id: 31051fe4a4694c3abe48bb60ab2e8294"
      ]
     },
     "execution_count": 22,
     "metadata": {},
     "output_type": "execute_result"
    }
   ],
   "source": [
    "logged_model = 'runs:/31051fe4a4694c3abe48bb60ab2e8294/better_models' #replace with one of your models\n",
    "\n",
    "# Load model as a PyFuncModel.\n",
    "loaded_model = mlflow.pyfunc.load_model(logged_model)\n",
    "loaded_model"
   ]
  },
  {
   "cell_type": "code",
   "execution_count": 23,
   "metadata": {},
   "outputs": [
    {
     "name": "stderr",
     "output_type": "stream",
     "text": [
      "Downloading artifacts: 100%|██████████| 5/5 [00:00<00:00,  8.50it/s]\n"
     ]
    },
    {
     "data": {
      "text/html": [
       "<style>#sk-container-id-3 {\n",
       "  /* Definition of color scheme common for light and dark mode */\n",
       "  --sklearn-color-text: black;\n",
       "  --sklearn-color-line: gray;\n",
       "  /* Definition of color scheme for unfitted estimators */\n",
       "  --sklearn-color-unfitted-level-0: #fff5e6;\n",
       "  --sklearn-color-unfitted-level-1: #f6e4d2;\n",
       "  --sklearn-color-unfitted-level-2: #ffe0b3;\n",
       "  --sklearn-color-unfitted-level-3: chocolate;\n",
       "  /* Definition of color scheme for fitted estimators */\n",
       "  --sklearn-color-fitted-level-0: #f0f8ff;\n",
       "  --sklearn-color-fitted-level-1: #d4ebff;\n",
       "  --sklearn-color-fitted-level-2: #b3dbfd;\n",
       "  --sklearn-color-fitted-level-3: cornflowerblue;\n",
       "\n",
       "  /* Specific color for light theme */\n",
       "  --sklearn-color-text-on-default-background: var(--sg-text-color, var(--theme-code-foreground, var(--jp-content-font-color1, black)));\n",
       "  --sklearn-color-background: var(--sg-background-color, var(--theme-background, var(--jp-layout-color0, white)));\n",
       "  --sklearn-color-border-box: var(--sg-text-color, var(--theme-code-foreground, var(--jp-content-font-color1, black)));\n",
       "  --sklearn-color-icon: #696969;\n",
       "\n",
       "  @media (prefers-color-scheme: dark) {\n",
       "    /* Redefinition of color scheme for dark theme */\n",
       "    --sklearn-color-text-on-default-background: var(--sg-text-color, var(--theme-code-foreground, var(--jp-content-font-color1, white)));\n",
       "    --sklearn-color-background: var(--sg-background-color, var(--theme-background, var(--jp-layout-color0, #111)));\n",
       "    --sklearn-color-border-box: var(--sg-text-color, var(--theme-code-foreground, var(--jp-content-font-color1, white)));\n",
       "    --sklearn-color-icon: #878787;\n",
       "  }\n",
       "}\n",
       "\n",
       "#sk-container-id-3 {\n",
       "  color: var(--sklearn-color-text);\n",
       "}\n",
       "\n",
       "#sk-container-id-3 pre {\n",
       "  padding: 0;\n",
       "}\n",
       "\n",
       "#sk-container-id-3 input.sk-hidden--visually {\n",
       "  border: 0;\n",
       "  clip: rect(1px 1px 1px 1px);\n",
       "  clip: rect(1px, 1px, 1px, 1px);\n",
       "  height: 1px;\n",
       "  margin: -1px;\n",
       "  overflow: hidden;\n",
       "  padding: 0;\n",
       "  position: absolute;\n",
       "  width: 1px;\n",
       "}\n",
       "\n",
       "#sk-container-id-3 div.sk-dashed-wrapped {\n",
       "  border: 1px dashed var(--sklearn-color-line);\n",
       "  margin: 0 0.4em 0.5em 0.4em;\n",
       "  box-sizing: border-box;\n",
       "  padding-bottom: 0.4em;\n",
       "  background-color: var(--sklearn-color-background);\n",
       "}\n",
       "\n",
       "#sk-container-id-3 div.sk-container {\n",
       "  /* jupyter's `normalize.less` sets `[hidden] { display: none; }`\n",
       "     but bootstrap.min.css set `[hidden] { display: none !important; }`\n",
       "     so we also need the `!important` here to be able to override the\n",
       "     default hidden behavior on the sphinx rendered scikit-learn.org.\n",
       "     See: https://github.com/scikit-learn/scikit-learn/issues/21755 */\n",
       "  display: inline-block !important;\n",
       "  position: relative;\n",
       "}\n",
       "\n",
       "#sk-container-id-3 div.sk-text-repr-fallback {\n",
       "  display: none;\n",
       "}\n",
       "\n",
       "div.sk-parallel-item,\n",
       "div.sk-serial,\n",
       "div.sk-item {\n",
       "  /* draw centered vertical line to link estimators */\n",
       "  background-image: linear-gradient(var(--sklearn-color-text-on-default-background), var(--sklearn-color-text-on-default-background));\n",
       "  background-size: 2px 100%;\n",
       "  background-repeat: no-repeat;\n",
       "  background-position: center center;\n",
       "}\n",
       "\n",
       "/* Parallel-specific style estimator block */\n",
       "\n",
       "#sk-container-id-3 div.sk-parallel-item::after {\n",
       "  content: \"\";\n",
       "  width: 100%;\n",
       "  border-bottom: 2px solid var(--sklearn-color-text-on-default-background);\n",
       "  flex-grow: 1;\n",
       "}\n",
       "\n",
       "#sk-container-id-3 div.sk-parallel {\n",
       "  display: flex;\n",
       "  align-items: stretch;\n",
       "  justify-content: center;\n",
       "  background-color: var(--sklearn-color-background);\n",
       "  position: relative;\n",
       "}\n",
       "\n",
       "#sk-container-id-3 div.sk-parallel-item {\n",
       "  display: flex;\n",
       "  flex-direction: column;\n",
       "}\n",
       "\n",
       "#sk-container-id-3 div.sk-parallel-item:first-child::after {\n",
       "  align-self: flex-end;\n",
       "  width: 50%;\n",
       "}\n",
       "\n",
       "#sk-container-id-3 div.sk-parallel-item:last-child::after {\n",
       "  align-self: flex-start;\n",
       "  width: 50%;\n",
       "}\n",
       "\n",
       "#sk-container-id-3 div.sk-parallel-item:only-child::after {\n",
       "  width: 0;\n",
       "}\n",
       "\n",
       "/* Serial-specific style estimator block */\n",
       "\n",
       "#sk-container-id-3 div.sk-serial {\n",
       "  display: flex;\n",
       "  flex-direction: column;\n",
       "  align-items: center;\n",
       "  background-color: var(--sklearn-color-background);\n",
       "  padding-right: 1em;\n",
       "  padding-left: 1em;\n",
       "}\n",
       "\n",
       "\n",
       "/* Toggleable style: style used for estimator/Pipeline/ColumnTransformer box that is\n",
       "clickable and can be expanded/collapsed.\n",
       "- Pipeline and ColumnTransformer use this feature and define the default style\n",
       "- Estimators will overwrite some part of the style using the `sk-estimator` class\n",
       "*/\n",
       "\n",
       "/* Pipeline and ColumnTransformer style (default) */\n",
       "\n",
       "#sk-container-id-3 div.sk-toggleable {\n",
       "  /* Default theme specific background. It is overwritten whether we have a\n",
       "  specific estimator or a Pipeline/ColumnTransformer */\n",
       "  background-color: var(--sklearn-color-background);\n",
       "}\n",
       "\n",
       "/* Toggleable label */\n",
       "#sk-container-id-3 label.sk-toggleable__label {\n",
       "  cursor: pointer;\n",
       "  display: block;\n",
       "  width: 100%;\n",
       "  margin-bottom: 0;\n",
       "  padding: 0.5em;\n",
       "  box-sizing: border-box;\n",
       "  text-align: center;\n",
       "}\n",
       "\n",
       "#sk-container-id-3 label.sk-toggleable__label-arrow:before {\n",
       "  /* Arrow on the left of the label */\n",
       "  content: \"▸\";\n",
       "  float: left;\n",
       "  margin-right: 0.25em;\n",
       "  color: var(--sklearn-color-icon);\n",
       "}\n",
       "\n",
       "#sk-container-id-3 label.sk-toggleable__label-arrow:hover:before {\n",
       "  color: var(--sklearn-color-text);\n",
       "}\n",
       "\n",
       "/* Toggleable content - dropdown */\n",
       "\n",
       "#sk-container-id-3 div.sk-toggleable__content {\n",
       "  max-height: 0;\n",
       "  max-width: 0;\n",
       "  overflow: hidden;\n",
       "  text-align: left;\n",
       "  /* unfitted */\n",
       "  background-color: var(--sklearn-color-unfitted-level-0);\n",
       "}\n",
       "\n",
       "#sk-container-id-3 div.sk-toggleable__content.fitted {\n",
       "  /* fitted */\n",
       "  background-color: var(--sklearn-color-fitted-level-0);\n",
       "}\n",
       "\n",
       "#sk-container-id-3 div.sk-toggleable__content pre {\n",
       "  margin: 0.2em;\n",
       "  border-radius: 0.25em;\n",
       "  color: var(--sklearn-color-text);\n",
       "  /* unfitted */\n",
       "  background-color: var(--sklearn-color-unfitted-level-0);\n",
       "}\n",
       "\n",
       "#sk-container-id-3 div.sk-toggleable__content.fitted pre {\n",
       "  /* unfitted */\n",
       "  background-color: var(--sklearn-color-fitted-level-0);\n",
       "}\n",
       "\n",
       "#sk-container-id-3 input.sk-toggleable__control:checked~div.sk-toggleable__content {\n",
       "  /* Expand drop-down */\n",
       "  max-height: 200px;\n",
       "  max-width: 100%;\n",
       "  overflow: auto;\n",
       "}\n",
       "\n",
       "#sk-container-id-3 input.sk-toggleable__control:checked~label.sk-toggleable__label-arrow:before {\n",
       "  content: \"▾\";\n",
       "}\n",
       "\n",
       "/* Pipeline/ColumnTransformer-specific style */\n",
       "\n",
       "#sk-container-id-3 div.sk-label input.sk-toggleable__control:checked~label.sk-toggleable__label {\n",
       "  color: var(--sklearn-color-text);\n",
       "  background-color: var(--sklearn-color-unfitted-level-2);\n",
       "}\n",
       "\n",
       "#sk-container-id-3 div.sk-label.fitted input.sk-toggleable__control:checked~label.sk-toggleable__label {\n",
       "  background-color: var(--sklearn-color-fitted-level-2);\n",
       "}\n",
       "\n",
       "/* Estimator-specific style */\n",
       "\n",
       "/* Colorize estimator box */\n",
       "#sk-container-id-3 div.sk-estimator input.sk-toggleable__control:checked~label.sk-toggleable__label {\n",
       "  /* unfitted */\n",
       "  background-color: var(--sklearn-color-unfitted-level-2);\n",
       "}\n",
       "\n",
       "#sk-container-id-3 div.sk-estimator.fitted input.sk-toggleable__control:checked~label.sk-toggleable__label {\n",
       "  /* fitted */\n",
       "  background-color: var(--sklearn-color-fitted-level-2);\n",
       "}\n",
       "\n",
       "#sk-container-id-3 div.sk-label label.sk-toggleable__label,\n",
       "#sk-container-id-3 div.sk-label label {\n",
       "  /* The background is the default theme color */\n",
       "  color: var(--sklearn-color-text-on-default-background);\n",
       "}\n",
       "\n",
       "/* On hover, darken the color of the background */\n",
       "#sk-container-id-3 div.sk-label:hover label.sk-toggleable__label {\n",
       "  color: var(--sklearn-color-text);\n",
       "  background-color: var(--sklearn-color-unfitted-level-2);\n",
       "}\n",
       "\n",
       "/* Label box, darken color on hover, fitted */\n",
       "#sk-container-id-3 div.sk-label.fitted:hover label.sk-toggleable__label.fitted {\n",
       "  color: var(--sklearn-color-text);\n",
       "  background-color: var(--sklearn-color-fitted-level-2);\n",
       "}\n",
       "\n",
       "/* Estimator label */\n",
       "\n",
       "#sk-container-id-3 div.sk-label label {\n",
       "  font-family: monospace;\n",
       "  font-weight: bold;\n",
       "  display: inline-block;\n",
       "  line-height: 1.2em;\n",
       "}\n",
       "\n",
       "#sk-container-id-3 div.sk-label-container {\n",
       "  text-align: center;\n",
       "}\n",
       "\n",
       "/* Estimator-specific */\n",
       "#sk-container-id-3 div.sk-estimator {\n",
       "  font-family: monospace;\n",
       "  border: 1px dotted var(--sklearn-color-border-box);\n",
       "  border-radius: 0.25em;\n",
       "  box-sizing: border-box;\n",
       "  margin-bottom: 0.5em;\n",
       "  /* unfitted */\n",
       "  background-color: var(--sklearn-color-unfitted-level-0);\n",
       "}\n",
       "\n",
       "#sk-container-id-3 div.sk-estimator.fitted {\n",
       "  /* fitted */\n",
       "  background-color: var(--sklearn-color-fitted-level-0);\n",
       "}\n",
       "\n",
       "/* on hover */\n",
       "#sk-container-id-3 div.sk-estimator:hover {\n",
       "  /* unfitted */\n",
       "  background-color: var(--sklearn-color-unfitted-level-2);\n",
       "}\n",
       "\n",
       "#sk-container-id-3 div.sk-estimator.fitted:hover {\n",
       "  /* fitted */\n",
       "  background-color: var(--sklearn-color-fitted-level-2);\n",
       "}\n",
       "\n",
       "/* Specification for estimator info (e.g. \"i\" and \"?\") */\n",
       "\n",
       "/* Common style for \"i\" and \"?\" */\n",
       "\n",
       ".sk-estimator-doc-link,\n",
       "a:link.sk-estimator-doc-link,\n",
       "a:visited.sk-estimator-doc-link {\n",
       "  float: right;\n",
       "  font-size: smaller;\n",
       "  line-height: 1em;\n",
       "  font-family: monospace;\n",
       "  background-color: var(--sklearn-color-background);\n",
       "  border-radius: 1em;\n",
       "  height: 1em;\n",
       "  width: 1em;\n",
       "  text-decoration: none !important;\n",
       "  margin-left: 1ex;\n",
       "  /* unfitted */\n",
       "  border: var(--sklearn-color-unfitted-level-1) 1pt solid;\n",
       "  color: var(--sklearn-color-unfitted-level-1);\n",
       "}\n",
       "\n",
       ".sk-estimator-doc-link.fitted,\n",
       "a:link.sk-estimator-doc-link.fitted,\n",
       "a:visited.sk-estimator-doc-link.fitted {\n",
       "  /* fitted */\n",
       "  border: var(--sklearn-color-fitted-level-1) 1pt solid;\n",
       "  color: var(--sklearn-color-fitted-level-1);\n",
       "}\n",
       "\n",
       "/* On hover */\n",
       "div.sk-estimator:hover .sk-estimator-doc-link:hover,\n",
       ".sk-estimator-doc-link:hover,\n",
       "div.sk-label-container:hover .sk-estimator-doc-link:hover,\n",
       ".sk-estimator-doc-link:hover {\n",
       "  /* unfitted */\n",
       "  background-color: var(--sklearn-color-unfitted-level-3);\n",
       "  color: var(--sklearn-color-background);\n",
       "  text-decoration: none;\n",
       "}\n",
       "\n",
       "div.sk-estimator.fitted:hover .sk-estimator-doc-link.fitted:hover,\n",
       ".sk-estimator-doc-link.fitted:hover,\n",
       "div.sk-label-container:hover .sk-estimator-doc-link.fitted:hover,\n",
       ".sk-estimator-doc-link.fitted:hover {\n",
       "  /* fitted */\n",
       "  background-color: var(--sklearn-color-fitted-level-3);\n",
       "  color: var(--sklearn-color-background);\n",
       "  text-decoration: none;\n",
       "}\n",
       "\n",
       "/* Span, style for the box shown on hovering the info icon */\n",
       ".sk-estimator-doc-link span {\n",
       "  display: none;\n",
       "  z-index: 9999;\n",
       "  position: relative;\n",
       "  font-weight: normal;\n",
       "  right: .2ex;\n",
       "  padding: .5ex;\n",
       "  margin: .5ex;\n",
       "  width: min-content;\n",
       "  min-width: 20ex;\n",
       "  max-width: 50ex;\n",
       "  color: var(--sklearn-color-text);\n",
       "  box-shadow: 2pt 2pt 4pt #999;\n",
       "  /* unfitted */\n",
       "  background: var(--sklearn-color-unfitted-level-0);\n",
       "  border: .5pt solid var(--sklearn-color-unfitted-level-3);\n",
       "}\n",
       "\n",
       ".sk-estimator-doc-link.fitted span {\n",
       "  /* fitted */\n",
       "  background: var(--sklearn-color-fitted-level-0);\n",
       "  border: var(--sklearn-color-fitted-level-3);\n",
       "}\n",
       "\n",
       ".sk-estimator-doc-link:hover span {\n",
       "  display: block;\n",
       "}\n",
       "\n",
       "/* \"?\"-specific style due to the `<a>` HTML tag */\n",
       "\n",
       "#sk-container-id-3 a.estimator_doc_link {\n",
       "  float: right;\n",
       "  font-size: 1rem;\n",
       "  line-height: 1em;\n",
       "  font-family: monospace;\n",
       "  background-color: var(--sklearn-color-background);\n",
       "  border-radius: 1rem;\n",
       "  height: 1rem;\n",
       "  width: 1rem;\n",
       "  text-decoration: none;\n",
       "  /* unfitted */\n",
       "  color: var(--sklearn-color-unfitted-level-1);\n",
       "  border: var(--sklearn-color-unfitted-level-1) 1pt solid;\n",
       "}\n",
       "\n",
       "#sk-container-id-3 a.estimator_doc_link.fitted {\n",
       "  /* fitted */\n",
       "  border: var(--sklearn-color-fitted-level-1) 1pt solid;\n",
       "  color: var(--sklearn-color-fitted-level-1);\n",
       "}\n",
       "\n",
       "/* On hover */\n",
       "#sk-container-id-3 a.estimator_doc_link:hover {\n",
       "  /* unfitted */\n",
       "  background-color: var(--sklearn-color-unfitted-level-3);\n",
       "  color: var(--sklearn-color-background);\n",
       "  text-decoration: none;\n",
       "}\n",
       "\n",
       "#sk-container-id-3 a.estimator_doc_link.fitted:hover {\n",
       "  /* fitted */\n",
       "  background-color: var(--sklearn-color-fitted-level-3);\n",
       "}\n",
       "</style><div id=\"sk-container-id-3\" class=\"sk-top-container\"><div class=\"sk-text-repr-fallback\"><pre>DecisionTreeClassifier(max_depth=8, min_samples_split=9)</pre><b>In a Jupyter environment, please rerun this cell to show the HTML representation or trust the notebook. <br />On GitHub, the HTML representation is unable to render, please try loading this page with nbviewer.org.</b></div><div class=\"sk-container\" hidden><div class=\"sk-item\"><div class=\"sk-estimator  sk-toggleable\"><input class=\"sk-toggleable__control sk-hidden--visually\" id=\"sk-estimator-id-3\" type=\"checkbox\" checked><label for=\"sk-estimator-id-3\" class=\"sk-toggleable__label  sk-toggleable__label-arrow \">&nbsp;&nbsp;DecisionTreeClassifier<a class=\"sk-estimator-doc-link \" rel=\"noreferrer\" target=\"_blank\" href=\"https://scikit-learn.org/1.5/modules/generated/sklearn.tree.DecisionTreeClassifier.html\">?<span>Documentation for DecisionTreeClassifier</span></a><span class=\"sk-estimator-doc-link \">i<span>Not fitted</span></span></label><div class=\"sk-toggleable__content \"><pre>DecisionTreeClassifier(max_depth=8, min_samples_split=9)</pre></div> </div></div></div></div>"
      ],
      "text/plain": [
       "DecisionTreeClassifier(max_depth=8, min_samples_split=9)"
      ]
     },
     "execution_count": 23,
     "metadata": {},
     "output_type": "execute_result"
    }
   ],
   "source": [
    "sklearn_model = mlflow.sklearn.load_model(logged_model)\n",
    "sklearn_model"
   ]
  },
  {
   "cell_type": "code",
   "execution_count": 24,
   "metadata": {},
   "outputs": [
    {
     "data": {
      "text/plain": [
       "array([0, 1, 2, 1, 1])"
      ]
     },
     "execution_count": 24,
     "metadata": {},
     "output_type": "execute_result"
    }
   ],
   "source": [
    "sklearn_model.fit(X_train, y_train)\n",
    "preds = sklearn_model.predict(X_test)\n",
    "preds[:5]"
   ]
  },
  {
   "attachments": {},
   "cell_type": "markdown",
   "metadata": {},
   "source": [
    "### Model Registry\n",
    "\n",
    "Typically, you will **register** your *chosen* model, the model you plan to put into production. But, sometimes, after you've chosen and registered a model, you may need to replace that model with a new version. For example, the model may have gone into production and started to degrade in performance, and so the model needed to be retrained. Or, you go to deploy your model and notice an error or bug, and now have to go back and retrain it.\n",
    "\n",
    "In this section let's see how we take our logged models and register them in the model registry, which then can get picked up by the production process, or engineer, for deployment. First, I'll demonstrate how this is done within the UI, but then below I'll show how we can use the python API to do the same thing."
   ]
  },
  {
   "cell_type": "code",
   "execution_count": 25,
   "metadata": {},
   "outputs": [
    {
     "name": "stderr",
     "output_type": "stream",
     "text": [
      "Successfully registered model 'wine_model_from_nb'.\n",
      "2025/04/17 10:01:20 INFO mlflow.store.model_registry.abstract_store: Waiting up to 300 seconds for model version to finish creation. Model name: wine_model_from_nb, version 1\n",
      "Created version '1' of model 'wine_model_from_nb'.\n"
     ]
    },
    {
     "data": {
      "text/plain": [
       "<ModelVersion: aliases=[], creation_timestamp=1744909280720, current_stage='None', description='', last_updated_timestamp=1744909280720, name='wine_model_from_nb', run_id='31051fe4a4694c3abe48bb60ab2e8294', run_link='', source='mlflow-artifacts:/2/31051fe4a4694c3abe48bb60ab2e8294/artifacts/artifacts/better_models', status='READY', status_message='', tags={}, user_id='', version='1'>"
      ]
     },
     "execution_count": 25,
     "metadata": {},
     "output_type": "execute_result"
    }
   ],
   "source": [
    "runid = '31051fe4a4694c3abe48bb60ab2e8294'\n",
    "mod_path = f'runs:/{runid}/artifacts/better_models'\n",
    "mlflow.register_model(model_uri = mod_path, name = 'wine_model_from_nb')"
   ]
  },
  {
   "attachments": {},
   "cell_type": "markdown",
   "metadata": {},
   "source": [
    "## Common Issues\n",
    "\n",
    "- Nothing is appearing in the MLFlow UI: make sure you start the UI from the directory where your notebook is running.  \n",
    "- I installed a library, but I'm getting an error loading it: be sure you installed it in the same environment as where your notebook is running.  \n",
    "- MLFlow doesn't seem to be working at all, I'm just getting errors all over the place: this might be a versioning issue.  \n",
    "- The UI broke, I can't get back to it: `sudo lsof -i :5000 | awk '{print $2}' | tail -n +2 | xargs kill`\n"
   ]
  },
  {
   "attachments": {},
   "cell_type": "markdown",
   "metadata": {},
   "source": [
    "\n",
    "# Experiment Tracking and Model Registry Lab\n",
    "\n",
    "## Overview\n",
    "\n",
    "In this lab you will each download a new dataset and attempt to train a good model, and use mlflow to keep track of all of your experiments, log your metrics, artifacts and models, and then register a final set of models for \"deployment\", though we won't actually deploy them anywhere yet.\n",
    "\n",
    "## Goal\n",
    "\n",
    "Your goal is **not** to become a master at MLFlow - this is not a course on learning all of the ins and outs of MLFlow. Instead, your goal is to understand when and why it is important to track your model development process (tracking experiments, artifacts and models) and to get into the habit of doing so, and then learn at least the basics of how MLFlow helps you do this so that you can then compare with other tools that are available.\n",
    "\n",
    "## Data\n",
    "\n",
    "You can choose your own dataset to use here. It will be helpful to choose a dataset that is already fairly clean and easy to work with. You can even use a dataset that you've used in a previous course. We will do a lot of labs where we do different things with datasets, so if you can find one that is interesting enough for modeling, it should work for most of the rest of the course. \n",
    "\n",
    "There are tons of places where you can find open public datasets. Choose something that interests you, but don't overthink it.\n",
    "\n",
    "[Kaggle Datasets](https://www.kaggle.com/datasets)  \n",
    "[HuggingFace Datasets](https://huggingface.co/docs/datasets/index)  \n",
    "[Dagshub Datasets](https://dagshub.com/datasets/)  \n",
    "[UCI](https://archive.ics.uci.edu/ml/datasets.php)  \n",
    "[Open Data on AWS](https://registry.opendata.aws/)  \n",
    "[Yelp](https://www.yelp.com/dataset)  \n",
    "[MovieLens](https://grouplens.org/datasets/movielens/)  \n",
    "And so many more...\n",
    "\n",
    "## Instructions\n",
    "\n",
    "Once you have selected a set of data, create a brand new experiment in MLFlow and begin exploring your data. Do some EDA, clean up, and learn about your data. You do not need to begin tracking anything yet, but you can if you want to (e.g. you can log different versions of your data as you clean it up and do any feature engineering). Do not spend a ton of time on this part. Your goal isn't really to build a great model, so don't spend hours on feature engineering and missing data imputation and things like that.\n",
    "\n",
    "Once your data is clean, begin training models and tracking your experiments. If you intend to use this same dataset for your final project, then start thinking about what your model might look like when you actually deploy it. For example, when you engineer new features, be sure to save the code that does this, as you will need this in the future. If your final model has 1000 complex features, you might have a difficult time deploying it later on. If your final model takes 15 minutes to train, or takes a long time to score a new batch of data, you may want to think about training a less complex model.\n",
    "\n",
    "Now, when tracking your experiments, at a *minimum*, you should:\n",
    "\n",
    "1. Try at least 3 different ML algorithms (e.g. linear regression, decision tree, random forest, etc.).\n",
    "2. Do hyperparameter tuning for **each** algorithm.\n",
    "3. Do some very basic feature selection, and repeat the above steps with these reduced sets of features.\n",
    "4. Identify the top 3 best models and note these down for later.\n",
    "6. Choose the **final** \"best\" model that you would deploy or use on future data, stage it (in MLFlow), and run it on the test set to get a final measure of performance. Don't forget to log the test set metric.\n",
    "7. Be sure you logged the exact training, validation, and testing datasets for the 3 best models, as well as hyperparameter values, and the values of your metrics.  \n",
    "8. Push your code to Github. No need to track the mlruns folder, the images folder, any datasets, or the sqlite database in git.\n",
    "\n",
    "### Turning It In\n",
    "\n",
    "In the MLFlow UI, next to the refresh button you should see three vertical dots. Click the dots and then download your experiments as a csv file. Open the csv file in Excel and highlight the rows for your top 3 models from step 4, highlight the run where you applied your best model to the test set, and then save as an excel file. Take a snapshot of the Models page in the MLFLow UI showing the model you staged in step 6 above. Submit the excel file and the snapshot to Canvas."
   ]
  },
  {
   "cell_type": "code",
   "execution_count": 26,
   "metadata": {},
   "outputs": [
    {
     "data": {
      "text/html": [
       "<div>\n",
       "<style scoped>\n",
       "    .dataframe tbody tr th:only-of-type {\n",
       "        vertical-align: middle;\n",
       "    }\n",
       "\n",
       "    .dataframe tbody tr th {\n",
       "        vertical-align: top;\n",
       "    }\n",
       "\n",
       "    .dataframe thead th {\n",
       "        text-align: right;\n",
       "    }\n",
       "</style>\n",
       "<table border=\"1\" class=\"dataframe\">\n",
       "  <thead>\n",
       "    <tr style=\"text-align: right;\">\n",
       "      <th></th>\n",
       "      <th>Order</th>\n",
       "      <th>PID</th>\n",
       "      <th>MS SubClass</th>\n",
       "      <th>MS Zoning</th>\n",
       "      <th>Lot Frontage</th>\n",
       "      <th>Lot Area</th>\n",
       "      <th>Street</th>\n",
       "      <th>Alley</th>\n",
       "      <th>Lot Shape</th>\n",
       "      <th>Land Contour</th>\n",
       "      <th>...</th>\n",
       "      <th>Pool Area</th>\n",
       "      <th>Pool QC</th>\n",
       "      <th>Fence</th>\n",
       "      <th>Misc Feature</th>\n",
       "      <th>Misc Val</th>\n",
       "      <th>Mo Sold</th>\n",
       "      <th>Yr Sold</th>\n",
       "      <th>Sale Type</th>\n",
       "      <th>Sale Condition</th>\n",
       "      <th>SalePrice</th>\n",
       "    </tr>\n",
       "  </thead>\n",
       "  <tbody>\n",
       "    <tr>\n",
       "      <th>0</th>\n",
       "      <td>1</td>\n",
       "      <td>526301100</td>\n",
       "      <td>20</td>\n",
       "      <td>RL</td>\n",
       "      <td>141.0</td>\n",
       "      <td>31770</td>\n",
       "      <td>Pave</td>\n",
       "      <td>NaN</td>\n",
       "      <td>IR1</td>\n",
       "      <td>Lvl</td>\n",
       "      <td>...</td>\n",
       "      <td>0</td>\n",
       "      <td>NaN</td>\n",
       "      <td>NaN</td>\n",
       "      <td>NaN</td>\n",
       "      <td>0</td>\n",
       "      <td>5</td>\n",
       "      <td>2010</td>\n",
       "      <td>WD</td>\n",
       "      <td>Normal</td>\n",
       "      <td>215000</td>\n",
       "    </tr>\n",
       "    <tr>\n",
       "      <th>1</th>\n",
       "      <td>2</td>\n",
       "      <td>526350040</td>\n",
       "      <td>20</td>\n",
       "      <td>RH</td>\n",
       "      <td>80.0</td>\n",
       "      <td>11622</td>\n",
       "      <td>Pave</td>\n",
       "      <td>NaN</td>\n",
       "      <td>Reg</td>\n",
       "      <td>Lvl</td>\n",
       "      <td>...</td>\n",
       "      <td>0</td>\n",
       "      <td>NaN</td>\n",
       "      <td>MnPrv</td>\n",
       "      <td>NaN</td>\n",
       "      <td>0</td>\n",
       "      <td>6</td>\n",
       "      <td>2010</td>\n",
       "      <td>WD</td>\n",
       "      <td>Normal</td>\n",
       "      <td>105000</td>\n",
       "    </tr>\n",
       "    <tr>\n",
       "      <th>2</th>\n",
       "      <td>3</td>\n",
       "      <td>526351010</td>\n",
       "      <td>20</td>\n",
       "      <td>RL</td>\n",
       "      <td>81.0</td>\n",
       "      <td>14267</td>\n",
       "      <td>Pave</td>\n",
       "      <td>NaN</td>\n",
       "      <td>IR1</td>\n",
       "      <td>Lvl</td>\n",
       "      <td>...</td>\n",
       "      <td>0</td>\n",
       "      <td>NaN</td>\n",
       "      <td>NaN</td>\n",
       "      <td>Gar2</td>\n",
       "      <td>12500</td>\n",
       "      <td>6</td>\n",
       "      <td>2010</td>\n",
       "      <td>WD</td>\n",
       "      <td>Normal</td>\n",
       "      <td>172000</td>\n",
       "    </tr>\n",
       "  </tbody>\n",
       "</table>\n",
       "<p>3 rows × 82 columns</p>\n",
       "</div>"
      ],
      "text/plain": [
       "   Order        PID  MS SubClass MS Zoning  Lot Frontage  Lot Area Street  \\\n",
       "0      1  526301100           20        RL         141.0     31770   Pave   \n",
       "1      2  526350040           20        RH          80.0     11622   Pave   \n",
       "2      3  526351010           20        RL          81.0     14267   Pave   \n",
       "\n",
       "  Alley Lot Shape Land Contour  ... Pool Area Pool QC  Fence Misc Feature  \\\n",
       "0   NaN       IR1          Lvl  ...         0     NaN    NaN          NaN   \n",
       "1   NaN       Reg          Lvl  ...         0     NaN  MnPrv          NaN   \n",
       "2   NaN       IR1          Lvl  ...         0     NaN    NaN         Gar2   \n",
       "\n",
       "  Misc Val Mo Sold Yr Sold Sale Type  Sale Condition  SalePrice  \n",
       "0        0       5    2010       WD           Normal     215000  \n",
       "1        0       6    2010       WD           Normal     105000  \n",
       "2    12500       6    2010       WD           Normal     172000  \n",
       "\n",
       "[3 rows x 82 columns]"
      ]
     },
     "execution_count": 26,
     "metadata": {},
     "output_type": "execute_result"
    }
   ],
   "source": [
    "housing_df = pd.read_csv('AmesHousing.csv')\n",
    "housing_df.head(3)"
   ]
  },
  {
   "cell_type": "code",
   "execution_count": 27,
   "metadata": {},
   "outputs": [
    {
     "name": "stdout",
     "output_type": "stream",
     "text": [
      "Columns with missing values:\n",
      " Pool QC           2917\n",
      "Misc Feature      2824\n",
      "Alley             2732\n",
      "Fence             2358\n",
      "Mas Vnr Type      1775\n",
      "Fireplace Qu      1422\n",
      "Lot Frontage       490\n",
      "Garage Cond        159\n",
      "Garage Qual        159\n",
      "Garage Finish      159\n",
      "Garage Yr Blt      159\n",
      "Garage Type        157\n",
      "Bsmt Exposure       83\n",
      "BsmtFin Type 2      81\n",
      "Bsmt Cond           80\n",
      "Bsmt Qual           80\n",
      "BsmtFin Type 1      80\n",
      "Mas Vnr Area        23\n",
      "Bsmt Half Bath       2\n",
      "Bsmt Full Bath       2\n",
      "BsmtFin SF 1         1\n",
      "Garage Cars          1\n",
      "Garage Area          1\n",
      "Total Bsmt SF        1\n",
      "Bsmt Unf SF          1\n",
      "BsmtFin SF 2         1\n",
      "Electrical           1\n",
      "dtype: int64\n"
     ]
    }
   ],
   "source": [
    "missing_vals = housing_df.isnull().sum()\n",
    "missing_vals = missing_vals[missing_vals > 0].sort_values(ascending=False)\n",
    "print(\"Columns with missing values:\\n\", missing_vals)"
   ]
  },
  {
   "cell_type": "code",
   "execution_count": 28,
   "metadata": {},
   "outputs": [],
   "source": [
    "high_missing_cols = ['Pool QC', 'Misc Feature', 'Alley', 'Fence']\n",
    "housing_df.drop(columns=high_missing_cols, inplace=True)"
   ]
  },
  {
   "cell_type": "code",
   "execution_count": 29,
   "metadata": {},
   "outputs": [
    {
     "name": "stderr",
     "output_type": "stream",
     "text": [
      "/var/folders/86/c2gz31wn29b2r_53d_q3g3hc0000gn/T/ipykernel_60414/128909573.py:5: FutureWarning: A value is trying to be set on a copy of a DataFrame or Series through chained assignment using an inplace method.\n",
      "The behavior will change in pandas 3.0. This inplace method will never work because the intermediate object on which we are setting values always behaves as a copy.\n",
      "\n",
      "For example, when doing 'df[col].method(value, inplace=True)', try using 'df.method({col: value}, inplace=True)' or df[col] = df[col].method(value) instead, to perform the operation inplace on the original object.\n",
      "\n",
      "\n",
      "  housing_df[col].fillna(housing_df[col].mode()[0], inplace=True)\n",
      "/var/folders/86/c2gz31wn29b2r_53d_q3g3hc0000gn/T/ipykernel_60414/128909573.py:12: FutureWarning: A value is trying to be set on a copy of a DataFrame or Series through chained assignment using an inplace method.\n",
      "The behavior will change in pandas 3.0. This inplace method will never work because the intermediate object on which we are setting values always behaves as a copy.\n",
      "\n",
      "For example, when doing 'df[col].method(value, inplace=True)', try using 'df.method({col: value}, inplace=True)' or df[col] = df[col].method(value) instead, to perform the operation inplace on the original object.\n",
      "\n",
      "\n",
      "  housing_df[col].fillna(housing_df[col].median(), inplace=True)\n",
      "/var/folders/86/c2gz31wn29b2r_53d_q3g3hc0000gn/T/ipykernel_60414/128909573.py:12: FutureWarning: A value is trying to be set on a copy of a DataFrame or Series through chained assignment using an inplace method.\n",
      "The behavior will change in pandas 3.0. This inplace method will never work because the intermediate object on which we are setting values always behaves as a copy.\n",
      "\n",
      "For example, when doing 'df[col].method(value, inplace=True)', try using 'df.method({col: value}, inplace=True)' or df[col] = df[col].method(value) instead, to perform the operation inplace on the original object.\n",
      "\n",
      "\n",
      "  housing_df[col].fillna(housing_df[col].median(), inplace=True)\n",
      "/var/folders/86/c2gz31wn29b2r_53d_q3g3hc0000gn/T/ipykernel_60414/128909573.py:12: FutureWarning: A value is trying to be set on a copy of a DataFrame or Series through chained assignment using an inplace method.\n",
      "The behavior will change in pandas 3.0. This inplace method will never work because the intermediate object on which we are setting values always behaves as a copy.\n",
      "\n",
      "For example, when doing 'df[col].method(value, inplace=True)', try using 'df.method({col: value}, inplace=True)' or df[col] = df[col].method(value) instead, to perform the operation inplace on the original object.\n",
      "\n",
      "\n",
      "  housing_df[col].fillna(housing_df[col].median(), inplace=True)\n",
      "/var/folders/86/c2gz31wn29b2r_53d_q3g3hc0000gn/T/ipykernel_60414/128909573.py:12: FutureWarning: A value is trying to be set on a copy of a DataFrame or Series through chained assignment using an inplace method.\n",
      "The behavior will change in pandas 3.0. This inplace method will never work because the intermediate object on which we are setting values always behaves as a copy.\n",
      "\n",
      "For example, when doing 'df[col].method(value, inplace=True)', try using 'df.method({col: value}, inplace=True)' or df[col] = df[col].method(value) instead, to perform the operation inplace on the original object.\n",
      "\n",
      "\n",
      "  housing_df[col].fillna(housing_df[col].median(), inplace=True)\n",
      "/var/folders/86/c2gz31wn29b2r_53d_q3g3hc0000gn/T/ipykernel_60414/128909573.py:12: FutureWarning: A value is trying to be set on a copy of a DataFrame or Series through chained assignment using an inplace method.\n",
      "The behavior will change in pandas 3.0. This inplace method will never work because the intermediate object on which we are setting values always behaves as a copy.\n",
      "\n",
      "For example, when doing 'df[col].method(value, inplace=True)', try using 'df.method({col: value}, inplace=True)' or df[col] = df[col].method(value) instead, to perform the operation inplace on the original object.\n",
      "\n",
      "\n",
      "  housing_df[col].fillna(housing_df[col].median(), inplace=True)\n",
      "/var/folders/86/c2gz31wn29b2r_53d_q3g3hc0000gn/T/ipykernel_60414/128909573.py:12: FutureWarning: A value is trying to be set on a copy of a DataFrame or Series through chained assignment using an inplace method.\n",
      "The behavior will change in pandas 3.0. This inplace method will never work because the intermediate object on which we are setting values always behaves as a copy.\n",
      "\n",
      "For example, when doing 'df[col].method(value, inplace=True)', try using 'df.method({col: value}, inplace=True)' or df[col] = df[col].method(value) instead, to perform the operation inplace on the original object.\n",
      "\n",
      "\n",
      "  housing_df[col].fillna(housing_df[col].median(), inplace=True)\n",
      "/var/folders/86/c2gz31wn29b2r_53d_q3g3hc0000gn/T/ipykernel_60414/128909573.py:12: FutureWarning: A value is trying to be set on a copy of a DataFrame or Series through chained assignment using an inplace method.\n",
      "The behavior will change in pandas 3.0. This inplace method will never work because the intermediate object on which we are setting values always behaves as a copy.\n",
      "\n",
      "For example, when doing 'df[col].method(value, inplace=True)', try using 'df.method({col: value}, inplace=True)' or df[col] = df[col].method(value) instead, to perform the operation inplace on the original object.\n",
      "\n",
      "\n",
      "  housing_df[col].fillna(housing_df[col].median(), inplace=True)\n",
      "/var/folders/86/c2gz31wn29b2r_53d_q3g3hc0000gn/T/ipykernel_60414/128909573.py:12: FutureWarning: A value is trying to be set on a copy of a DataFrame or Series through chained assignment using an inplace method.\n",
      "The behavior will change in pandas 3.0. This inplace method will never work because the intermediate object on which we are setting values always behaves as a copy.\n",
      "\n",
      "For example, when doing 'df[col].method(value, inplace=True)', try using 'df.method({col: value}, inplace=True)' or df[col] = df[col].method(value) instead, to perform the operation inplace on the original object.\n",
      "\n",
      "\n",
      "  housing_df[col].fillna(housing_df[col].median(), inplace=True)\n",
      "/var/folders/86/c2gz31wn29b2r_53d_q3g3hc0000gn/T/ipykernel_60414/128909573.py:12: FutureWarning: A value is trying to be set on a copy of a DataFrame or Series through chained assignment using an inplace method.\n",
      "The behavior will change in pandas 3.0. This inplace method will never work because the intermediate object on which we are setting values always behaves as a copy.\n",
      "\n",
      "For example, when doing 'df[col].method(value, inplace=True)', try using 'df.method({col: value}, inplace=True)' or df[col] = df[col].method(value) instead, to perform the operation inplace on the original object.\n",
      "\n",
      "\n",
      "  housing_df[col].fillna(housing_df[col].median(), inplace=True)\n",
      "/var/folders/86/c2gz31wn29b2r_53d_q3g3hc0000gn/T/ipykernel_60414/128909573.py:12: FutureWarning: A value is trying to be set on a copy of a DataFrame or Series through chained assignment using an inplace method.\n",
      "The behavior will change in pandas 3.0. This inplace method will never work because the intermediate object on which we are setting values always behaves as a copy.\n",
      "\n",
      "For example, when doing 'df[col].method(value, inplace=True)', try using 'df.method({col: value}, inplace=True)' or df[col] = df[col].method(value) instead, to perform the operation inplace on the original object.\n",
      "\n",
      "\n",
      "  housing_df[col].fillna(housing_df[col].median(), inplace=True)\n",
      "/var/folders/86/c2gz31wn29b2r_53d_q3g3hc0000gn/T/ipykernel_60414/128909573.py:12: FutureWarning: A value is trying to be set on a copy of a DataFrame or Series through chained assignment using an inplace method.\n",
      "The behavior will change in pandas 3.0. This inplace method will never work because the intermediate object on which we are setting values always behaves as a copy.\n",
      "\n",
      "For example, when doing 'df[col].method(value, inplace=True)', try using 'df.method({col: value}, inplace=True)' or df[col] = df[col].method(value) instead, to perform the operation inplace on the original object.\n",
      "\n",
      "\n",
      "  housing_df[col].fillna(housing_df[col].median(), inplace=True)\n"
     ]
    }
   ],
   "source": [
    "# Fill categorical columns with mode\n",
    "cat_fill_mode = ['Mas Vnr Type', 'Fireplace Qu', 'Garage Type', 'Garage Finish', 'Garage Qual', 'Garage Cond',\n",
    "                 'Bsmt Exposure', 'BsmtFin Type 1', 'BsmtFin Type 2', 'Bsmt Qual', 'Bsmt Cond', 'Electrical']\n",
    "for col in cat_fill_mode:\n",
    "    housing_df[col].fillna(housing_df[col].mode()[0], inplace=True)\n",
    "\n",
    "# Fill numerical columns with median\n",
    "num_fill_median = ['Mas Vnr Area', 'Lot Frontage', 'Garage Yr Blt',\n",
    "                   'Bsmt Half Bath', 'Bsmt Full Bath', 'BsmtFin SF 1', 'BsmtFin SF 2',\n",
    "                   'Bsmt Unf SF', 'Total Bsmt SF', 'Garage Cars', 'Garage Area']\n",
    "for col in num_fill_median:\n",
    "    housing_df[col].fillna(housing_df[col].median(), inplace=True)"
   ]
  },
  {
   "cell_type": "code",
   "execution_count": 30,
   "metadata": {},
   "outputs": [
    {
     "data": {
      "text/plain": [
       "Order             0\n",
       "Full Bath         0\n",
       "Fireplaces        0\n",
       "Functional        0\n",
       "TotRms AbvGrd     0\n",
       "Kitchen Qual      0\n",
       "Kitchen AbvGr     0\n",
       "Bedroom AbvGr     0\n",
       "Half Bath         0\n",
       "Bsmt Half Bath    0\n",
       "dtype: int64"
      ]
     },
     "execution_count": 30,
     "metadata": {},
     "output_type": "execute_result"
    }
   ],
   "source": [
    "housing_df.isna().sum().sort_values(ascending=False).head(10)"
   ]
  },
  {
   "cell_type": "code",
   "execution_count": 31,
   "metadata": {},
   "outputs": [],
   "source": [
    "housing_df_encoded = pd.get_dummies(housing_df, drop_first=True)"
   ]
  },
  {
   "cell_type": "code",
   "execution_count": 32,
   "metadata": {},
   "outputs": [],
   "source": [
    "y = housing_df_encoded['SalePrice']\n",
    "X = housing_df_encoded.drop(columns=['SalePrice'])"
   ]
  },
  {
   "cell_type": "code",
   "execution_count": 33,
   "metadata": {},
   "outputs": [],
   "source": [
    "from sklearn.model_selection import train_test_split\n",
    "\n",
    "X_train, X_test, y_train, y_test = train_test_split(X, y, test_size=0.2, random_state=13)"
   ]
  },
  {
   "cell_type": "code",
   "execution_count": 34,
   "metadata": {},
   "outputs": [],
   "source": [
    "import os\n",
    "\n",
    "os.makedirs('data_cleaned', exist_ok=True)\n",
    "X_train.to_parquet('data_cleaned/X_train.parquet')\n",
    "X_test.to_parquet('data_cleaned/X_test.parquet')\n",
    "y_train.to_frame().to_parquet('data_cleaned/y_train.parquet')\n",
    "y_test.to_frame().to_parquet('data_cleaned/y_test.parquet')"
   ]
  },
  {
   "cell_type": "code",
   "execution_count": 35,
   "metadata": {},
   "outputs": [
    {
     "name": "stderr",
     "output_type": "stream",
     "text": [
      "2025/04/17 10:02:03 INFO mlflow.tracking.fluent: Experiment with name 'ames-housing-models' does not exist. Creating a new experiment.\n"
     ]
    },
    {
     "data": {
      "text/plain": [
       "<Experiment: artifact_location='mlflow-artifacts:/3', creation_time=1744909323515, experiment_id='3', last_update_time=1744909323515, lifecycle_stage='active', name='ames-housing-models', tags={}>"
      ]
     },
     "execution_count": 35,
     "metadata": {},
     "output_type": "execute_result"
    }
   ],
   "source": [
    "import mlflow\n",
    "import mlflow.sklearn\n",
    "\n",
    "# Set the tracking URI (creates a local sqlite db)\n",
    "mlflow.set_tracking_uri(\"https://mlflow-server-931658252548.us-west2.run.app\")\n",
    "\n",
    "# Create or switch to your experiment\n",
    "mlflow.set_experiment(\"ames-housing-models\")"
   ]
  },
  {
   "cell_type": "code",
   "execution_count": 36,
   "metadata": {},
   "outputs": [
    {
     "name": "stderr",
     "output_type": "stream",
     "text": [
      "2025/04/17 10:02:10 WARNING mlflow.utils.environment: Failed to resolve installed pip version. ``pip`` will be added to conda.yaml environment spec without a version specifier.\n",
      "2025/04/17 10:02:12 WARNING mlflow.models.model: Input example should be provided to infer model signature if the model signature is not provided when logging the model.\n",
      "2025/04/17 10:02:12 INFO mlflow.tracking._tracking_service.client: 🏃 View run selective-dove-60 at: https://mlflow-server-931658252548.us-west2.run.app/#/experiments/3/runs/66e01ab330c74cdeb2de38d847be76f9.\n",
      "2025/04/17 10:02:12 INFO mlflow.tracking._tracking_service.client: 🧪 View experiment at: https://mlflow-server-931658252548.us-west2.run.app/#/experiments/3.\n"
     ]
    }
   ],
   "source": [
    "from sklearn.linear_model import LinearRegression\n",
    "from sklearn.metrics import mean_squared_error, r2_score\n",
    "\n",
    "with mlflow.start_run():\n",
    "    mlflow.set_tag(\"model\", \"linear_regression\")\n",
    "\n",
    "    model = LinearRegression()\n",
    "    model.fit(X_train, y_train)\n",
    "    \n",
    "    preds = model.predict(X_test)\n",
    "    mse = mean_squared_error(y_test, preds)\n",
    "    r2 = r2_score(y_test, preds)\n",
    "\n",
    "    mlflow.log_metric(\"mse\", mse)\n",
    "    mlflow.log_metric(\"r2\", r2)\n",
    "    \n",
    "    mlflow.sklearn.log_model(model, \"model\")"
   ]
  },
  {
   "cell_type": "code",
   "execution_count": 37,
   "metadata": {},
   "outputs": [
    {
     "name": "stderr",
     "output_type": "stream",
     "text": [
      "2025/04/17 10:02:28 WARNING mlflow.utils.environment: Failed to resolve installed pip version. ``pip`` will be added to conda.yaml environment spec without a version specifier.\n",
      "2025/04/17 10:02:29 WARNING mlflow.models.model: Input example should be provided to infer model signature if the model signature is not provided when logging the model.\n",
      "2025/04/17 10:02:29 INFO mlflow.tracking._tracking_service.client: 🏃 View run magnificent-hawk-449 at: https://mlflow-server-931658252548.us-west2.run.app/#/experiments/3/runs/74b72912e2e54523899f2d451e11c0bc.\n",
      "2025/04/17 10:02:29 INFO mlflow.tracking._tracking_service.client: 🧪 View experiment at: https://mlflow-server-931658252548.us-west2.run.app/#/experiments/3.\n"
     ]
    }
   ],
   "source": [
    "from sklearn.tree import DecisionTreeRegressor\n",
    "\n",
    "with mlflow.start_run():\n",
    "    mlflow.set_tag(\"model\", \"decision_tree\")\n",
    "\n",
    "    max_depth = 5\n",
    "    model = DecisionTreeRegressor(max_depth=max_depth)\n",
    "    model.fit(X_train, y_train)\n",
    "    \n",
    "    preds = model.predict(X_test)\n",
    "    mse = mean_squared_error(y_test, preds)\n",
    "    r2 = r2_score(y_test, preds)\n",
    "\n",
    "    mlflow.log_param(\"max_depth\", max_depth)\n",
    "    mlflow.log_metric(\"mse\", mse)\n",
    "    mlflow.log_metric(\"r2\", r2)\n",
    "    \n",
    "    mlflow.sklearn.log_model(model, \"model\")"
   ]
  },
  {
   "cell_type": "code",
   "execution_count": 38,
   "metadata": {},
   "outputs": [
    {
     "name": "stderr",
     "output_type": "stream",
     "text": [
      "2025/04/17 10:02:33 WARNING mlflow.utils.environment: Failed to resolve installed pip version. ``pip`` will be added to conda.yaml environment spec without a version specifier.\n",
      "2025/04/17 10:02:44 WARNING mlflow.models.model: Input example should be provided to infer model signature if the model signature is not provided when logging the model.\n",
      "2025/04/17 10:02:44 INFO mlflow.tracking._tracking_service.client: 🏃 View run abrasive-conch-520 at: https://mlflow-server-931658252548.us-west2.run.app/#/experiments/3/runs/f3eb1e47bbe349aba539153500588876.\n",
      "2025/04/17 10:02:44 INFO mlflow.tracking._tracking_service.client: 🧪 View experiment at: https://mlflow-server-931658252548.us-west2.run.app/#/experiments/3.\n"
     ]
    }
   ],
   "source": [
    "from sklearn.ensemble import RandomForestRegressor\n",
    "\n",
    "with mlflow.start_run():\n",
    "    mlflow.set_tag(\"model\", \"random_forest\")\n",
    "\n",
    "    n_estimators = 100\n",
    "    max_depth = 10\n",
    "\n",
    "    model = RandomForestRegressor(n_estimators=n_estimators, max_depth=max_depth)\n",
    "    model.fit(X_train, y_train)\n",
    "    \n",
    "    preds = model.predict(X_test)\n",
    "    mse = mean_squared_error(y_test, preds)\n",
    "    r2 = r2_score(y_test, preds)\n",
    "\n",
    "    mlflow.log_params({\n",
    "        \"n_estimators\": n_estimators,\n",
    "        \"max_depth\": max_depth\n",
    "    })\n",
    "    mlflow.log_metric(\"mse\", mse)\n",
    "    mlflow.log_metric(\"r2\", r2)\n",
    "    \n",
    "    mlflow.sklearn.log_model(model, \"model\")"
   ]
  },
  {
   "cell_type": "code",
   "execution_count": 39,
   "metadata": {},
   "outputs": [],
   "source": [
    "from hyperopt import fmin, tpe, hp, STATUS_OK, Trials\n",
    "from sklearn.model_selection import cross_val_score\n",
    "\n",
    "def objective(params):\n",
    "    with mlflow.start_run():\n",
    "        model_type = params['type']\n",
    "        del params['type']\n",
    "\n",
    "        # Convert float params to int where necessary\n",
    "        if model_type == 'dt':\n",
    "            params['min_samples_split'] = int(params['min_samples_split'])\n",
    "            model = DecisionTreeRegressor(**params)\n",
    "        elif model_type == 'rf':\n",
    "            params['n_estimators'] = int(params['n_estimators'])\n",
    "            model = RandomForestRegressor(**params)\n",
    "        else:\n",
    "            return {'status': STATUS_FAIL}\n",
    "\n",
    "        score = cross_val_score(model, X_train, y_train, cv=5, scoring='r2').mean()\n",
    "\n",
    "        mlflow.set_tag(\"model_type\", model_type)\n",
    "        mlflow.log_params(params)\n",
    "        mlflow.log_metric(\"cv_r2\", score)\n",
    "        mlflow.sklearn.log_model(model, \"model\")\n",
    "\n",
    "        return {'loss': -score, 'status': STATUS_OK}\n",
    "\n"
   ]
  },
  {
   "cell_type": "code",
   "execution_count": 41,
   "metadata": {},
   "outputs": [],
   "source": [
    "search_space = hp.choice('model_type', [\n",
    "    {\n",
    "        'type': 'dt',\n",
    "        'max_depth': hp.choice('max_depth', list(range(2, 21))),\n",
    "        'min_samples_split': hp.quniform('min_samples_split', 2, 20, 1)\n",
    "    },\n",
    "    {\n",
    "        'type': 'rf',\n",
    "        'n_estimators': hp.quniform('n_estimators', 50, 300, 10),\n",
    "        'max_depth': hp.choice('max_depth_rf', list(range(5, 21))),\n",
    "        'max_features': hp.uniform('max_features', 0.3, 1.0)\n",
    "    }\n",
    "])\n"
   ]
  },
  {
   "cell_type": "code",
   "execution_count": 42,
   "metadata": {},
   "outputs": [
    {
     "name": "stdout",
     "output_type": "stream",
     "text": [
      "  0%|          | 0/30 [00:00<?, ?trial/s, best loss=?]"
     ]
    },
    {
     "name": "stderr",
     "output_type": "stream",
     "text": [
      "2025/04/17 10:03:02 WARNING mlflow.utils.environment: Failed to resolve installed pip version. ``pip`` will be added to conda.yaml environment spec without a version specifier.\n",
      "\n",
      "2025/04/17 10:03:03 WARNING mlflow.models.model: Input example should be provided to infer model signature if the model signature is not provided when logging the model.\n",
      "\n",
      "2025/04/17 10:03:03 INFO mlflow.tracking._tracking_service.client: 🏃 View run handsome-gnat-70 at: https://mlflow-server-931658252548.us-west2.run.app/#/experiments/3/runs/4662119828434c309e23958b29c30a5e.\n",
      "\n",
      "2025/04/17 10:03:03 INFO mlflow.tracking._tracking_service.client: 🧪 View experiment at: https://mlflow-server-931658252548.us-west2.run.app/#/experiments/3.\n",
      "\n"
     ]
    },
    {
     "name": "stdout",
     "output_type": "stream",
     "text": [
      "  3%|▎         | 1/30 [00:02<01:21,  2.82s/trial, best loss: -0.6352153986024369]"
     ]
    },
    {
     "name": "stderr",
     "output_type": "stream",
     "text": [
      "2025/04/17 10:03:04 WARNING mlflow.utils.environment: Failed to resolve installed pip version. ``pip`` will be added to conda.yaml environment spec without a version specifier.\n",
      "\n",
      "2025/04/17 10:03:05 WARNING mlflow.models.model: Input example should be provided to infer model signature if the model signature is not provided when logging the model.\n",
      "\n",
      "2025/04/17 10:03:05 INFO mlflow.tracking._tracking_service.client: 🏃 View run legendary-auk-388 at: https://mlflow-server-931658252548.us-west2.run.app/#/experiments/3/runs/be77b8d4f1bb41c1ad8675569b906650.\n",
      "\n",
      "2025/04/17 10:03:05 INFO mlflow.tracking._tracking_service.client: 🧪 View experiment at: https://mlflow-server-931658252548.us-west2.run.app/#/experiments/3.\n",
      "\n"
     ]
    },
    {
     "name": "stdout",
     "output_type": "stream",
     "text": [
      "  7%|▋         | 2/30 [00:04<01:06,  2.37s/trial, best loss: -0.792783975657722] "
     ]
    },
    {
     "name": "stderr",
     "output_type": "stream",
     "text": [
      "2025/04/17 10:03:06 WARNING mlflow.utils.environment: Failed to resolve installed pip version. ``pip`` will be added to conda.yaml environment spec without a version specifier.\n",
      "\n",
      "2025/04/17 10:03:08 WARNING mlflow.models.model: Input example should be provided to infer model signature if the model signature is not provided when logging the model.\n",
      "\n",
      "2025/04/17 10:03:08 INFO mlflow.tracking._tracking_service.client: 🏃 View run resilient-tern-401 at: https://mlflow-server-931658252548.us-west2.run.app/#/experiments/3/runs/a6618dc39d3d4792bfd185fd0c30f39a.\n",
      "\n",
      "2025/04/17 10:03:08 INFO mlflow.tracking._tracking_service.client: 🧪 View experiment at: https://mlflow-server-931658252548.us-west2.run.app/#/experiments/3.\n",
      "\n"
     ]
    },
    {
     "name": "stdout",
     "output_type": "stream",
     "text": [
      " 10%|█         | 3/30 [00:07<01:07,  2.51s/trial, best loss: -0.792783975657722]"
     ]
    },
    {
     "name": "stderr",
     "output_type": "stream",
     "text": [
      "2025/04/17 10:03:14 WARNING mlflow.utils.environment: Failed to resolve installed pip version. ``pip`` will be added to conda.yaml environment spec without a version specifier.\n",
      "\n",
      "2025/04/17 10:03:16 WARNING mlflow.models.model: Input example should be provided to infer model signature if the model signature is not provided when logging the model.\n",
      "\n",
      "2025/04/17 10:03:16 INFO mlflow.tracking._tracking_service.client: 🏃 View run industrious-kite-980 at: https://mlflow-server-931658252548.us-west2.run.app/#/experiments/3/runs/7be78dcfad414a3586f806d96118518b.\n",
      "\n",
      "2025/04/17 10:03:16 INFO mlflow.tracking._tracking_service.client: 🧪 View experiment at: https://mlflow-server-931658252548.us-west2.run.app/#/experiments/3.\n",
      "\n"
     ]
    },
    {
     "name": "stdout",
     "output_type": "stream",
     "text": [
      " 13%|█▎        | 4/30 [00:16<02:09,  4.99s/trial, best loss: -0.9021148006795217]"
     ]
    },
    {
     "name": "stderr",
     "output_type": "stream",
     "text": [
      "2025/04/17 10:03:29 WARNING mlflow.utils.environment: Failed to resolve installed pip version. ``pip`` will be added to conda.yaml environment spec without a version specifier.\n",
      "\n",
      "2025/04/17 10:03:30 WARNING mlflow.models.model: Input example should be provided to infer model signature if the model signature is not provided when logging the model.\n",
      "\n",
      "2025/04/17 10:03:30 INFO mlflow.tracking._tracking_service.client: 🏃 View run beautiful-shrike-231 at: https://mlflow-server-931658252548.us-west2.run.app/#/experiments/3/runs/3648ca8c47ff46049bb4aa7a960100bf.\n",
      "\n",
      "2025/04/17 10:03:30 INFO mlflow.tracking._tracking_service.client: 🧪 View experiment at: https://mlflow-server-931658252548.us-west2.run.app/#/experiments/3.\n",
      "\n"
     ]
    },
    {
     "name": "stdout",
     "output_type": "stream",
     "text": [
      " 17%|█▋        | 5/30 [00:29<03:19,  7.98s/trial, best loss: -0.9042425168846234]"
     ]
    },
    {
     "name": "stderr",
     "output_type": "stream",
     "text": [
      "2025/04/17 10:03:41 WARNING mlflow.utils.environment: Failed to resolve installed pip version. ``pip`` will be added to conda.yaml environment spec without a version specifier.\n",
      "\n",
      "2025/04/17 10:03:41 WARNING mlflow.models.model: Input example should be provided to infer model signature if the model signature is not provided when logging the model.\n",
      "\n",
      "2025/04/17 10:03:41 INFO mlflow.tracking._tracking_service.client: 🏃 View run thundering-hare-936 at: https://mlflow-server-931658252548.us-west2.run.app/#/experiments/3/runs/32bd8565bd5e49f18d4e7014b92d35ff.\n",
      "\n",
      "2025/04/17 10:03:41 INFO mlflow.tracking._tracking_service.client: 🧪 View experiment at: https://mlflow-server-931658252548.us-west2.run.app/#/experiments/3.\n",
      "\n"
     ]
    },
    {
     "name": "stdout",
     "output_type": "stream",
     "text": [
      " 20%|██        | 6/30 [00:41<03:41,  9.21s/trial, best loss: -0.9042425168846234]"
     ]
    },
    {
     "name": "stderr",
     "output_type": "stream",
     "text": [
      "2025/04/17 10:04:07 WARNING mlflow.utils.environment: Failed to resolve installed pip version. ``pip`` will be added to conda.yaml environment spec without a version specifier.\n",
      "\n",
      "2025/04/17 10:04:08 WARNING mlflow.models.model: Input example should be provided to infer model signature if the model signature is not provided when logging the model.\n",
      "\n",
      "2025/04/17 10:04:08 INFO mlflow.tracking._tracking_service.client: 🏃 View run gentle-toad-975 at: https://mlflow-server-931658252548.us-west2.run.app/#/experiments/3/runs/4a414e20612149d5940b61a3592c558d.\n",
      "\n",
      "2025/04/17 10:04:08 INFO mlflow.tracking._tracking_service.client: 🧪 View experiment at: https://mlflow-server-931658252548.us-west2.run.app/#/experiments/3.\n",
      "\n"
     ]
    },
    {
     "name": "stdout",
     "output_type": "stream",
     "text": [
      " 23%|██▎       | 7/30 [01:08<05:48, 15.17s/trial, best loss: -0.9042425168846234]"
     ]
    },
    {
     "name": "stderr",
     "output_type": "stream",
     "text": [
      "2025/04/17 10:04:10 WARNING mlflow.utils.environment: Failed to resolve installed pip version. ``pip`` will be added to conda.yaml environment spec without a version specifier.\n",
      "\n",
      "2025/04/17 10:04:11 WARNING mlflow.models.model: Input example should be provided to infer model signature if the model signature is not provided when logging the model.\n",
      "\n",
      "2025/04/17 10:04:11 INFO mlflow.tracking._tracking_service.client: 🏃 View run sincere-squid-29 at: https://mlflow-server-931658252548.us-west2.run.app/#/experiments/3/runs/84dec1aa1b2a40288a1f02015a43680a.\n",
      "\n",
      "2025/04/17 10:04:11 INFO mlflow.tracking._tracking_service.client: 🧪 View experiment at: https://mlflow-server-931658252548.us-west2.run.app/#/experiments/3.\n",
      "\n"
     ]
    },
    {
     "name": "stdout",
     "output_type": "stream",
     "text": [
      " 27%|██▋       | 8/30 [01:11<04:04, 11.12s/trial, best loss: -0.9042425168846234]"
     ]
    },
    {
     "name": "stderr",
     "output_type": "stream",
     "text": [
      "2025/04/17 10:04:13 WARNING mlflow.utils.environment: Failed to resolve installed pip version. ``pip`` will be added to conda.yaml environment spec without a version specifier.\n",
      "\n",
      "2025/04/17 10:04:14 WARNING mlflow.models.model: Input example should be provided to infer model signature if the model signature is not provided when logging the model.\n",
      "\n",
      "2025/04/17 10:04:14 INFO mlflow.tracking._tracking_service.client: 🏃 View run gregarious-deer-813 at: https://mlflow-server-931658252548.us-west2.run.app/#/experiments/3/runs/ee891cadd7bf4857aea4e6cfe55368a2.\n",
      "\n",
      "2025/04/17 10:04:14 INFO mlflow.tracking._tracking_service.client: 🧪 View experiment at: https://mlflow-server-931658252548.us-west2.run.app/#/experiments/3.\n",
      "\n"
     ]
    },
    {
     "name": "stdout",
     "output_type": "stream",
     "text": [
      " 30%|███       | 9/30 [01:14<03:00,  8.60s/trial, best loss: -0.9042425168846234]"
     ]
    },
    {
     "name": "stderr",
     "output_type": "stream",
     "text": [
      "2025/04/17 10:04:17 WARNING mlflow.utils.environment: Failed to resolve installed pip version. ``pip`` will be added to conda.yaml environment spec without a version specifier.\n",
      "\n",
      "2025/04/17 10:04:18 WARNING mlflow.models.model: Input example should be provided to infer model signature if the model signature is not provided when logging the model.\n",
      "\n",
      "2025/04/17 10:04:18 INFO mlflow.tracking._tracking_service.client: 🏃 View run intrigued-crane-226 at: https://mlflow-server-931658252548.us-west2.run.app/#/experiments/3/runs/fd236eb51f744e40a097b3ba04e3eebc.\n",
      "\n",
      "2025/04/17 10:04:18 INFO mlflow.tracking._tracking_service.client: 🧪 View experiment at: https://mlflow-server-931658252548.us-west2.run.app/#/experiments/3.\n",
      "\n"
     ]
    },
    {
     "name": "stdout",
     "output_type": "stream",
     "text": [
      " 33%|███▎      | 10/30 [01:17<02:20,  7.04s/trial, best loss: -0.9042425168846234]"
     ]
    },
    {
     "name": "stderr",
     "output_type": "stream",
     "text": [
      "2025/04/17 10:04:27 WARNING mlflow.utils.environment: Failed to resolve installed pip version. ``pip`` will be added to conda.yaml environment spec without a version specifier.\n",
      "\n",
      "2025/04/17 10:04:29 WARNING mlflow.models.model: Input example should be provided to infer model signature if the model signature is not provided when logging the model.\n",
      "\n",
      "2025/04/17 10:04:29 INFO mlflow.tracking._tracking_service.client: 🏃 View run secretive-shrew-584 at: https://mlflow-server-931658252548.us-west2.run.app/#/experiments/3/runs/264c857c4e244277872695b3024c64db.\n",
      "\n",
      "2025/04/17 10:04:29 INFO mlflow.tracking._tracking_service.client: 🧪 View experiment at: https://mlflow-server-931658252548.us-west2.run.app/#/experiments/3.\n",
      "\n"
     ]
    },
    {
     "name": "stdout",
     "output_type": "stream",
     "text": [
      " 37%|███▋      | 11/30 [01:29<02:40,  8.47s/trial, best loss: -0.9042425168846234]"
     ]
    },
    {
     "name": "stderr",
     "output_type": "stream",
     "text": [
      "2025/04/17 10:04:32 WARNING mlflow.utils.environment: Failed to resolve installed pip version. ``pip`` will be added to conda.yaml environment spec without a version specifier.\n",
      "\n",
      "2025/04/17 10:04:33 WARNING mlflow.models.model: Input example should be provided to infer model signature if the model signature is not provided when logging the model.\n",
      "\n",
      "2025/04/17 10:04:33 INFO mlflow.tracking._tracking_service.client: 🏃 View run mercurial-koi-566 at: https://mlflow-server-931658252548.us-west2.run.app/#/experiments/3/runs/27a00ec8ed1e4b79ba473dc69b066d1a.\n",
      "\n",
      "2025/04/17 10:04:33 INFO mlflow.tracking._tracking_service.client: 🧪 View experiment at: https://mlflow-server-931658252548.us-west2.run.app/#/experiments/3.\n",
      "\n"
     ]
    },
    {
     "name": "stdout",
     "output_type": "stream",
     "text": [
      " 40%|████      | 12/30 [01:32<02:03,  6.87s/trial, best loss: -0.9042425168846234]"
     ]
    },
    {
     "name": "stderr",
     "output_type": "stream",
     "text": [
      "2025/04/17 10:04:52 WARNING mlflow.utils.environment: Failed to resolve installed pip version. ``pip`` will be added to conda.yaml environment spec without a version specifier.\n",
      "\n",
      "2025/04/17 10:04:54 WARNING mlflow.models.model: Input example should be provided to infer model signature if the model signature is not provided when logging the model.\n",
      "\n",
      "2025/04/17 10:04:54 INFO mlflow.tracking._tracking_service.client: 🏃 View run zealous-auk-154 at: https://mlflow-server-931658252548.us-west2.run.app/#/experiments/3/runs/1aaaf74694b74fd7b03871f4e5f229bd.\n",
      "\n",
      "2025/04/17 10:04:54 INFO mlflow.tracking._tracking_service.client: 🧪 View experiment at: https://mlflow-server-931658252548.us-west2.run.app/#/experiments/3.\n",
      "\n"
     ]
    },
    {
     "name": "stdout",
     "output_type": "stream",
     "text": [
      " 43%|████▎     | 13/30 [01:54<03:14, 11.41s/trial, best loss: -0.9042425168846234]"
     ]
    },
    {
     "name": "stderr",
     "output_type": "stream",
     "text": [
      "2025/04/17 10:05:09 WARNING mlflow.utils.environment: Failed to resolve installed pip version. ``pip`` will be added to conda.yaml environment spec without a version specifier.\n",
      "\n",
      "2025/04/17 10:05:09 WARNING mlflow.models.model: Input example should be provided to infer model signature if the model signature is not provided when logging the model.\n",
      "\n",
      "2025/04/17 10:05:10 INFO mlflow.tracking._tracking_service.client: 🏃 View run valuable-skunk-121 at: https://mlflow-server-931658252548.us-west2.run.app/#/experiments/3/runs/94baa3ee32984de0a16ae706abfb3554.\n",
      "\n",
      "2025/04/17 10:05:10 INFO mlflow.tracking._tracking_service.client: 🧪 View experiment at: https://mlflow-server-931658252548.us-west2.run.app/#/experiments/3.\n",
      "\n"
     ]
    },
    {
     "name": "stdout",
     "output_type": "stream",
     "text": [
      " 47%|████▋     | 14/30 [02:09<03:19, 12.45s/trial, best loss: -0.9042425168846234]"
     ]
    },
    {
     "name": "stderr",
     "output_type": "stream",
     "text": [
      "2025/04/17 10:05:18 WARNING mlflow.utils.environment: Failed to resolve installed pip version. ``pip`` will be added to conda.yaml environment spec without a version specifier.\n",
      "\n",
      "2025/04/17 10:05:19 WARNING mlflow.models.model: Input example should be provided to infer model signature if the model signature is not provided when logging the model.\n",
      "\n",
      "2025/04/17 10:05:19 INFO mlflow.tracking._tracking_service.client: 🏃 View run silent-wren-764 at: https://mlflow-server-931658252548.us-west2.run.app/#/experiments/3/runs/5c501429ea44475a89c4d704660ab09f.\n",
      "\n",
      "2025/04/17 10:05:19 INFO mlflow.tracking._tracking_service.client: 🧪 View experiment at: https://mlflow-server-931658252548.us-west2.run.app/#/experiments/3.\n",
      "\n"
     ]
    },
    {
     "name": "stdout",
     "output_type": "stream",
     "text": [
      " 50%|█████     | 15/30 [02:18<02:53, 11.59s/trial, best loss: -0.9042425168846234]"
     ]
    },
    {
     "name": "stderr",
     "output_type": "stream",
     "text": [
      "2025/04/17 10:05:23 WARNING mlflow.utils.environment: Failed to resolve installed pip version. ``pip`` will be added to conda.yaml environment spec without a version specifier.\n",
      "\n",
      "2025/04/17 10:05:24 WARNING mlflow.models.model: Input example should be provided to infer model signature if the model signature is not provided when logging the model.\n",
      "\n",
      "2025/04/17 10:05:24 INFO mlflow.tracking._tracking_service.client: 🏃 View run carefree-kite-51 at: https://mlflow-server-931658252548.us-west2.run.app/#/experiments/3/runs/81c37a022d73421b80337316e80e229f.\n",
      "\n",
      "2025/04/17 10:05:24 INFO mlflow.tracking._tracking_service.client: 🧪 View experiment at: https://mlflow-server-931658252548.us-west2.run.app/#/experiments/3.\n",
      "\n"
     ]
    },
    {
     "name": "stdout",
     "output_type": "stream",
     "text": [
      " 53%|█████▎    | 16/30 [02:24<02:15,  9.67s/trial, best loss: -0.9042425168846234]"
     ]
    },
    {
     "name": "stderr",
     "output_type": "stream",
     "text": [
      "2025/04/17 10:05:26 WARNING mlflow.utils.environment: Failed to resolve installed pip version. ``pip`` will be added to conda.yaml environment spec without a version specifier.\n",
      "\n",
      "2025/04/17 10:05:27 WARNING mlflow.models.model: Input example should be provided to infer model signature if the model signature is not provided when logging the model.\n",
      "\n",
      "2025/04/17 10:05:27 INFO mlflow.tracking._tracking_service.client: 🏃 View run victorious-hare-387 at: https://mlflow-server-931658252548.us-west2.run.app/#/experiments/3/runs/ea918dd8e2614d989575b838ce10abf3.\n",
      "\n",
      "2025/04/17 10:05:27 INFO mlflow.tracking._tracking_service.client: 🧪 View experiment at: https://mlflow-server-931658252548.us-west2.run.app/#/experiments/3.\n",
      "\n"
     ]
    },
    {
     "name": "stdout",
     "output_type": "stream",
     "text": [
      " 57%|█████▋    | 17/30 [02:26<01:38,  7.55s/trial, best loss: -0.9042425168846234]"
     ]
    },
    {
     "name": "stderr",
     "output_type": "stream",
     "text": [
      "2025/04/17 10:05:29 WARNING mlflow.utils.environment: Failed to resolve installed pip version. ``pip`` will be added to conda.yaml environment spec without a version specifier.\n",
      "\n",
      "2025/04/17 10:05:31 WARNING mlflow.models.model: Input example should be provided to infer model signature if the model signature is not provided when logging the model.\n",
      "\n",
      "2025/04/17 10:05:31 INFO mlflow.tracking._tracking_service.client: 🏃 View run blushing-turtle-93 at: https://mlflow-server-931658252548.us-west2.run.app/#/experiments/3/runs/720a4d836bb0487ea4a2e945892159aa.\n",
      "\n",
      "2025/04/17 10:05:31 INFO mlflow.tracking._tracking_service.client: 🧪 View experiment at: https://mlflow-server-931658252548.us-west2.run.app/#/experiments/3.\n",
      "\n"
     ]
    },
    {
     "name": "stdout",
     "output_type": "stream",
     "text": [
      " 60%|██████    | 18/30 [02:31<01:19,  6.59s/trial, best loss: -0.9042425168846234]"
     ]
    },
    {
     "name": "stderr",
     "output_type": "stream",
     "text": [
      "2025/04/17 10:05:37 WARNING mlflow.utils.environment: Failed to resolve installed pip version. ``pip`` will be added to conda.yaml environment spec without a version specifier.\n",
      "\n",
      "2025/04/17 10:05:39 WARNING mlflow.models.model: Input example should be provided to infer model signature if the model signature is not provided when logging the model.\n",
      "\n",
      "2025/04/17 10:05:40 INFO mlflow.tracking._tracking_service.client: 🏃 View run grandiose-flea-231 at: https://mlflow-server-931658252548.us-west2.run.app/#/experiments/3/runs/ecabaf3188654719ab08e117d2e32b4f.\n",
      "\n",
      "2025/04/17 10:05:40 INFO mlflow.tracking._tracking_service.client: 🧪 View experiment at: https://mlflow-server-931658252548.us-west2.run.app/#/experiments/3.\n",
      "\n"
     ]
    },
    {
     "name": "stdout",
     "output_type": "stream",
     "text": [
      " 63%|██████▎   | 19/30 [02:39<01:18,  7.13s/trial, best loss: -0.9042425168846234]"
     ]
    },
    {
     "name": "stderr",
     "output_type": "stream",
     "text": [
      "2025/04/17 10:05:42 WARNING mlflow.utils.environment: Failed to resolve installed pip version. ``pip`` will be added to conda.yaml environment spec without a version specifier.\n",
      "\n",
      "2025/04/17 10:05:44 WARNING mlflow.models.model: Input example should be provided to infer model signature if the model signature is not provided when logging the model.\n",
      "\n",
      "2025/04/17 10:05:44 INFO mlflow.tracking._tracking_service.client: 🏃 View run thundering-pug-584 at: https://mlflow-server-931658252548.us-west2.run.app/#/experiments/3/runs/294f0a18de754c84b0c70eb95fdf307a.\n",
      "\n",
      "2025/04/17 10:05:44 INFO mlflow.tracking._tracking_service.client: 🧪 View experiment at: https://mlflow-server-931658252548.us-west2.run.app/#/experiments/3.\n",
      "\n"
     ]
    },
    {
     "name": "stdout",
     "output_type": "stream",
     "text": [
      " 67%|██████▋   | 20/30 [02:43<01:03,  6.32s/trial, best loss: -0.9042425168846234]"
     ]
    },
    {
     "name": "stderr",
     "output_type": "stream",
     "text": [
      "2025/04/17 10:05:57 WARNING mlflow.utils.environment: Failed to resolve installed pip version. ``pip`` will be added to conda.yaml environment spec without a version specifier.\n",
      "\n",
      "2025/04/17 10:05:59 WARNING mlflow.models.model: Input example should be provided to infer model signature if the model signature is not provided when logging the model.\n",
      "\n",
      "2025/04/17 10:05:59 INFO mlflow.tracking._tracking_service.client: 🏃 View run upbeat-flea-403 at: https://mlflow-server-931658252548.us-west2.run.app/#/experiments/3/runs/908b285ca2694e8bbd80e7cc2022467b.\n",
      "\n",
      "2025/04/17 10:05:59 INFO mlflow.tracking._tracking_service.client: 🧪 View experiment at: https://mlflow-server-931658252548.us-west2.run.app/#/experiments/3.\n",
      "\n"
     ]
    },
    {
     "name": "stdout",
     "output_type": "stream",
     "text": [
      " 70%|███████   | 21/30 [02:59<01:20,  8.95s/trial, best loss: -0.9042425168846234]"
     ]
    },
    {
     "name": "stderr",
     "output_type": "stream",
     "text": [
      "2025/04/17 10:06:14 WARNING mlflow.utils.environment: Failed to resolve installed pip version. ``pip`` will be added to conda.yaml environment spec without a version specifier.\n",
      "\n",
      "2025/04/17 10:06:16 WARNING mlflow.models.model: Input example should be provided to infer model signature if the model signature is not provided when logging the model.\n",
      "\n",
      "2025/04/17 10:06:16 INFO mlflow.tracking._tracking_service.client: 🏃 View run shivering-sponge-704 at: https://mlflow-server-931658252548.us-west2.run.app/#/experiments/3/runs/36e98ca61617405684a53bc487ec46bd.\n",
      "\n",
      "2025/04/17 10:06:16 INFO mlflow.tracking._tracking_service.client: 🧪 View experiment at: https://mlflow-server-931658252548.us-west2.run.app/#/experiments/3.\n",
      "\n"
     ]
    },
    {
     "name": "stdout",
     "output_type": "stream",
     "text": [
      " 73%|███████▎  | 22/30 [03:15<01:30, 11.29s/trial, best loss: -0.9042425168846234]"
     ]
    },
    {
     "name": "stderr",
     "output_type": "stream",
     "text": [
      "2025/04/17 10:06:24 WARNING mlflow.utils.environment: Failed to resolve installed pip version. ``pip`` will be added to conda.yaml environment spec without a version specifier.\n",
      "\n",
      "2025/04/17 10:06:25 WARNING mlflow.models.model: Input example should be provided to infer model signature if the model signature is not provided when logging the model.\n",
      "\n",
      "2025/04/17 10:06:25 INFO mlflow.tracking._tracking_service.client: 🏃 View run learned-cat-963 at: https://mlflow-server-931658252548.us-west2.run.app/#/experiments/3/runs/435138896a4c40dea187b200e8a21d0c.\n",
      "\n",
      "2025/04/17 10:06:25 INFO mlflow.tracking._tracking_service.client: 🧪 View experiment at: https://mlflow-server-931658252548.us-west2.run.app/#/experiments/3.\n",
      "\n"
     ]
    },
    {
     "name": "stdout",
     "output_type": "stream",
     "text": [
      " 77%|███████▋  | 23/30 [03:25<01:15, 10.76s/trial, best loss: -0.9042425168846234]"
     ]
    },
    {
     "name": "stderr",
     "output_type": "stream",
     "text": [
      "2025/04/17 10:06:42 WARNING mlflow.utils.environment: Failed to resolve installed pip version. ``pip`` will be added to conda.yaml environment spec without a version specifier.\n",
      "\n",
      "2025/04/17 10:06:43 WARNING mlflow.models.model: Input example should be provided to infer model signature if the model signature is not provided when logging the model.\n",
      "\n",
      "2025/04/17 10:06:43 INFO mlflow.tracking._tracking_service.client: 🏃 View run lyrical-koi-811 at: https://mlflow-server-931658252548.us-west2.run.app/#/experiments/3/runs/962e0bf45c054fb6a6bc631985f88ae3.\n",
      "\n",
      "2025/04/17 10:06:43 INFO mlflow.tracking._tracking_service.client: 🧪 View experiment at: https://mlflow-server-931658252548.us-west2.run.app/#/experiments/3.\n",
      "\n"
     ]
    },
    {
     "name": "stdout",
     "output_type": "stream",
     "text": [
      " 80%|████████  | 24/30 [03:42<01:16, 12.68s/trial, best loss: -0.9042425168846234]"
     ]
    },
    {
     "name": "stderr",
     "output_type": "stream",
     "text": [
      "2025/04/17 10:06:49 WARNING mlflow.utils.environment: Failed to resolve installed pip version. ``pip`` will be added to conda.yaml environment spec without a version specifier.\n",
      "\n",
      "2025/04/17 10:06:50 WARNING mlflow.models.model: Input example should be provided to infer model signature if the model signature is not provided when logging the model.\n",
      "\n",
      "2025/04/17 10:06:50 INFO mlflow.tracking._tracking_service.client: 🏃 View run selective-fowl-94 at: https://mlflow-server-931658252548.us-west2.run.app/#/experiments/3/runs/dbdf512591eb4fa5b01a585f062bddba.\n",
      "\n",
      "2025/04/17 10:06:50 INFO mlflow.tracking._tracking_service.client: 🧪 View experiment at: https://mlflow-server-931658252548.us-west2.run.app/#/experiments/3.\n",
      "\n"
     ]
    },
    {
     "name": "stdout",
     "output_type": "stream",
     "text": [
      " 83%|████████▎ | 25/30 [03:50<00:55, 11.18s/trial, best loss: -0.9042425168846234]"
     ]
    },
    {
     "name": "stderr",
     "output_type": "stream",
     "text": [
      "2025/04/17 10:06:55 WARNING mlflow.utils.environment: Failed to resolve installed pip version. ``pip`` will be added to conda.yaml environment spec without a version specifier.\n",
      "\n",
      "2025/04/17 10:06:56 WARNING mlflow.models.model: Input example should be provided to infer model signature if the model signature is not provided when logging the model.\n",
      "\n",
      "2025/04/17 10:06:56 INFO mlflow.tracking._tracking_service.client: 🏃 View run glamorous-carp-949 at: https://mlflow-server-931658252548.us-west2.run.app/#/experiments/3/runs/897a97ae161b473eb5acb710270f36ac.\n",
      "\n",
      "2025/04/17 10:06:56 INFO mlflow.tracking._tracking_service.client: 🧪 View experiment at: https://mlflow-server-931658252548.us-west2.run.app/#/experiments/3.\n",
      "\n"
     ]
    },
    {
     "name": "stdout",
     "output_type": "stream",
     "text": [
      " 87%|████████▋ | 26/30 [03:55<00:37,  9.46s/trial, best loss: -0.9042425168846234]"
     ]
    },
    {
     "name": "stderr",
     "output_type": "stream",
     "text": [
      "2025/04/17 10:07:10 WARNING mlflow.utils.environment: Failed to resolve installed pip version. ``pip`` will be added to conda.yaml environment spec without a version specifier.\n",
      "\n",
      "2025/04/17 10:07:12 WARNING mlflow.models.model: Input example should be provided to infer model signature if the model signature is not provided when logging the model.\n",
      "\n",
      "2025/04/17 10:07:12 INFO mlflow.tracking._tracking_service.client: 🏃 View run unruly-cow-297 at: https://mlflow-server-931658252548.us-west2.run.app/#/experiments/3/runs/7a5aae22559c4c94b19f95ed5846fbf3.\n",
      "\n",
      "2025/04/17 10:07:12 INFO mlflow.tracking._tracking_service.client: 🧪 View experiment at: https://mlflow-server-931658252548.us-west2.run.app/#/experiments/3.\n",
      "\n"
     ]
    },
    {
     "name": "stdout",
     "output_type": "stream",
     "text": [
      " 90%|█████████ | 27/30 [04:11<00:34, 11.47s/trial, best loss: -0.9042425168846234]"
     ]
    },
    {
     "name": "stderr",
     "output_type": "stream",
     "text": [
      "2025/04/17 10:07:18 WARNING mlflow.utils.environment: Failed to resolve installed pip version. ``pip`` will be added to conda.yaml environment spec without a version specifier.\n",
      "\n",
      "2025/04/17 10:07:20 WARNING mlflow.models.model: Input example should be provided to infer model signature if the model signature is not provided when logging the model.\n",
      "\n",
      "2025/04/17 10:07:21 INFO mlflow.tracking._tracking_service.client: 🏃 View run bold-fox-921 at: https://mlflow-server-931658252548.us-west2.run.app/#/experiments/3/runs/3fa7676f3e314a42b08f0a2228f8f679.\n",
      "\n",
      "2025/04/17 10:07:21 INFO mlflow.tracking._tracking_service.client: 🧪 View experiment at: https://mlflow-server-931658252548.us-west2.run.app/#/experiments/3.\n",
      "\n"
     ]
    },
    {
     "name": "stdout",
     "output_type": "stream",
     "text": [
      " 93%|█████████▎| 28/30 [04:20<00:21, 10.67s/trial, best loss: -0.9042425168846234]"
     ]
    },
    {
     "name": "stderr",
     "output_type": "stream",
     "text": [
      "2025/04/17 10:07:24 WARNING mlflow.utils.environment: Failed to resolve installed pip version. ``pip`` will be added to conda.yaml environment spec without a version specifier.\n",
      "\n",
      "2025/04/17 10:07:25 WARNING mlflow.models.model: Input example should be provided to infer model signature if the model signature is not provided when logging the model.\n",
      "\n",
      "2025/04/17 10:07:25 INFO mlflow.tracking._tracking_service.client: 🏃 View run stylish-crow-948 at: https://mlflow-server-931658252548.us-west2.run.app/#/experiments/3/runs/0f3194c551094b888ee4520083415ed8.\n",
      "\n",
      "2025/04/17 10:07:25 INFO mlflow.tracking._tracking_service.client: 🧪 View experiment at: https://mlflow-server-931658252548.us-west2.run.app/#/experiments/3.\n",
      "\n"
     ]
    },
    {
     "name": "stdout",
     "output_type": "stream",
     "text": [
      " 97%|█████████▋| 29/30 [04:25<00:08,  8.89s/trial, best loss: -0.9042425168846234]"
     ]
    },
    {
     "name": "stderr",
     "output_type": "stream",
     "text": [
      "2025/04/17 10:07:36 WARNING mlflow.utils.environment: Failed to resolve installed pip version. ``pip`` will be added to conda.yaml environment spec without a version specifier.\n",
      "\n",
      "2025/04/17 10:07:37 WARNING mlflow.models.model: Input example should be provided to infer model signature if the model signature is not provided when logging the model.\n",
      "\n",
      "2025/04/17 10:07:37 INFO mlflow.tracking._tracking_service.client: 🏃 View run sophisticated-slug-0 at: https://mlflow-server-931658252548.us-west2.run.app/#/experiments/3/runs/7795ad8416654c29aa391e342a7d7227.\n",
      "\n",
      "2025/04/17 10:07:37 INFO mlflow.tracking._tracking_service.client: 🧪 View experiment at: https://mlflow-server-931658252548.us-west2.run.app/#/experiments/3.\n",
      "\n"
     ]
    },
    {
     "name": "stdout",
     "output_type": "stream",
     "text": [
      "100%|██████████| 30/30 [04:36<00:00,  9.23s/trial, best loss: -0.9042425168846234]\n",
      "Best hyperparameters: {'max_depth_rf': 15, 'max_features': 0.5187271051824991, 'model_type': 1, 'n_estimators': 210.0}\n"
     ]
    }
   ],
   "source": [
    "trials = Trials()\n",
    "\n",
    "best = fmin(\n",
    "    fn=objective,\n",
    "    space=search_space,\n",
    "    algo=tpe.suggest,\n",
    "    max_evals=30,\n",
    "    trials=trials\n",
    ")\n",
    "print(\"Best hyperparameters:\", best)"
   ]
  },
  {
   "cell_type": "code",
   "execution_count": 43,
   "metadata": {},
   "outputs": [
    {
     "name": "stdout",
     "output_type": "stream",
     "text": [
      "Trial 1:\n",
      "  Parameters: {'max_depth': [], 'max_depth_rf': [15], 'max_features': [0.5187271051824991], 'min_samples_split': [], 'model_type': [1], 'n_estimators': [210.0]}\n",
      "  Loss (negative R2): -0.9042425168846234\n",
      "  Status: ok\n",
      "\n",
      "Trial 2:\n",
      "  Parameters: {'max_depth': [], 'max_depth_rf': [11], 'max_features': [0.42220165173258917], 'min_samples_split': [], 'model_type': [1], 'n_estimators': [230.0]}\n",
      "  Loss (negative R2): -0.9035098244506085\n",
      "  Status: ok\n",
      "\n",
      "Trial 3:\n",
      "  Parameters: {'max_depth': [], 'max_depth_rf': [11], 'max_features': [0.549418197179458], 'min_samples_split': [], 'model_type': [1], 'n_estimators': [280.0]}\n",
      "  Loss (negative R2): -0.903442805476236\n",
      "  Status: ok\n",
      "\n"
     ]
    }
   ],
   "source": [
    "# Output top 3\n",
    "top_trials = sorted(trials.trials, key=lambda x: x['result']['loss'])[:3]\n",
    "for i, trial in enumerate(top_trials):\n",
    "    print(f\"Trial {i+1}:\")\n",
    "    print(f\"  Parameters: {trial['misc']['vals']}\")\n",
    "    print(f\"  Loss (negative R2): {trial['result']['loss']}\")\n",
    "    print(f\"  Status: {trial['result']['status']}\")\n",
    "    print()"
   ]
  },
  {
   "cell_type": "code",
   "execution_count": 44,
   "metadata": {},
   "outputs": [
    {
     "name": "stdout",
     "output_type": "stream",
     "text": [
      "Top 30 features:\n",
      "['Overall Qual', 'Gr Liv Area', 'Total Bsmt SF', '1st Flr SF', 'BsmtFin SF 1', '2nd Flr SF', 'Lot Area', 'Year Built', 'Garage Area', 'Garage Cars', 'Full Bath', 'Year Remod/Add', 'PID', 'Lot Frontage', 'Open Porch SF', 'Bsmt Unf SF', 'Mo Sold', 'Garage Yr Blt', 'Overall Cond', 'Mas Vnr Area', 'Wood Deck SF', 'Order', 'MS Zoning_RM', 'Fireplaces', 'Bsmt Full Bath', 'Garage Finish_Unf', 'TotRms AbvGrd', 'Central Air_Y', 'Kitchen Qual_TA', 'Screen Porch']\n"
     ]
    }
   ],
   "source": [
    "from sklearn.ensemble import RandomForestRegressor\n",
    "import pandas as pd\n",
    "import numpy as np\n",
    "\n",
    "# Fit model on full train set\n",
    "rf = RandomForestRegressor(n_estimators=100, random_state=42)\n",
    "rf.fit(X_train, y_train)\n",
    "\n",
    "# Get feature importances\n",
    "importances = pd.Series(rf.feature_importances_, index=X_train.columns)\n",
    "top_features = importances.sort_values(ascending=False).head(30).index.tolist()\n",
    "\n",
    "print(\"Top 30 features:\")\n",
    "print(top_features)"
   ]
  },
  {
   "cell_type": "code",
   "execution_count": 45,
   "metadata": {},
   "outputs": [],
   "source": [
    "X_train_reduced = X_train[top_features]\n",
    "X_test_reduced = X_test[top_features]"
   ]
  },
  {
   "cell_type": "code",
   "execution_count": 48,
   "metadata": {},
   "outputs": [],
   "source": [
    "# Trial 1:\n",
    "#   Parameters: {'max_depth': [], 'max_depth_rf': [15], 'max_features': [0.5187271051824991], 'min_samples_split': [], 'model_type': [1], 'n_estimators': [210.0]}\n",
    "#   Loss (negative R2): -0.9042425168846234\n",
    "#   Status: ok\n",
    "\n",
    "# Trial 2:\n",
    "#   Parameters: {'max_depth': [], 'max_depth_rf': [11], 'max_features': [0.42220165173258917], 'min_samples_split': [], 'model_type': [1], 'n_estimators': [230.0]}\n",
    "#   Loss (negative R2): -0.9035098244506085\n",
    "#   Status: ok\n",
    "\n",
    "# Trial 3:\n",
    "#   Parameters: {'max_depth': [], 'max_depth_rf': [11], 'max_features': [0.549418197179458], 'min_samples_split': [], 'model_type': [1], 'n_estimators': [280.0]}\n",
    "#   Loss (negative R2): -0.903442805476236\n",
    "#   Status: ok\n",
    "\n",
    "# Top Hyperopt models\n",
    "top_models = [\n",
    "    {'n_estimators': 210, 'max_depth': 15, 'max_features': 0.51873},\n",
    "    {'n_estimators': 230, 'max_depth': 11, 'max_features': 0.42220},\n",
    "    {'n_estimators': 280, 'max_depth': 11, 'max_features': 0.54942}\n",
    "]"
   ]
  },
  {
   "cell_type": "code",
   "execution_count": 50,
   "metadata": {},
   "outputs": [],
   "source": [
    "# Upload limit 32 MiB\n",
    "# Set environment variables to enable chunked uploads\n",
    "\n",
    "import os\n",
    "\n",
    "# Turn on chunked (“proxy multipart”) uploads  \n",
    "os.environ[\"MLFLOW_ENABLE_PROXY_MULTIPART_UPLOAD\"]      = \"True\"  \n",
    "# Send at most 10 MB per HTTP request  \n",
    "os.environ[\"MLFLOW_MULTIPART_UPLOAD_CHUNK_SIZE\"]         = str(10 * 1024 * 1024)  \n",
    "# Switch to chunked mode for any file ≥ 5 MB  \n",
    "os.environ[\"MLFLOW_MULTIPART_UPLOAD_MINIMUM_FILE_SIZE\"]  = str(5 * 1024 * 1024)"
   ]
  },
  {
   "cell_type": "code",
   "execution_count": 51,
   "metadata": {},
   "outputs": [
    {
     "name": "stderr",
     "output_type": "stream",
     "text": [
      "2025/04/17 10:26:30 WARNING mlflow.utils.environment: Failed to resolve installed pip version. ``pip`` will be added to conda.yaml environment spec without a version specifier.\n",
      "2025/04/17 10:27:01 WARNING mlflow.models.model: Input example should be provided to infer model signature if the model signature is not provided when logging the model.\n",
      "2025/04/17 10:27:04 INFO mlflow.tracking._tracking_service.client: 🏃 View run Top_Model_1 at: https://mlflow-server-931658252548.us-west2.run.app/#/experiments/3/runs/b9f54dc22be544c3b7aadcc00528de99.\n",
      "2025/04/17 10:27:04 INFO mlflow.tracking._tracking_service.client: 🧪 View experiment at: https://mlflow-server-931658252548.us-west2.run.app/#/experiments/3.\n",
      "2025/04/17 10:27:07 WARNING mlflow.utils.environment: Failed to resolve installed pip version. ``pip`` will be added to conda.yaml environment spec without a version specifier.\n",
      "2025/04/17 10:27:33 WARNING mlflow.models.model: Input example should be provided to infer model signature if the model signature is not provided when logging the model.\n",
      "2025/04/17 10:27:40 INFO mlflow.tracking._tracking_service.client: 🏃 View run Top_Model_2 at: https://mlflow-server-931658252548.us-west2.run.app/#/experiments/3/runs/b37e9e8f3ba1483b98120f17379556e4.\n",
      "2025/04/17 10:27:40 INFO mlflow.tracking._tracking_service.client: 🧪 View experiment at: https://mlflow-server-931658252548.us-west2.run.app/#/experiments/3.\n",
      "2025/04/17 10:27:43 WARNING mlflow.utils.environment: Failed to resolve installed pip version. ``pip`` will be added to conda.yaml environment spec without a version specifier.\n",
      "2025/04/17 10:27:59 WARNING mlflow.models.model: Input example should be provided to infer model signature if the model signature is not provided when logging the model.\n",
      "2025/04/17 10:28:14 INFO mlflow.tracking._tracking_service.client: 🏃 View run Top_Model_3 at: https://mlflow-server-931658252548.us-west2.run.app/#/experiments/3/runs/78eabbd7b7d749c1933a107a26ec6436.\n",
      "2025/04/17 10:28:14 INFO mlflow.tracking._tracking_service.client: 🧪 View experiment at: https://mlflow-server-931658252548.us-west2.run.app/#/experiments/3.\n"
     ]
    }
   ],
   "source": [
    "from sklearn.metrics import mean_squared_error, r2_score\n",
    "\n",
    "for idx, params in enumerate(top_models, 1):\n",
    "    with mlflow.start_run(run_name=f\"Top_Model_{idx}\"):\n",
    "        mlflow.set_tag(\"model_type\", \"random_forest_top\")\n",
    "        mlflow.log_params(params)\n",
    "\n",
    "        model = RandomForestRegressor(\n",
    "            n_estimators=params['n_estimators'],\n",
    "            max_depth=params['max_depth'],\n",
    "            max_features=params['max_features'],\n",
    "            random_state=42\n",
    "        )\n",
    "        model.fit(X_train_reduced, y_train)\n",
    "\n",
    "        preds = model.predict(X_test_reduced)\n",
    "        mse = mean_squared_error(y_test, preds)\n",
    "        r2 = r2_score(y_test, preds)\n",
    "\n",
    "        mlflow.log_metric(\"test_mse\", mse)\n",
    "        mlflow.log_metric(\"test_r2\", r2)\n",
    "\n",
    "        # Save model\n",
    "        mlflow.sklearn.log_model(model, \"model\")\n",
    "\n",
    "        # Save final data used\n",
    "        X_train_reduced.to_parquet(\"data_cleaned/X_train_reduced.parquet\")\n",
    "        X_test_reduced.to_parquet(\"data_cleaned/X_test_reduced.parquet\")\n",
    "        mlflow.log_artifacts(\"data_cleaned/\")\n"
   ]
  },
  {
   "cell_type": "code",
   "execution_count": 52,
   "metadata": {},
   "outputs": [
    {
     "name": "stdout",
     "output_type": "stream",
     "text": [
      "Best Run ID: b9f54dc22be544c3b7aadcc00528de99\n"
     ]
    }
   ],
   "source": [
    "import mlflow\n",
    "\n",
    "runs = mlflow.search_runs(experiment_names=[\"ames-housing-models\"])\n",
    "best_run_id = runs.sort_values(\"metrics.test_r2\", ascending=False).iloc[0][\"run_id\"]\n",
    "print(\"Best Run ID:\", best_run_id)"
   ]
  },
  {
   "cell_type": "code",
   "execution_count": 53,
   "metadata": {},
   "outputs": [
    {
     "name": "stderr",
     "output_type": "stream",
     "text": [
      "Successfully registered model 'ames_housing_final_model'.\n",
      "2025/04/17 10:28:20 INFO mlflow.store.model_registry.abstract_store: Waiting up to 300 seconds for model version to finish creation. Model name: ames_housing_final_model, version 1\n",
      "Created version '1' of model 'ames_housing_final_model'.\n"
     ]
    },
    {
     "data": {
      "text/plain": [
       "<ModelVersion: aliases=[], creation_timestamp=1744910900276, current_stage='None', description='', last_updated_timestamp=1744910900276, name='ames_housing_final_model', run_id='b9f54dc22be544c3b7aadcc00528de99', run_link='', source='mlflow-artifacts:/3/b9f54dc22be544c3b7aadcc00528de99/artifacts/model', status='READY', status_message='', tags={}, user_id='', version='1'>"
      ]
     },
     "execution_count": 53,
     "metadata": {},
     "output_type": "execute_result"
    }
   ],
   "source": [
    "model_uri = f\"runs:/{best_run_id}/model\"\n",
    "mlflow.register_model(model_uri, \"ames_housing_final_model\")"
   ]
  }
 ],
 "metadata": {
  "kernelspec": {
   "display_name": "mlops",
   "language": "python",
   "name": "python3"
  },
  "language_info": {
   "codemirror_mode": {
    "name": "ipython",
    "version": 3
   },
   "file_extension": ".py",
   "mimetype": "text/x-python",
   "name": "python",
   "nbconvert_exporter": "python",
   "pygments_lexer": "ipython3",
   "version": "3.12.8"
  }
 },
 "nbformat": 4,
 "nbformat_minor": 2
}
